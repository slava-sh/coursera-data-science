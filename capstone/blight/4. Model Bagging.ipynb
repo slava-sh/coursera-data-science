{
 "cells": [
  {
   "cell_type": "code",
   "execution_count": 1,
   "metadata": {
    "collapsed": false
   },
   "outputs": [
    {
     "name": "stderr",
     "output_type": "stream",
     "text": [
      "/workspace/conda/envs/ds/lib/python3.5/site-packages/sklearn/cross_validation.py:44: DeprecationWarning: This module was deprecated in version 0.18 in favor of the model_selection module into which all the refactored classes and functions are moved. Also note that the interface of the new CV iterators are different from that of this module. This module will be removed in 0.20.\n",
      "  \"This module will be removed in 0.20.\", DeprecationWarning)\n"
     ]
    }
   ],
   "source": [
    "%matplotlib inline\n",
    "import numpy as np\n",
    "import pandas as pd\n",
    "import matplotlib.pyplot as plt\n",
    "from sklearn.model_selection import RandomizedSearchCV\n",
    "from sklearn.model_selection import train_test_split\n",
    "from sklearn.metrics import accuracy_score\n",
    "from sklearn.metrics import classification_report\n",
    "from sklearn.metrics import precision_recall_curve\n",
    "from sklearn.ensemble import BaggingClassifier\n",
    "import pickle\n",
    "import xgboost as xgb"
   ]
  },
  {
   "cell_type": "code",
   "execution_count": 2,
   "metadata": {
    "collapsed": true
   },
   "outputs": [],
   "source": [
    "with open('output/2/train.pickle', 'rb') as f:\n",
    "    train = pickle.load(f)"
   ]
  },
  {
   "cell_type": "code",
   "execution_count": 3,
   "metadata": {
    "collapsed": false
   },
   "outputs": [
    {
     "name": "stdout",
     "output_type": "stream",
     "text": [
      "(10444, 146) (10444,) 0.5\n"
     ]
    }
   ],
   "source": [
    "print(train.data.shape, train.target.shape, train.target.mean())"
   ]
  },
  {
   "cell_type": "code",
   "execution_count": 4,
   "metadata": {
    "collapsed": false,
    "scrolled": false
   },
   "outputs": [
    {
     "name": "stdout",
     "output_type": "stream",
     "text": [
      "Fitting 3 folds for each of 30 candidates, totalling 90 fits\n",
      "[CV] min_child_weight=3, colsample_bylevel=0.75, subsample=1.0, max_depth=4, colsample_bytree=1.0, gamma=0 \n",
      "[CV]  min_child_weight=3, colsample_bylevel=0.75, subsample=1.0, max_depth=4, colsample_bytree=1.0, gamma=0, score=0.736721, total=   1.7s\n",
      "[CV] min_child_weight=3, colsample_bylevel=0.75, subsample=1.0, max_depth=4, colsample_bytree=1.0, gamma=0 \n"
     ]
    },
    {
     "name": "stderr",
     "output_type": "stream",
     "text": [
      "[Parallel(n_jobs=1)]: Done   1 out of   1 | elapsed:    1.8s remaining:    0.0s\n"
     ]
    },
    {
     "name": "stdout",
     "output_type": "stream",
     "text": [
      "[CV]  min_child_weight=3, colsample_bylevel=0.75, subsample=1.0, max_depth=4, colsample_bytree=1.0, gamma=0, score=0.715502, total=   1.7s\n",
      "[CV] min_child_weight=3, colsample_bylevel=0.75, subsample=1.0, max_depth=4, colsample_bytree=1.0, gamma=0 \n"
     ]
    },
    {
     "name": "stderr",
     "output_type": "stream",
     "text": [
      "[Parallel(n_jobs=1)]: Done   2 out of   2 | elapsed:    3.5s remaining:    0.0s\n"
     ]
    },
    {
     "name": "stdout",
     "output_type": "stream",
     "text": [
      "[CV]  min_child_weight=3, colsample_bylevel=0.75, subsample=1.0, max_depth=4, colsample_bytree=1.0, gamma=0, score=0.725250, total=   1.7s\n",
      "[CV] min_child_weight=1, colsample_bylevel=0.75, subsample=0.75, max_depth=3, colsample_bytree=0.75, gamma=0 \n"
     ]
    },
    {
     "name": "stderr",
     "output_type": "stream",
     "text": [
      "[Parallel(n_jobs=1)]: Done   3 out of   3 | elapsed:    5.3s remaining:    0.0s\n"
     ]
    },
    {
     "name": "stdout",
     "output_type": "stream",
     "text": [
      "[CV]  min_child_weight=1, colsample_bylevel=0.75, subsample=0.75, max_depth=3, colsample_bytree=0.75, gamma=0, score=0.732489, total=   1.2s\n",
      "[CV] min_child_weight=1, colsample_bylevel=0.75, subsample=0.75, max_depth=3, colsample_bytree=0.75, gamma=0 \n"
     ]
    },
    {
     "name": "stderr",
     "output_type": "stream",
     "text": [
      "[Parallel(n_jobs=1)]: Done   4 out of   4 | elapsed:    6.5s remaining:    0.0s\n"
     ]
    },
    {
     "name": "stdout",
     "output_type": "stream",
     "text": [
      "[CV]  min_child_weight=1, colsample_bylevel=0.75, subsample=0.75, max_depth=3, colsample_bytree=0.75, gamma=0, score=0.713349, total=   1.2s\n",
      "[CV] min_child_weight=1, colsample_bylevel=0.75, subsample=0.75, max_depth=3, colsample_bytree=0.75, gamma=0 \n",
      "[CV]  min_child_weight=1, colsample_bylevel=0.75, subsample=0.75, max_depth=3, colsample_bytree=0.75, gamma=0, score=0.721963, total=   1.2s\n",
      "[CV] min_child_weight=1, colsample_bylevel=1.0, subsample=1.0, max_depth=2, colsample_bytree=0.75, gamma=3 \n",
      "[CV]  min_child_weight=1, colsample_bylevel=1.0, subsample=1.0, max_depth=2, colsample_bytree=0.75, gamma=3, score=0.720992, total=   0.9s\n",
      "[CV] min_child_weight=1, colsample_bylevel=1.0, subsample=1.0, max_depth=2, colsample_bytree=0.75, gamma=3 \n",
      "[CV]  min_child_weight=1, colsample_bylevel=1.0, subsample=1.0, max_depth=2, colsample_bytree=0.75, gamma=3, score=0.708031, total=   1.0s\n",
      "[CV] min_child_weight=1, colsample_bylevel=1.0, subsample=1.0, max_depth=2, colsample_bytree=0.75, gamma=3 \n",
      "[CV]  min_child_weight=1, colsample_bylevel=1.0, subsample=1.0, max_depth=2, colsample_bytree=0.75, gamma=3, score=0.712502, total=   1.0s\n",
      "[CV] min_child_weight=1, colsample_bylevel=1.0, subsample=1.0, max_depth=5, colsample_bytree=1.0, gamma=2 \n",
      "[CV]  min_child_weight=1, colsample_bylevel=1.0, subsample=1.0, max_depth=5, colsample_bytree=1.0, gamma=2, score=0.737628, total=   2.8s\n",
      "[CV] min_child_weight=1, colsample_bylevel=1.0, subsample=1.0, max_depth=5, colsample_bytree=1.0, gamma=2 \n",
      "[CV]  min_child_weight=1, colsample_bylevel=1.0, subsample=1.0, max_depth=5, colsample_bytree=1.0, gamma=2, score=0.712825, total=   2.8s\n",
      "[CV] min_child_weight=1, colsample_bylevel=1.0, subsample=1.0, max_depth=5, colsample_bytree=1.0, gamma=2 \n",
      "[CV]  min_child_weight=1, colsample_bylevel=1.0, subsample=1.0, max_depth=5, colsample_bytree=1.0, gamma=2, score=0.726172, total=   2.8s\n",
      "[CV] min_child_weight=3, colsample_bylevel=1.0, subsample=0.75, max_depth=2, colsample_bytree=1.0, gamma=1 \n",
      "[CV]  min_child_weight=3, colsample_bylevel=1.0, subsample=0.75, max_depth=2, colsample_bytree=1.0, gamma=1, score=0.725236, total=   1.3s\n",
      "[CV] min_child_weight=3, colsample_bylevel=1.0, subsample=0.75, max_depth=2, colsample_bytree=1.0, gamma=1 \n",
      "[CV]  min_child_weight=3, colsample_bylevel=1.0, subsample=0.75, max_depth=2, colsample_bytree=1.0, gamma=1, score=0.708284, total=   1.3s\n",
      "[CV] min_child_weight=3, colsample_bylevel=1.0, subsample=0.75, max_depth=2, colsample_bytree=1.0, gamma=1 \n",
      "[CV]  min_child_weight=3, colsample_bylevel=1.0, subsample=0.75, max_depth=2, colsample_bytree=1.0, gamma=1, score=0.712658, total=   1.3s\n",
      "[CV] min_child_weight=3, colsample_bylevel=0.75, subsample=1.0, max_depth=4, colsample_bytree=1.0, gamma=1 \n",
      "[CV]  min_child_weight=3, colsample_bylevel=0.75, subsample=1.0, max_depth=4, colsample_bytree=1.0, gamma=1, score=0.733224, total=   1.7s\n",
      "[CV] min_child_weight=3, colsample_bylevel=0.75, subsample=1.0, max_depth=4, colsample_bytree=1.0, gamma=1 \n",
      "[CV]  min_child_weight=3, colsample_bylevel=0.75, subsample=1.0, max_depth=4, colsample_bytree=1.0, gamma=1, score=0.711364, total=   1.7s\n",
      "[CV] min_child_weight=3, colsample_bylevel=0.75, subsample=1.0, max_depth=4, colsample_bytree=1.0, gamma=1 \n",
      "[CV]  min_child_weight=3, colsample_bylevel=0.75, subsample=1.0, max_depth=4, colsample_bytree=1.0, gamma=1, score=0.724384, total=   1.7s\n",
      "[CV] min_child_weight=3, colsample_bylevel=1.0, subsample=0.75, max_depth=3, colsample_bytree=0.75, gamma=3 \n",
      "[CV]  min_child_weight=3, colsample_bylevel=1.0, subsample=0.75, max_depth=3, colsample_bytree=0.75, gamma=3, score=0.726998, total=   1.5s\n",
      "[CV] min_child_weight=3, colsample_bylevel=1.0, subsample=0.75, max_depth=3, colsample_bytree=0.75, gamma=3 \n",
      "[CV]  min_child_weight=3, colsample_bylevel=1.0, subsample=0.75, max_depth=3, colsample_bytree=0.75, gamma=3, score=0.712688, total=   1.5s\n",
      "[CV] min_child_weight=3, colsample_bylevel=1.0, subsample=0.75, max_depth=3, colsample_bytree=0.75, gamma=3 \n",
      "[CV]  min_child_weight=3, colsample_bylevel=1.0, subsample=0.75, max_depth=3, colsample_bytree=0.75, gamma=3, score=0.723985, total=   1.5s\n",
      "[CV] min_child_weight=1, colsample_bylevel=0.75, subsample=1.0, max_depth=5, colsample_bytree=0.75, gamma=0 \n",
      "[CV]  min_child_weight=1, colsample_bylevel=0.75, subsample=1.0, max_depth=5, colsample_bytree=0.75, gamma=0, score=0.735416, total=   1.7s\n",
      "[CV] min_child_weight=1, colsample_bylevel=0.75, subsample=1.0, max_depth=5, colsample_bytree=0.75, gamma=0 \n",
      "[CV]  min_child_weight=1, colsample_bylevel=0.75, subsample=1.0, max_depth=5, colsample_bytree=0.75, gamma=0, score=0.717708, total=   1.7s\n",
      "[CV] min_child_weight=1, colsample_bylevel=0.75, subsample=1.0, max_depth=5, colsample_bytree=0.75, gamma=0 \n",
      "[CV]  min_child_weight=1, colsample_bylevel=0.75, subsample=1.0, max_depth=5, colsample_bytree=0.75, gamma=0, score=0.725019, total=   1.7s\n",
      "[CV] min_child_weight=2, colsample_bylevel=1.0, subsample=1.0, max_depth=4, colsample_bytree=0.75, gamma=1 \n",
      "[CV]  min_child_weight=2, colsample_bylevel=1.0, subsample=1.0, max_depth=4, colsample_bytree=0.75, gamma=1, score=0.734799, total=   1.7s\n",
      "[CV] min_child_weight=2, colsample_bylevel=1.0, subsample=1.0, max_depth=4, colsample_bytree=0.75, gamma=1 \n",
      "[CV]  min_child_weight=2, colsample_bylevel=1.0, subsample=1.0, max_depth=4, colsample_bytree=0.75, gamma=1, score=0.716957, total=   1.7s\n",
      "[CV] min_child_weight=2, colsample_bylevel=1.0, subsample=1.0, max_depth=4, colsample_bytree=0.75, gamma=1 \n",
      "[CV]  min_child_weight=2, colsample_bylevel=1.0, subsample=1.0, max_depth=4, colsample_bytree=0.75, gamma=1, score=0.726704, total=   1.7s\n",
      "[CV] min_child_weight=1, colsample_bylevel=0.75, subsample=0.75, max_depth=5, colsample_bytree=0.75, gamma=0 \n",
      "[CV]  min_child_weight=1, colsample_bylevel=0.75, subsample=0.75, max_depth=5, colsample_bytree=0.75, gamma=0, score=0.736551, total=   1.9s\n",
      "[CV] min_child_weight=1, colsample_bylevel=0.75, subsample=0.75, max_depth=5, colsample_bytree=0.75, gamma=0 \n",
      "[CV]  min_child_weight=1, colsample_bylevel=0.75, subsample=0.75, max_depth=5, colsample_bytree=0.75, gamma=0, score=0.716639, total=   1.9s\n",
      "[CV] min_child_weight=1, colsample_bylevel=0.75, subsample=0.75, max_depth=5, colsample_bytree=0.75, gamma=0 \n",
      "[CV]  min_child_weight=1, colsample_bylevel=0.75, subsample=0.75, max_depth=5, colsample_bytree=0.75, gamma=0, score=0.730464, total=   1.9s\n",
      "[CV] min_child_weight=1, colsample_bylevel=0.75, subsample=0.75, max_depth=4, colsample_bytree=0.75, gamma=3 \n",
      "[CV]  min_child_weight=1, colsample_bylevel=0.75, subsample=0.75, max_depth=4, colsample_bytree=0.75, gamma=3, score=0.732535, total=   1.5s\n",
      "[CV] min_child_weight=1, colsample_bylevel=0.75, subsample=0.75, max_depth=4, colsample_bytree=0.75, gamma=3 \n",
      "[CV]  min_child_weight=1, colsample_bylevel=0.75, subsample=0.75, max_depth=4, colsample_bytree=0.75, gamma=3, score=0.714521, total=   1.5s\n",
      "[CV] min_child_weight=1, colsample_bylevel=0.75, subsample=0.75, max_depth=4, colsample_bytree=0.75, gamma=3 \n",
      "[CV]  min_child_weight=1, colsample_bylevel=0.75, subsample=0.75, max_depth=4, colsample_bytree=0.75, gamma=3, score=0.724580, total=   1.5s\n",
      "[CV] min_child_weight=1, colsample_bylevel=1.0, subsample=0.75, max_depth=3, colsample_bytree=0.75, gamma=0 \n",
      "[CV]  min_child_weight=1, colsample_bylevel=1.0, subsample=0.75, max_depth=3, colsample_bytree=0.75, gamma=0, score=0.727955, total=   1.5s\n",
      "[CV] min_child_weight=1, colsample_bylevel=1.0, subsample=0.75, max_depth=3, colsample_bytree=0.75, gamma=0 \n",
      "[CV]  min_child_weight=1, colsample_bylevel=1.0, subsample=0.75, max_depth=3, colsample_bytree=0.75, gamma=0, score=0.716110, total=   1.5s\n",
      "[CV] min_child_weight=1, colsample_bylevel=1.0, subsample=0.75, max_depth=3, colsample_bytree=0.75, gamma=0 \n",
      "[CV]  min_child_weight=1, colsample_bylevel=1.0, subsample=0.75, max_depth=3, colsample_bytree=0.75, gamma=0, score=0.724426, total=   1.5s\n",
      "[CV] min_child_weight=2, colsample_bylevel=1.0, subsample=0.75, max_depth=4, colsample_bytree=0.75, gamma=0 \n",
      "[CV]  min_child_weight=2, colsample_bylevel=1.0, subsample=0.75, max_depth=4, colsample_bytree=0.75, gamma=0, score=0.733721, total=   1.9s\n",
      "[CV] min_child_weight=2, colsample_bylevel=1.0, subsample=0.75, max_depth=4, colsample_bytree=0.75, gamma=0 \n",
      "[CV]  min_child_weight=2, colsample_bylevel=1.0, subsample=0.75, max_depth=4, colsample_bytree=0.75, gamma=0, score=0.718026, total=   1.9s\n",
      "[CV] min_child_weight=2, colsample_bylevel=1.0, subsample=0.75, max_depth=4, colsample_bytree=0.75, gamma=0 \n",
      "[CV]  min_child_weight=2, colsample_bylevel=1.0, subsample=0.75, max_depth=4, colsample_bytree=0.75, gamma=0, score=0.724880, total=   1.9s\n",
      "[CV] min_child_weight=0, colsample_bylevel=1.0, subsample=1.0, max_depth=4, colsample_bytree=1.0, gamma=3 \n",
      "[CV]  min_child_weight=0, colsample_bylevel=1.0, subsample=1.0, max_depth=4, colsample_bytree=1.0, gamma=3, score=0.732093, total=   2.2s\n",
      "[CV] min_child_weight=0, colsample_bylevel=1.0, subsample=1.0, max_depth=4, colsample_bytree=1.0, gamma=3 \n",
      "[CV]  min_child_weight=0, colsample_bylevel=1.0, subsample=1.0, max_depth=4, colsample_bytree=1.0, gamma=3, score=0.717077, total=   2.2s\n",
      "[CV] min_child_weight=0, colsample_bylevel=1.0, subsample=1.0, max_depth=4, colsample_bytree=1.0, gamma=3 \n",
      "[CV]  min_child_weight=0, colsample_bylevel=1.0, subsample=1.0, max_depth=4, colsample_bytree=1.0, gamma=3, score=0.725982, total=   2.2s\n",
      "[CV] min_child_weight=3, colsample_bylevel=1.0, subsample=0.75, max_depth=3, colsample_bytree=1.0, gamma=1 \n",
      "[CV]  min_child_weight=3, colsample_bylevel=1.0, subsample=0.75, max_depth=3, colsample_bytree=1.0, gamma=1, score=0.730569, total=   1.9s\n",
      "[CV] min_child_weight=3, colsample_bylevel=1.0, subsample=0.75, max_depth=3, colsample_bytree=1.0, gamma=1 \n",
      "[CV]  min_child_weight=3, colsample_bylevel=1.0, subsample=0.75, max_depth=3, colsample_bytree=1.0, gamma=1, score=0.710273, total=   1.9s\n",
      "[CV] min_child_weight=3, colsample_bylevel=1.0, subsample=0.75, max_depth=3, colsample_bytree=1.0, gamma=1 \n",
      "[CV]  min_child_weight=3, colsample_bylevel=1.0, subsample=0.75, max_depth=3, colsample_bytree=1.0, gamma=1, score=0.724838, total=   1.9s\n",
      "[CV] min_child_weight=1, colsample_bylevel=1.0, subsample=0.75, max_depth=5, colsample_bytree=0.75, gamma=2 \n",
      "[CV]  min_child_weight=1, colsample_bylevel=1.0, subsample=0.75, max_depth=5, colsample_bytree=0.75, gamma=2, score=0.735431, total=   2.4s\n",
      "[CV] min_child_weight=1, colsample_bylevel=1.0, subsample=0.75, max_depth=5, colsample_bytree=0.75, gamma=2 \n",
      "[CV]  min_child_weight=1, colsample_bylevel=1.0, subsample=0.75, max_depth=5, colsample_bytree=0.75, gamma=2, score=0.718437, total=   2.4s\n",
      "[CV] min_child_weight=1, colsample_bylevel=1.0, subsample=0.75, max_depth=5, colsample_bytree=0.75, gamma=2 \n",
      "[CV]  min_child_weight=1, colsample_bylevel=1.0, subsample=0.75, max_depth=5, colsample_bytree=0.75, gamma=2, score=0.725879, total=   2.4s\n",
      "[CV] min_child_weight=3, colsample_bylevel=0.75, subsample=0.75, max_depth=4, colsample_bytree=1.0, gamma=1 \n",
      "[CV]  min_child_weight=3, colsample_bylevel=0.75, subsample=0.75, max_depth=4, colsample_bytree=1.0, gamma=1, score=0.735584, total=   1.9s\n",
      "[CV] min_child_weight=3, colsample_bylevel=0.75, subsample=0.75, max_depth=4, colsample_bytree=1.0, gamma=1 \n",
      "[CV]  min_child_weight=3, colsample_bylevel=0.75, subsample=0.75, max_depth=4, colsample_bytree=1.0, gamma=1, score=0.711667, total=   1.9s\n",
      "[CV] min_child_weight=3, colsample_bylevel=0.75, subsample=0.75, max_depth=4, colsample_bytree=1.0, gamma=1 \n",
      "[CV]  min_child_weight=3, colsample_bylevel=0.75, subsample=0.75, max_depth=4, colsample_bytree=1.0, gamma=1, score=0.728020, total=   1.9s\n",
      "[CV] min_child_weight=0, colsample_bylevel=1.0, subsample=0.75, max_depth=4, colsample_bytree=0.75, gamma=0 \n",
      "[CV]  min_child_weight=0, colsample_bylevel=1.0, subsample=0.75, max_depth=4, colsample_bytree=0.75, gamma=0, score=0.734781, total=   1.9s\n",
      "[CV] min_child_weight=0, colsample_bylevel=1.0, subsample=0.75, max_depth=4, colsample_bytree=0.75, gamma=0 \n",
      "[CV]  min_child_weight=0, colsample_bylevel=1.0, subsample=0.75, max_depth=4, colsample_bytree=0.75, gamma=0, score=0.718925, total=   1.9s\n",
      "[CV] min_child_weight=0, colsample_bylevel=1.0, subsample=0.75, max_depth=4, colsample_bytree=0.75, gamma=0 \n",
      "[CV]  min_child_weight=0, colsample_bylevel=1.0, subsample=0.75, max_depth=4, colsample_bytree=0.75, gamma=0, score=0.727213, total=   1.9s\n",
      "[CV] min_child_weight=3, colsample_bylevel=0.75, subsample=0.75, max_depth=4, colsample_bytree=0.75, gamma=0 \n",
      "[CV]  min_child_weight=3, colsample_bylevel=0.75, subsample=0.75, max_depth=4, colsample_bytree=0.75, gamma=0, score=0.732450, total=   1.5s\n",
      "[CV] min_child_weight=3, colsample_bylevel=0.75, subsample=0.75, max_depth=4, colsample_bytree=0.75, gamma=0 \n",
      "[CV]  min_child_weight=3, colsample_bylevel=0.75, subsample=0.75, max_depth=4, colsample_bytree=0.75, gamma=0, score=0.715431, total=   1.5s\n",
      "[CV] min_child_weight=3, colsample_bylevel=0.75, subsample=0.75, max_depth=4, colsample_bytree=0.75, gamma=0 \n",
      "[CV]  min_child_weight=3, colsample_bylevel=0.75, subsample=0.75, max_depth=4, colsample_bytree=0.75, gamma=0, score=0.724552, total=   1.5s\n",
      "[CV] min_child_weight=3, colsample_bylevel=1.0, subsample=1.0, max_depth=2, colsample_bytree=0.75, gamma=1 \n",
      "[CV]  min_child_weight=3, colsample_bylevel=1.0, subsample=1.0, max_depth=2, colsample_bytree=0.75, gamma=1, score=0.720824, total=   0.9s\n",
      "[CV] min_child_weight=3, colsample_bylevel=1.0, subsample=1.0, max_depth=2, colsample_bytree=0.75, gamma=1 \n",
      "[CV]  min_child_weight=3, colsample_bylevel=1.0, subsample=1.0, max_depth=2, colsample_bytree=0.75, gamma=1, score=0.706485, total=   1.0s\n",
      "[CV] min_child_weight=3, colsample_bylevel=1.0, subsample=1.0, max_depth=2, colsample_bytree=0.75, gamma=1 \n",
      "[CV]  min_child_weight=3, colsample_bylevel=1.0, subsample=1.0, max_depth=2, colsample_bytree=0.75, gamma=1, score=0.713886, total=   0.9s\n",
      "[CV] min_child_weight=0, colsample_bylevel=0.75, subsample=0.75, max_depth=5, colsample_bytree=1.0, gamma=0 \n",
      "[CV]  min_child_weight=0, colsample_bylevel=0.75, subsample=0.75, max_depth=5, colsample_bytree=1.0, gamma=0, score=0.734143, total=   2.4s\n",
      "[CV] min_child_weight=0, colsample_bylevel=0.75, subsample=0.75, max_depth=5, colsample_bytree=1.0, gamma=0 \n",
      "[CV]  min_child_weight=0, colsample_bylevel=0.75, subsample=0.75, max_depth=5, colsample_bytree=1.0, gamma=0, score=0.718818, total=   2.4s\n",
      "[CV] min_child_weight=0, colsample_bylevel=0.75, subsample=0.75, max_depth=5, colsample_bytree=1.0, gamma=0 \n",
      "[CV]  min_child_weight=0, colsample_bylevel=0.75, subsample=0.75, max_depth=5, colsample_bytree=1.0, gamma=0, score=0.732352, total=   2.4s\n",
      "[CV] min_child_weight=2, colsample_bylevel=1.0, subsample=1.0, max_depth=4, colsample_bytree=1.0, gamma=0 \n",
      "[CV]  min_child_weight=2, colsample_bylevel=1.0, subsample=1.0, max_depth=4, colsample_bytree=1.0, gamma=0, score=0.734577, total=   2.2s\n",
      "[CV] min_child_weight=2, colsample_bylevel=1.0, subsample=1.0, max_depth=4, colsample_bytree=1.0, gamma=0 \n",
      "[CV]  min_child_weight=2, colsample_bylevel=1.0, subsample=1.0, max_depth=4, colsample_bytree=1.0, gamma=0, score=0.714096, total=   2.2s\n",
      "[CV] min_child_weight=2, colsample_bylevel=1.0, subsample=1.0, max_depth=4, colsample_bytree=1.0, gamma=0 \n",
      "[CV]  min_child_weight=2, colsample_bylevel=1.0, subsample=1.0, max_depth=4, colsample_bytree=1.0, gamma=0, score=0.724915, total=   2.2s\n",
      "[CV] min_child_weight=2, colsample_bylevel=1.0, subsample=1.0, max_depth=4, colsample_bytree=0.75, gamma=2 \n",
      "[CV]  min_child_weight=2, colsample_bylevel=1.0, subsample=1.0, max_depth=4, colsample_bytree=0.75, gamma=2, score=0.735942, total=   1.7s\n",
      "[CV] min_child_weight=2, colsample_bylevel=1.0, subsample=1.0, max_depth=4, colsample_bytree=0.75, gamma=2 \n",
      "[CV]  min_child_weight=2, colsample_bylevel=1.0, subsample=1.0, max_depth=4, colsample_bytree=0.75, gamma=2, score=0.715260, total=   1.7s\n",
      "[CV] min_child_weight=2, colsample_bylevel=1.0, subsample=1.0, max_depth=4, colsample_bytree=0.75, gamma=2 \n",
      "[CV]  min_child_weight=2, colsample_bylevel=1.0, subsample=1.0, max_depth=4, colsample_bytree=0.75, gamma=2, score=0.723449, total=   1.7s\n",
      "[CV] min_child_weight=3, colsample_bylevel=0.75, subsample=1.0, max_depth=3, colsample_bytree=0.75, gamma=1 \n",
      "[CV]  min_child_weight=3, colsample_bylevel=0.75, subsample=1.0, max_depth=3, colsample_bytree=0.75, gamma=1, score=0.728883, total=   1.1s\n",
      "[CV] min_child_weight=3, colsample_bylevel=0.75, subsample=1.0, max_depth=3, colsample_bytree=0.75, gamma=1 \n",
      "[CV]  min_child_weight=3, colsample_bylevel=0.75, subsample=1.0, max_depth=3, colsample_bytree=0.75, gamma=1, score=0.715892, total=   1.1s\n",
      "[CV] min_child_weight=3, colsample_bylevel=0.75, subsample=1.0, max_depth=3, colsample_bytree=0.75, gamma=1 \n",
      "[CV]  min_child_weight=3, colsample_bylevel=0.75, subsample=1.0, max_depth=3, colsample_bytree=0.75, gamma=1, score=0.721738, total=   1.1s\n",
      "[CV] min_child_weight=1, colsample_bylevel=0.75, subsample=0.75, max_depth=4, colsample_bytree=0.75, gamma=1 \n",
      "[CV]  min_child_weight=1, colsample_bylevel=0.75, subsample=0.75, max_depth=4, colsample_bytree=0.75, gamma=1, score=0.734546, total=   1.5s\n",
      "[CV] min_child_weight=1, colsample_bylevel=0.75, subsample=0.75, max_depth=4, colsample_bytree=0.75, gamma=1 \n",
      "[CV]  min_child_weight=1, colsample_bylevel=0.75, subsample=0.75, max_depth=4, colsample_bytree=0.75, gamma=1, score=0.714067, total=   1.5s\n",
      "[CV] min_child_weight=1, colsample_bylevel=0.75, subsample=0.75, max_depth=4, colsample_bytree=0.75, gamma=1 \n",
      "[CV]  min_child_weight=1, colsample_bylevel=0.75, subsample=0.75, max_depth=4, colsample_bytree=0.75, gamma=1, score=0.721896, total=   1.5s\n",
      "[CV] min_child_weight=1, colsample_bylevel=1.0, subsample=0.75, max_depth=3, colsample_bytree=1.0, gamma=0 \n",
      "[CV]  min_child_weight=1, colsample_bylevel=1.0, subsample=0.75, max_depth=3, colsample_bytree=1.0, gamma=0, score=0.732848, total=   1.9s\n",
      "[CV] min_child_weight=1, colsample_bylevel=1.0, subsample=0.75, max_depth=3, colsample_bytree=1.0, gamma=0 \n",
      "[CV]  min_child_weight=1, colsample_bylevel=1.0, subsample=0.75, max_depth=3, colsample_bytree=1.0, gamma=0, score=0.712199, total=   1.9s\n",
      "[CV] min_child_weight=1, colsample_bylevel=1.0, subsample=0.75, max_depth=3, colsample_bytree=1.0, gamma=0 \n",
      "[CV]  min_child_weight=1, colsample_bylevel=1.0, subsample=0.75, max_depth=3, colsample_bytree=1.0, gamma=0, score=0.721242, total=   1.9s\n",
      "[CV] min_child_weight=0, colsample_bylevel=0.75, subsample=1.0, max_depth=3, colsample_bytree=1.0, gamma=0 \n",
      "[CV]  min_child_weight=0, colsample_bylevel=0.75, subsample=1.0, max_depth=3, colsample_bytree=1.0, gamma=0, score=0.731167, total=   1.3s\n",
      "[CV] min_child_weight=0, colsample_bylevel=0.75, subsample=1.0, max_depth=3, colsample_bytree=1.0, gamma=0 \n",
      "[CV]  min_child_weight=0, colsample_bylevel=0.75, subsample=1.0, max_depth=3, colsample_bytree=1.0, gamma=0, score=0.713157, total=   1.3s\n",
      "[CV] min_child_weight=0, colsample_bylevel=0.75, subsample=1.0, max_depth=3, colsample_bytree=1.0, gamma=0 \n",
      "[CV]  min_child_weight=0, colsample_bylevel=0.75, subsample=1.0, max_depth=3, colsample_bytree=1.0, gamma=0, score=0.720810, total=   1.3s\n",
      "[CV] min_child_weight=1, colsample_bylevel=0.75, subsample=0.75, max_depth=3, colsample_bytree=0.75, gamma=2 \n",
      "[CV]  min_child_weight=1, colsample_bylevel=0.75, subsample=0.75, max_depth=3, colsample_bytree=0.75, gamma=2, score=0.733293, total=   1.2s\n",
      "[CV] min_child_weight=1, colsample_bylevel=0.75, subsample=0.75, max_depth=3, colsample_bytree=0.75, gamma=2 \n",
      "[CV]  min_child_weight=1, colsample_bylevel=0.75, subsample=0.75, max_depth=3, colsample_bytree=0.75, gamma=2, score=0.714841, total=   1.2s\n",
      "[CV] min_child_weight=1, colsample_bylevel=0.75, subsample=0.75, max_depth=3, colsample_bytree=0.75, gamma=2 \n",
      "[CV]  min_child_weight=1, colsample_bylevel=0.75, subsample=0.75, max_depth=3, colsample_bytree=0.75, gamma=2, score=0.721695, total=   1.2s\n",
      "[CV] min_child_weight=1, colsample_bylevel=0.75, subsample=0.75, max_depth=5, colsample_bytree=0.75, gamma=1 \n",
      "[CV]  min_child_weight=1, colsample_bylevel=0.75, subsample=0.75, max_depth=5, colsample_bytree=0.75, gamma=1, score=0.739689, total=   1.9s\n",
      "[CV] min_child_weight=1, colsample_bylevel=0.75, subsample=0.75, max_depth=5, colsample_bytree=0.75, gamma=1 \n",
      "[CV]  min_child_weight=1, colsample_bylevel=0.75, subsample=0.75, max_depth=5, colsample_bytree=0.75, gamma=1, score=0.716064, total=   1.9s\n",
      "[CV] min_child_weight=1, colsample_bylevel=0.75, subsample=0.75, max_depth=5, colsample_bytree=0.75, gamma=1 \n",
      "[CV]  min_child_weight=1, colsample_bylevel=0.75, subsample=0.75, max_depth=5, colsample_bytree=0.75, gamma=1, score=0.724671, total=   1.9s\n",
      "[CV] min_child_weight=2, colsample_bylevel=0.75, subsample=1.0, max_depth=4, colsample_bytree=1.0, gamma=3 \n",
      "[CV]  min_child_weight=2, colsample_bylevel=0.75, subsample=1.0, max_depth=4, colsample_bytree=1.0, gamma=3, score=0.734009, total=   1.7s\n",
      "[CV] min_child_weight=2, colsample_bylevel=0.75, subsample=1.0, max_depth=4, colsample_bytree=1.0, gamma=3 \n",
      "[CV]  min_child_weight=2, colsample_bylevel=0.75, subsample=1.0, max_depth=4, colsample_bytree=1.0, gamma=3, score=0.715108, total=   1.7s\n",
      "[CV] min_child_weight=2, colsample_bylevel=0.75, subsample=1.0, max_depth=4, colsample_bytree=1.0, gamma=3 \n",
      "[CV]  min_child_weight=2, colsample_bylevel=0.75, subsample=1.0, max_depth=4, colsample_bytree=1.0, gamma=3, score=0.727445, total=   1.7s\n"
     ]
    },
    {
     "name": "stderr",
     "output_type": "stream",
     "text": [
      "[Parallel(n_jobs=1)]: Done  90 out of  90 | elapsed:  2.6min finished\n"
     ]
    },
    {
     "data": {
      "text/plain": [
       "RandomizedSearchCV(cv=None, error_score='raise',\n",
       "          estimator=XGBClassifier(base_score=0.5, colsample_bylevel=1, colsample_bytree=1,\n",
       "       gamma=0, learning_rate=0.1, max_delta_step=0, max_depth=3,\n",
       "       min_child_weight=1, missing=None, n_estimators=100, nthread=-1,\n",
       "       objective='binary:logistic', reg_alpha=0, reg_lambda=1,\n",
       "       scale_pos_weight=1, seed=0, silent=True, subsample=1),\n",
       "          fit_params={}, iid=True, n_iter=30, n_jobs=1,\n",
       "          param_distributions={'min_child_weight': [0, 1, 2, 3], 'colsample_bylevel': [0.75, 1.0], 'subsample': [0.75, 1.0], 'max_depth': [2, 3, 4, 5], 'colsample_bytree': [0.75, 1.0], 'gamma': [0, 1, 2, 3]},\n",
       "          pre_dispatch='2*n_jobs', random_state=None, refit=False,\n",
       "          return_train_score=True, scoring='roc_auc', verbose=5)"
      ]
     },
     "execution_count": 4,
     "metadata": {},
     "output_type": "execute_result"
    }
   ],
   "source": [
    "tuner = RandomizedSearchCV(xgb.XGBClassifier(n_estimators=100), {\n",
    "    'max_depth': [2, 3, 4, 5],\n",
    "    'gamma': [0, 1, 2, 3],\n",
    "    'min_child_weight': [0, 1, 2, 3],\n",
    "    'subsample': [0.75, 1.0],\n",
    "    'colsample_bytree': [0.75, 1.0],\n",
    "    'colsample_bylevel': [0.75, 1.0],\n",
    "}, scoring='roc_auc', n_iter=30, refit=False, verbose=5)\n",
    "tuner.fit(train.data, train.target)"
   ]
  },
  {
   "cell_type": "code",
   "execution_count": 5,
   "metadata": {
    "collapsed": false
   },
   "outputs": [
    {
     "data": {
      "text/plain": [
       "(0.72843676353244347,\n",
       " {'colsample_bylevel': 0.75,\n",
       "  'colsample_bytree': 1.0,\n",
       "  'gamma': 0,\n",
       "  'max_depth': 5,\n",
       "  'min_child_weight': 0,\n",
       "  'subsample': 0.75})"
      ]
     },
     "execution_count": 5,
     "metadata": {},
     "output_type": "execute_result"
    }
   ],
   "source": [
    "tuner.best_score_, tuner.best_params_"
   ]
  },
  {
   "cell_type": "code",
   "execution_count": 6,
   "metadata": {
    "collapsed": false,
    "scrolled": true
   },
   "outputs": [
    {
     "name": "stderr",
     "output_type": "stream",
     "text": [
      "/workspace/conda/envs/ds/lib/python3.5/site-packages/sklearn/ensemble/bagging.py:603: UserWarning: Some inputs do not have OOB scores. This probably means too few estimators were used to compute any reliable oob estimates.\n",
      "  warn(\"Some inputs do not have OOB scores. \"\n",
      "/workspace/conda/envs/ds/lib/python3.5/site-packages/sklearn/ensemble/bagging.py:608: RuntimeWarning: invalid value encountered in true_divide\n",
      "  predictions.sum(axis=1)[:, np.newaxis])\n"
     ]
    },
    {
     "data": {
      "text/plain": [
       "BaggingClassifier(base_estimator=XGBClassifier(base_score=0.5, colsample_bylevel=0.75, colsample_bytree=1.0,\n",
       "       gamma=0, learning_rate=0.1, max_delta_step=0, max_depth=5,\n",
       "       min_child_weight=0, missing=None, n_estimators=100, nthread=-1,\n",
       "       objective='binary:logistic', reg_alpha=0, reg_lambda=1,\n",
       "       scale_pos_weight=1, seed=0, silent=True, subsample=0.75),\n",
       "         bootstrap=True, bootstrap_features=False, max_features=0.75,\n",
       "         max_samples=0.75, n_estimators=10, n_jobs=1, oob_score=True,\n",
       "         random_state=None, verbose=0, warm_start=False)"
      ]
     },
     "execution_count": 6,
     "metadata": {},
     "output_type": "execute_result"
    }
   ],
   "source": [
    "model = BaggingClassifier(xgb.XGBClassifier(**tuner.best_params_), max_samples=0.75, max_features=0.75, oob_score=True)\n",
    "X_train, X_val, y_train, y_val = train_test_split(train.data, train.target, test_size=1000)\n",
    "model.fit(X_train, y_train)"
   ]
  },
  {
   "cell_type": "code",
   "execution_count": 8,
   "metadata": {
    "collapsed": false
   },
   "outputs": [
    {
     "name": "stdout",
     "output_type": "stream",
     "text": [
      "training accuracy: 0.776\n",
      "             precision    recall  f1-score   support\n",
      "\n",
      "          0       0.78      0.76      0.77      4719\n",
      "          1       0.77      0.79      0.78      4725\n",
      "\n",
      "avg / total       0.78      0.78      0.78      9444\n",
      "\n"
     ]
    },
    {
     "data": {
      "image/png": "[encoded data removed]",
      "text/plain": [
       "<matplotlib.figure.Figure at 0x7f582336e240>"
      ]
     },
     "metadata": {},
     "output_type": "display_data"
    },
    {
     "name": "stdout",
     "output_type": "stream",
     "text": [
      "validation accuracy: 0.703\n",
      "             precision    recall  f1-score   support\n",
      "\n",
      "          0       0.71      0.69      0.70       503\n",
      "          1       0.69      0.72      0.71       497\n",
      "\n",
      "avg / total       0.70      0.70      0.70      1000\n",
      "\n"
     ]
    },
    {
     "data": {
      "image/png": "[encoded data removed]",
      "text/plain": [
       "<matplotlib.figure.Figure at 0x7f58229dcb38>"
      ]
     },
     "metadata": {},
     "output_type": "display_data"
    }
   ],
   "source": [
    "def plot_precision_recall(y_true, y_probas):\n",
    "    precision, recall, thresholds = precision_recall_curve(y_true, y_probas[:, 1])\n",
    "    plt.plot(recall, precision)\n",
    "    plt.xlabel('Recall')\n",
    "    plt.ylabel('Precision')\n",
    "    plt.ylim([0.0, 1.05])\n",
    "    plt.xlim([0.0, 1.0])\n",
    "    plt.grid()\n",
    "\n",
    "def report(name, y_true, y_probas):\n",
    "    y_pred = np.argmax(y_probas, axis=1)\n",
    "    print('{} accuracy: {:.3f}'.format(name, accuracy_score(y_true, y_pred)))\n",
    "    print(classification_report(y_true, y_pred))\n",
    "    plot_precision_recall(y_true, y_probas)\n",
    "    plt.show()\n",
    "\n",
    "report('training', y_train, model.predict_proba(X_train))\n",
    "report('validation', y_val, model.predict_proba(X_val))"
   ]
  },
  {
   "cell_type": "markdown",
   "metadata": {},
   "source": [
    "# Simple neural network"
   ]
  },
  {
   "cell_type": "code",
   "execution_count": 12,
   "metadata": {
    "collapsed": false,
    "scrolled": true
   },
   "outputs": [
    {
     "name": "stdout",
     "output_type": "stream",
     "text": [
      "Iteration 1, loss = 6.14275035\n",
      "Iteration 2, loss = 4.51645673\n",
      "Iteration 3, loss = 3.22150778\n",
      "Iteration 4, loss = 1.67127730\n",
      "Iteration 5, loss = 1.35687045\n",
      "Iteration 6, loss = 1.40833990\n",
      "Iteration 7, loss = 1.16777685\n",
      "Iteration 8, loss = 1.05689542\n",
      "Iteration 9, loss = 1.04680481\n",
      "Iteration 10, loss = 1.03594056\n",
      "Iteration 11, loss = 0.98409688\n",
      "Iteration 12, loss = 1.34993495\n",
      "Iteration 13, loss = 0.88825858\n",
      "Iteration 14, loss = 0.82600806\n",
      "Iteration 15, loss = 0.85855751\n",
      "Iteration 16, loss = 0.82438631\n",
      "Iteration 17, loss = 0.70401318\n",
      "Iteration 18, loss = 0.81693411\n",
      "Iteration 19, loss = 0.74187993\n",
      "Iteration 20, loss = 0.79258899\n",
      "Training loss did not improve more than tol=0.000100 for two consecutive epochs. Stopping.\n",
      "Iteration 1, loss = 5.16112136\n",
      "Iteration 2, loss = 1.67471272\n",
      "Iteration 3, loss = 1.57738011\n",
      "Iteration 4, loss = 1.13618435\n",
      "Iteration 5, loss = 1.03699140\n",
      "Iteration 6, loss = 0.84972203\n",
      "Iteration 7, loss = 1.01530729\n",
      "Iteration 8, loss = 0.97839414\n",
      "Iteration 9, loss = 0.89737728\n",
      "Training loss did not improve more than tol=0.000100 for two consecutive epochs. Stopping.\n",
      "Iteration 1, loss = 6.49689909\n",
      "Iteration 2, loss = 3.05445505\n",
      "Iteration 3, loss = 2.40883142\n",
      "Iteration 4, loss = 2.31562084\n",
      "Iteration 5, loss = 1.93498611\n",
      "Iteration 6, loss = 1.28678371\n",
      "Iteration 7, loss = 1.34977481\n",
      "Iteration 8, loss = 1.10296748\n",
      "Iteration 9, loss = 1.14176058\n",
      "Iteration 10, loss = 0.96597465\n",
      "Iteration 11, loss = 0.99702812\n",
      "Iteration 12, loss = 0.95642544\n",
      "Iteration 13, loss = 0.90633293\n",
      "Iteration 14, loss = 0.79295955\n",
      "Iteration 15, loss = 0.89340315\n",
      "Iteration 16, loss = 0.75014462\n",
      "Iteration 17, loss = 0.84914419\n",
      "Iteration 18, loss = 0.76135754\n",
      "Iteration 19, loss = 0.74220092\n",
      "Iteration 20, loss = 0.78552016\n",
      "Iteration 21, loss = 0.73360330\n",
      "Iteration 22, loss = 0.69739600\n",
      "Iteration 23, loss = 0.76658682\n",
      "Iteration 24, loss = 0.76522145\n",
      "Iteration 25, loss = 0.78762968\n",
      "Training loss did not improve more than tol=0.000100 for two consecutive epochs. Stopping.\n",
      "Iteration 1, loss = 3.47300487\n",
      "Iteration 2, loss = 2.42579860\n",
      "Iteration 3, loss = 0.92016967\n",
      "Iteration 4, loss = 0.82291500\n",
      "Iteration 5, loss = 0.80358363\n",
      "Iteration 6, loss = 0.78476382\n",
      "Iteration 7, loss = 0.76954159\n",
      "Iteration 8, loss = 0.84086293\n",
      "Iteration 9, loss = 0.71840242\n",
      "Iteration 10, loss = 0.85338295\n",
      "Iteration 11, loss = 0.75072472\n",
      "Iteration 12, loss = 0.69963426\n",
      "Iteration 13, loss = 0.91046683\n",
      "Iteration 14, loss = 0.74619687\n",
      "Iteration 15, loss = 0.70120498\n",
      "Training loss did not improve more than tol=0.000100 for two consecutive epochs. Stopping.\n",
      "Iteration 1, loss = 5.30270195\n",
      "Iteration 2, loss = 2.73241133\n",
      "Iteration 3, loss = 2.62381882\n",
      "Iteration 4, loss = 1.73192120\n",
      "Iteration 5, loss = 1.26643759\n",
      "Iteration 6, loss = 1.05740618\n",
      "Iteration 7, loss = 1.00342981\n",
      "Iteration 8, loss = 0.86812309\n",
      "Iteration 9, loss = 0.98720999\n",
      "Iteration 10, loss = 1.23232460\n",
      "Iteration 11, loss = 1.12709504\n",
      "Training loss did not improve more than tol=0.000100 for two consecutive epochs. Stopping.\n",
      "Iteration 1, loss = 5.53000540\n",
      "Iteration 2, loss = 2.01352934\n",
      "Iteration 3, loss = 1.61139765\n",
      "Iteration 4, loss = 1.46587587\n",
      "Iteration 5, loss = 1.48150136\n",
      "Iteration 6, loss = 1.52834064\n",
      "Iteration 7, loss = 0.95956825\n",
      "Iteration 8, loss = 0.94304875\n",
      "Iteration 9, loss = 0.84287298\n",
      "Iteration 10, loss = 0.91870514\n",
      "Iteration 11, loss = 0.81355135\n",
      "Iteration 12, loss = 0.84991435\n",
      "Iteration 13, loss = 0.81415435\n",
      "Iteration 14, loss = 0.82207955\n",
      "Training loss did not improve more than tol=0.000100 for two consecutive epochs. Stopping.\n",
      "Iteration 1, loss = 6.08478859\n",
      "Iteration 2, loss = 2.77798976\n",
      "Iteration 3, loss = 1.83964323\n",
      "Iteration 4, loss = 1.63056300\n",
      "Iteration 5, loss = 1.43089354\n",
      "Iteration 6, loss = 1.09385977\n",
      "Iteration 7, loss = 0.91667529\n",
      "Iteration 8, loss = 1.24911683\n",
      "Iteration 9, loss = 0.97787604\n",
      "Iteration 10, loss = 0.91599727\n",
      "Iteration 11, loss = 0.99997656\n",
      "Iteration 12, loss = 0.81238673\n",
      "Iteration 13, loss = 0.74911213\n",
      "Iteration 14, loss = 0.89900660\n",
      "Iteration 15, loss = 0.82047786\n",
      "Iteration 16, loss = 0.75598414\n",
      "Training loss did not improve more than tol=0.000100 for two consecutive epochs. Stopping.\n",
      "Iteration 1, loss = 7.07406892\n",
      "Iteration 2, loss = 3.82238126\n",
      "Iteration 3, loss = 2.01785827\n",
      "Iteration 4, loss = 2.40095051\n",
      "Iteration 5, loss = 1.79770374\n",
      "Iteration 6, loss = 1.89482087\n",
      "Iteration 7, loss = 1.22949002\n",
      "Iteration 8, loss = 1.60530722\n",
      "Iteration 9, loss = 1.63271336\n",
      "Iteration 10, loss = 1.48092603\n",
      "Training loss did not improve more than tol=0.000100 for two consecutive epochs. Stopping.\n",
      "Iteration 1, loss = 3.95476087\n",
      "Iteration 2, loss = 1.38088016\n",
      "Iteration 3, loss = 0.91650889\n",
      "Iteration 4, loss = 1.78849981\n",
      "Iteration 5, loss = 1.47312127\n",
      "Iteration 6, loss = 0.73153538\n",
      "Iteration 7, loss = 0.80107333\n",
      "Iteration 8, loss = 0.71500874\n",
      "Iteration 9, loss = 0.80302658\n",
      "Iteration 10, loss = 0.67423287\n",
      "Iteration 11, loss = 0.70456824\n",
      "Iteration 12, loss = 0.78969595\n",
      "Iteration 13, loss = 0.76835804\n",
      "Training loss did not improve more than tol=0.000100 for two consecutive epochs. Stopping.\n",
      "Iteration 1, loss = 5.29017563\n",
      "Iteration 2, loss = 2.43276403\n",
      "Iteration 3, loss = 1.77234531\n",
      "Iteration 4, loss = 1.10729911\n",
      "Iteration 5, loss = 0.94685943\n",
      "Iteration 6, loss = 1.03400211\n",
      "Iteration 7, loss = 1.01952450\n",
      "Iteration 8, loss = 0.82901650\n",
      "Iteration 9, loss = 0.86254890\n",
      "Iteration 10, loss = 0.81921693\n",
      "Iteration 11, loss = 0.73640251\n",
      "Iteration 12, loss = 0.72656540\n",
      "Iteration 13, loss = 0.72040371\n",
      "Iteration 14, loss = 0.73202643\n",
      "Iteration 15, loss = 0.71580192\n",
      "Iteration 16, loss = 0.68480017\n",
      "Iteration 17, loss = 0.71192441\n",
      "Iteration 18, loss = 0.73129328\n",
      "Iteration 19, loss = 0.67536489\n",
      "Iteration 20, loss = 0.67190645\n",
      "Iteration 21, loss = 0.69859218\n",
      "Iteration 22, loss = 0.68920085\n",
      "Iteration 23, loss = 0.67094787\n",
      "Iteration 24, loss = 0.67265136\n",
      "Iteration 25, loss = 0.66066815\n",
      "Iteration 26, loss = 0.66067254\n",
      "Iteration 27, loss = 0.66610709\n",
      "Iteration 28, loss = 0.65266322\n",
      "Iteration 29, loss = 0.64362567\n",
      "Iteration 30, loss = 0.65088416\n",
      "Iteration 31, loss = 0.63544377\n",
      "Iteration 32, loss = 0.63541773\n",
      "Iteration 33, loss = 0.64006077\n",
      "Iteration 34, loss = 0.68061472\n",
      "Training loss did not improve more than tol=0.000100 for two consecutive epochs. Stopping.\n"
     ]
    },
    {
     "name": "stderr",
     "output_type": "stream",
     "text": [
      "/workspace/conda/envs/ds/lib/python3.5/site-packages/sklearn/ensemble/bagging.py:603: UserWarning: Some inputs do not have OOB scores. This probably means too few estimators were used to compute any reliable oob estimates.\n",
      "  warn(\"Some inputs do not have OOB scores. \"\n",
      "/workspace/conda/envs/ds/lib/python3.5/site-packages/sklearn/ensemble/bagging.py:608: RuntimeWarning: invalid value encountered in true_divide\n",
      "  predictions.sum(axis=1)[:, np.newaxis])\n"
     ]
    },
    {
     "data": {
      "text/plain": [
       "0.59115281501340478"
      ]
     },
     "execution_count": 12,
     "metadata": {},
     "output_type": "execute_result"
    }
   ],
   "source": [
    "from sklearn.neural_network import MLPClassifier\n",
    "\n",
    "nn = BaggingClassifier(MLPClassifier(\n",
    "    hidden_layer_sizes=[300, 200, 100, 50, 50],\n",
    "    learning_rate='adaptive',\n",
    "    validation_fraction=0.2,\n",
    "    verbose=True,\n",
    "), max_samples=0.75, max_features=0.75, oob_score=True)\n",
    "nn.fit(train.data, train.target)\n",
    "nn.oob_score_"
   ]
  },
  {
   "cell_type": "code",
   "execution_count": 13,
   "metadata": {
    "collapsed": false
   },
   "outputs": [
    {
     "name": "stdout",
     "output_type": "stream",
     "text": [
      "train accuracy: 0.623\n",
      "             precision    recall  f1-score   support\n",
      "\n",
      "          0       0.67      0.49      0.57      5222\n",
      "          1       0.60      0.75      0.67      5222\n",
      "\n",
      "avg / total       0.63      0.62      0.62     10444\n",
      "\n"
     ]
    },
    {
     "data": {
      "image/png": "[encoded data removed]",
      "text/plain": [
       "<matplotlib.figure.Figure at 0x7f5822a029e8>"
      ]
     },
     "metadata": {},
     "output_type": "display_data"
    }
   ],
   "source": [
    "report('train', train.target, nn.predict_proba(train.data))"
   ]
  },
  {
   "cell_type": "markdown",
   "metadata": {},
   "source": [
    "# Final model"
   ]
  },
  {
   "cell_type": "code",
   "execution_count": 17,
   "metadata": {
    "collapsed": false,
    "scrolled": true
   },
   "outputs": [
    {
     "data": {
      "text/plain": [
       "0.6726350057449253"
      ]
     },
     "execution_count": 17,
     "metadata": {},
     "output_type": "execute_result"
    }
   ],
   "source": [
    "model = BaggingClassifier(\n",
    "    xgb.XGBClassifier(**tuner.best_params_),\n",
    "    n_estimators=30, max_samples=0.75, max_features=0.75, oob_score=True)\n",
    "eval_set = [(train.data, train.target)]\n",
    "model.fit(train.data, train.target)\n",
    "model.oob_score_"
   ]
  },
  {
   "cell_type": "code",
   "execution_count": 18,
   "metadata": {
    "collapsed": false
   },
   "outputs": [
    {
     "name": "stdout",
     "output_type": "stream",
     "text": [
      "(2000, 146) (2000,) 0.5\n",
      "balanced test accuracy: 0.653\n",
      "             precision    recall  f1-score   support\n",
      "\n",
      "          0       0.65      0.65      0.65      1000\n",
      "          1       0.65      0.66      0.66      1000\n",
      "\n",
      "avg / total       0.65      0.65      0.65      2000\n",
      "\n"
     ]
    },
    {
     "data": {
      "image/png": "[encoded data removed]",
      "text/plain": [
       "<matplotlib.figure.Figure at 0x7f58235eb400>"
      ]
     },
     "metadata": {},
     "output_type": "display_data"
    }
   ],
   "source": [
    "with open('output/2/test_balanced.pickle', 'rb') as f:\n",
    "    test = pickle.load(f)\n",
    "print(test.data.shape, test.target.shape, test.target.mean())\n",
    "report('balanced test', test.target, model.predict_proba(test.data))"
   ]
  },
  {
   "cell_type": "code",
   "execution_count": 19,
   "metadata": {
    "collapsed": false
   },
   "outputs": [
    {
     "name": "stdout",
     "output_type": "stream",
     "text": [
      "balanced test accuracy: 0.653\n",
      "stratified test accuracy: 0.647\n"
     ]
    }
   ],
   "source": [
    "ratio1 = 0.0161864681127  # See the output of `train_test_split` in the previous notebook.\n",
    "ratio0 = 1 - ratio1\n",
    "index1 = test.target == 1\n",
    "index0 = ~index1\n",
    "accuracy1 = accuracy_score(test.target[index1], model.predict(test.data[index1]))\n",
    "accuracy0 = accuracy_score(test.target[index0], model.predict(test.data[index0]))\n",
    "print('balanced test accuracy: {:.3f}'.format(accuracy1 * 0.5 + accuracy0 * 0.5))\n",
    "print('stratified test accuracy: {:.3f}'.format(accuracy1 * ratio1 + accuracy0 * ratio0))"
   ]
  }
 ],
 "metadata": {
  "anaconda-cloud": {},
  "kernelspec": {
   "display_name": "Python [conda env:ds]",
   "language": "python",
   "name": "conda-env-ds-py"
  },
  "language_info": {
   "codemirror_mode": {
    "name": "ipython",
    "version": 3
   },
   "file_extension": ".py",
   "mimetype": "text/x-python",
   "name": "python",
   "nbconvert_exporter": "python",
   "pygments_lexer": "ipython3",
   "version": "3.5.3"
  }
 },
 "nbformat": 4,
 "nbformat_minor": 2
}
