{
 "cells": [
  {
   "cell_type": "markdown",
   "metadata": {
    "deletable": true,
    "editable": true
   },
   "source": [
    "# Predicting blight in Detroit\n",
    "\n",
    "## Defining buildings\n",
    "I used the [parcel map shapefile](https://data.detroitmi.gov/Property-Parcels/Parcel-Map/fxkw-udwf) from Detroit Open Data to create the building list. I treated each parcel as a separate building and came up with 384600 buildings, 6222 of them blighted.\n",
    "\n",
    "## Extracting features\n",
    "\n",
    "1. Coordinates of the center of the parcel to capture spatial relationships between buildings. \n",
    "2. Numbers of violations, crimes, and 311 calls reported in the building, 20 meters around it, and 1 km around it. I used 3 radiuses so that the model can compare the building to its neighbors.\n",
    "3. Numbers of crimes for each crime category within each radius. I felt that different crime categories may have different importance.\n",
    "4. Numbers of 311 calls for each issue type within each radius.\n",
    "\n",
    "There are 146 features in total.\n",
    "\n",
    "## Modeling\n",
    "\n",
    "I created a training set with 10444 buildings and a test set consisted of 2000 buildings. The blight ratio in both sets is 50%.\n",
    "\n",
    "I evaluated several learners using cross-validation and randomized search on hyper parameters. I tried applying bagging to the best-performing model, but this didn't improve its accuracy. The final model is a tree ensemble built with XGBoost.\n",
    "\n",
    "## Evaluation\n",
    "\n",
    "The model got the accuracy of 65.7% on the balanced training set. This should correspond to the accuracy of 65.0% on the naturally distributed data (1.6% blighted)."
   ]
  }
 ],
 "metadata": {
  "anaconda-cloud": {},
  "kernelspec": {
   "display_name": "Python 3",
   "language": "python",
   "name": "python3"
  },
  "language_info": {
   "codemirror_mode": {
    "name": "ipython",
    "version": 3
   },
   "file_extension": ".py",
   "mimetype": "text/x-python",
   "name": "python",
   "nbconvert_exporter": "python",
   "pygments_lexer": "ipython3",
   "version": "3.6.0"
  }
 },
 "nbformat": 4,
 "nbformat_minor": 2
}
