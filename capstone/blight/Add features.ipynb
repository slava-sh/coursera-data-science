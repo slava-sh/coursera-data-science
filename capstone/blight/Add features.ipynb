{
 "cells": [
  {
   "cell_type": "code",
   "execution_count": 1,
   "metadata": {
    "collapsed": false
   },
   "outputs": [],
   "source": [
    "%matplotlib inline\n",
    "import numpy as np\n",
    "import pandas as pd\n",
    "import geopandas as gpd\n",
    "import matplotlib.pyplot as plt\n",
    "import seaborn as sns\n",
    "import shapely.wkt\n",
    "from shapely.geometry import Point\n",
    "from matplotlib.collections import PatchCollection\n",
    "from matplotlib.lines import Line2D\n",
    "from descartes.patch import PolygonPatch\n",
    "from mpl_toolkits.basemap import Basemap\n",
    "\n",
    "pd.set_option('display.max_columns', None)"
   ]
  },
  {
   "cell_type": "code",
   "execution_count": 2,
   "metadata": {
    "collapsed": false
   },
   "outputs": [],
   "source": [
    "def gpd_read_csv(filename):\n",
    "    df = pd.read_csv(filename)\n",
    "    df['geometry'] = df.geometry.map(shapely.wkt.loads)\n",
    "    return gpd.GeoDataFrame(df)\n",
    "\n",
    "parcels = gpd_read_csv('output/parcels.csv').set_index('ParcelNo', drop=False)"
   ]
  },
  {
   "cell_type": "code",
   "execution_count": 3,
   "metadata": {
    "collapsed": false
   },
   "outputs": [],
   "source": [
    "def get_nearest(p, n=5, df=parcels):\n",
    "    if hasattr(p, 'total_bounds'):\n",
    "        bounds = p.total_bounds\n",
    "    elif hasattr(p, 'bounds'):\n",
    "        bounds = p.bounds\n",
    "    else:\n",
    "        bounds = p\n",
    "    hits = list(df.sindex.nearest(bounds, n))\n",
    "    return df.iloc[hits]"
   ]
  },
  {
   "cell_type": "code",
   "execution_count": 4,
   "metadata": {
    "collapsed": false
   },
   "outputs": [],
   "source": [
    "def plot_parcels(data):\n",
    "    legend_data = {}\n",
    "\n",
    "    def plot(data=None, label=None, color=None, **kwargs):\n",
    "        pc = PatchCollection(data.geometry.map(PolygonPatch), facecolor=color, alpha=0.7)\n",
    "        plt.gca().add_collection(pc)\n",
    "        legend_data[label] = Line2D(\n",
    "            [0], [0], linestyle=\"none\",\n",
    "            marker=\"o\", alpha=1, markersize=10,\n",
    "            markerfacecolor=color, label=label,\n",
    "        )\n",
    "\n",
    "    g = sns.FacetGrid(data, hue='IsBlighted', size=10)\n",
    "    g.map_dataframe(plot)\n",
    "\n",
    "    # add_legend does not work correctly for some reason.\n",
    "    #g.add_legend(legend_data=legend_data)\n",
    "    g.axes.flat[0].legend(handles=list(legend_data.values()), scatterpoints=1)\n",
    "\n",
    "    lon_min, lat_min, lon_max, lat_max = data.total_bounds\n",
    "    m = Basemap(\n",
    "        epsg=4326,\n",
    "        llcrnrlat=lat_min,\n",
    "        urcrnrlat=lat_max,\n",
    "        llcrnrlon=lon_min,\n",
    "        urcrnrlon=lon_max,\n",
    "        ax=g.ax,\n",
    "    )\n",
    "    m.arcgisimage(service='World_Topo_Map', xpixels=1000, verbose=True)\n",
    "    \n",
    "#plot_parcels(get_nearest(parcels.iloc[333].geometry, n=100))"
   ]
  },
  {
   "cell_type": "code",
   "execution_count": 5,
   "metadata": {
    "collapsed": false
   },
   "outputs": [
    {
     "name": "stderr",
     "output_type": "stream",
     "text": [
      "/workspace/conda/envs/ds/lib/python3.5/site-packages/IPython/core/interactiveshell.py:2717: DtypeWarning: Columns (6,10,11,12) have mixed types. Specify dtype option on import or set low_memory=False.\n",
      "  interactivity=interactivity, compiler=compiler, result=result)\n"
     ]
    }
   ],
   "source": [
    "violations = pd.read_csv('data/detroit-blight-violations.csv')\n",
    "violations = violations.join(violations.ViolationAddress.str.extract(r'\\((?P<Lat>.+)?,\\s*(?P<Lon>.+)?\\)', expand=True).astype(float))\n",
    "geometry = violations.apply(lambda row: Point(row.Lon, row.Lat), axis=1)\n",
    "violations = gpd.GeoDataFrame(violations, geometry=geometry, crs={'init': 'epsg:4326'})"
   ]
  },
  {
   "cell_type": "code",
   "execution_count": 6,
   "metadata": {
    "collapsed": false
   },
   "outputs": [
    {
     "data": {
      "text/html": [
       "<div>\n",
       "<table border=\"1\" class=\"dataframe\">\n",
       "  <thead>\n",
       "    <tr style=\"text-align: right;\">\n",
       "      <th></th>\n",
       "      <th>TicketID</th>\n",
       "      <th>TicketNumber</th>\n",
       "      <th>AgencyName</th>\n",
       "      <th>ViolName</th>\n",
       "      <th>ViolationStreetNumber</th>\n",
       "      <th>ViolationStreetName</th>\n",
       "      <th>MailingStreetNumber</th>\n",
       "      <th>MailingStreetName</th>\n",
       "      <th>MailingCity</th>\n",
       "      <th>MailingState</th>\n",
       "      <th>MailingZipCode</th>\n",
       "      <th>NonUsAddressCode</th>\n",
       "      <th>Country</th>\n",
       "      <th>TicketIssuedDT</th>\n",
       "      <th>TicketIssuedTime</th>\n",
       "      <th>HearingDT</th>\n",
       "      <th>CourtTime</th>\n",
       "      <th>ViolationCode</th>\n",
       "      <th>ViolDescription</th>\n",
       "      <th>Disposition</th>\n",
       "      <th>FineAmt</th>\n",
       "      <th>AdminFee</th>\n",
       "      <th>LateFee</th>\n",
       "      <th>StateFee</th>\n",
       "      <th>CleanUpCost</th>\n",
       "      <th>JudgmentAmt</th>\n",
       "      <th>PaymentStatus</th>\n",
       "      <th>Void</th>\n",
       "      <th>ViolationCategory</th>\n",
       "      <th>ViolationAddress</th>\n",
       "      <th>MailingAddress</th>\n",
       "      <th>Lat</th>\n",
       "      <th>Lon</th>\n",
       "      <th>geometry</th>\n",
       "    </tr>\n",
       "  </thead>\n",
       "  <tbody>\n",
       "    <tr>\n",
       "      <th>0</th>\n",
       "      <td>26288</td>\n",
       "      <td>05000001DAH</td>\n",
       "      <td>Department of Public Works</td>\n",
       "      <td>Group, LLC, Grand Holding</td>\n",
       "      <td>2566</td>\n",
       "      <td>GRAND BLVD</td>\n",
       "      <td>743</td>\n",
       "      <td>Beaubien, Ste. 201</td>\n",
       "      <td>Detroit</td>\n",
       "      <td>MI</td>\n",
       "      <td>48226</td>\n",
       "      <td>NaN</td>\n",
       "      <td>NaN</td>\n",
       "      <td>01/01/38440 12:00:00 AM</td>\n",
       "      <td>12:00:00</td>\n",
       "      <td>01/01/38474 12:00:00 AM</td>\n",
       "      <td>9:00AM</td>\n",
       "      <td>22-2-20</td>\n",
       "      <td>Burning solid waste  in open fires</td>\n",
       "      <td>Responsible By Determination</td>\n",
       "      <td>$1500.00</td>\n",
       "      <td>$20.00</td>\n",
       "      <td>$150.00</td>\n",
       "      <td>$10.00</td>\n",
       "      <td>$0.00</td>\n",
       "      <td>$1680.00</td>\n",
       "      <td>PAID IN FULL</td>\n",
       "      <td>0.0</td>\n",
       "      <td>0</td>\n",
       "      <td>2566 GRAND BLVD\\nDetroit, MI\\n(42.363182370000...</td>\n",
       "      <td>743 Beaubien\\nDetroit, MI 48226\\n(42.333730630...</td>\n",
       "      <td>42.363182</td>\n",
       "      <td>-83.091677</td>\n",
       "      <td>POINT (-83.09167672099994 42.36318237000006)</td>\n",
       "    </tr>\n",
       "    <tr>\n",
       "      <th>1</th>\n",
       "      <td>19800</td>\n",
       "      <td>05000025DAH</td>\n",
       "      <td>Department of Public Works</td>\n",
       "      <td>JACKSON, RAECHELLE</td>\n",
       "      <td>19014</td>\n",
       "      <td>ASHTON</td>\n",
       "      <td>20501</td>\n",
       "      <td>HEYDEN</td>\n",
       "      <td>DETROIT</td>\n",
       "      <td>MI</td>\n",
       "      <td>48219</td>\n",
       "      <td>NaN</td>\n",
       "      <td>NaN</td>\n",
       "      <td>01/01/38383 12:00:00 AM</td>\n",
       "      <td>10:15:00</td>\n",
       "      <td>01/01/38425 12:00:00 AM</td>\n",
       "      <td>1:30PM</td>\n",
       "      <td>22-2-22</td>\n",
       "      <td>Bulk solid waste deposited more than 24 hours ...</td>\n",
       "      <td>Not responsible By Determination</td>\n",
       "      <td>$100.00</td>\n",
       "      <td>$20.00</td>\n",
       "      <td>$10.00</td>\n",
       "      <td>$10.00</td>\n",
       "      <td>$0.00</td>\n",
       "      <td>$140.00</td>\n",
       "      <td>NO PAYMENT APPLIED</td>\n",
       "      <td>0.0</td>\n",
       "      <td>0</td>\n",
       "      <td>19014 ASHTON\\nDetroit, MI\\n(42.429390762000025...</td>\n",
       "      <td>20501 HEYDEN\\nDETROIT, MI 48219\\n(42.442177633...</td>\n",
       "      <td>42.429391</td>\n",
       "      <td>-83.220394</td>\n",
       "      <td>POINT (-83.22039357799997 42.42939076200003)</td>\n",
       "    </tr>\n",
       "    <tr>\n",
       "      <th>2</th>\n",
       "      <td>19804</td>\n",
       "      <td>05000026DAH</td>\n",
       "      <td>Department of Public Works</td>\n",
       "      <td>TALTON, CAROL ANN</td>\n",
       "      <td>18735</td>\n",
       "      <td>STAHELIN</td>\n",
       "      <td>18735</td>\n",
       "      <td>STAHELI N</td>\n",
       "      <td>DETROIT</td>\n",
       "      <td>MI</td>\n",
       "      <td>48219</td>\n",
       "      <td>NaN</td>\n",
       "      <td>NaN</td>\n",
       "      <td>01/01/38383 12:00:00 AM</td>\n",
       "      <td>10:35:00</td>\n",
       "      <td>01/01/38425 12:00:00 AM</td>\n",
       "      <td>1:30PM</td>\n",
       "      <td>22-2-22</td>\n",
       "      <td>Bulk solid waste deposited more than 24 hours ...</td>\n",
       "      <td>Responsible By Determination</td>\n",
       "      <td>$100.00</td>\n",
       "      <td>$20.00</td>\n",
       "      <td>$10.00</td>\n",
       "      <td>$10.00</td>\n",
       "      <td>$0.00</td>\n",
       "      <td>$140.00</td>\n",
       "      <td>PAID IN FULL</td>\n",
       "      <td>0.0</td>\n",
       "      <td>0</td>\n",
       "      <td>18735 STAHELIN\\nDetroit, MI\\n(42.4287074590000...</td>\n",
       "      <td>18735 STAHELI N\\nDETROIT, MI 48219\\n(42.428707...</td>\n",
       "      <td>42.428707</td>\n",
       "      <td>-83.227548</td>\n",
       "      <td>POINT (-83.22754809599996 42.42870745900007)</td>\n",
       "    </tr>\n",
       "    <tr>\n",
       "      <th>3</th>\n",
       "      <td>20208</td>\n",
       "      <td>05000027DAH</td>\n",
       "      <td>Department of Public Works</td>\n",
       "      <td>BONNER, DARRYL E.</td>\n",
       "      <td>20125</td>\n",
       "      <td>MONICA</td>\n",
       "      <td>25335</td>\n",
       "      <td>PEEKSKILL</td>\n",
       "      <td>SOUTHFIELD</td>\n",
       "      <td>MI</td>\n",
       "      <td>48043</td>\n",
       "      <td>NaN</td>\n",
       "      <td>NaN</td>\n",
       "      <td>01/01/38385 12:00:00 AM</td>\n",
       "      <td>10:45:00</td>\n",
       "      <td>01/01/38422 12:00:00 AM</td>\n",
       "      <td>1:30PM</td>\n",
       "      <td>22-2-45</td>\n",
       "      <td>Violation of time limit for approved container...</td>\n",
       "      <td>Responsible By Default</td>\n",
       "      <td>$100.00</td>\n",
       "      <td>$20.00</td>\n",
       "      <td>$10.00</td>\n",
       "      <td>$10.00</td>\n",
       "      <td>$0.00</td>\n",
       "      <td>$140.00</td>\n",
       "      <td>NO PAYMENT APPLIED</td>\n",
       "      <td>0.0</td>\n",
       "      <td>0</td>\n",
       "      <td>20125 MONICA\\nDetroit, MI\\n(42.44169828400004,...</td>\n",
       "      <td>25335 PEEKSKILL\\nSOUTHFIELD, MI 48043\\n(42.475...</td>\n",
       "      <td>42.441698</td>\n",
       "      <td>-83.145018</td>\n",
       "      <td>POINT (-83.14501821599998 42.44169828400004)</td>\n",
       "    </tr>\n",
       "    <tr>\n",
       "      <th>4</th>\n",
       "      <td>20211</td>\n",
       "      <td>05000028DAH</td>\n",
       "      <td>Department of Public Works</td>\n",
       "      <td>GREGORY, JAMES LEE</td>\n",
       "      <td>17397</td>\n",
       "      <td>PRAIRIE</td>\n",
       "      <td>17397</td>\n",
       "      <td>PRAIRIE</td>\n",
       "      <td>DETROIT</td>\n",
       "      <td>MI</td>\n",
       "      <td>48221</td>\n",
       "      <td>NaN</td>\n",
       "      <td>NaN</td>\n",
       "      <td>01/01/38385 12:00:00 AM</td>\n",
       "      <td>11:10:00</td>\n",
       "      <td>01/01/38422 12:00:00 AM</td>\n",
       "      <td>1:30PM</td>\n",
       "      <td>22-2-22</td>\n",
       "      <td>Bulk solid waste deposited more than 24 hours ...</td>\n",
       "      <td>Responsible By Default</td>\n",
       "      <td>$100.00</td>\n",
       "      <td>$20.00</td>\n",
       "      <td>$10.00</td>\n",
       "      <td>$10.00</td>\n",
       "      <td>$0.00</td>\n",
       "      <td>$140.00</td>\n",
       "      <td>PAID IN FULL</td>\n",
       "      <td>0.0</td>\n",
       "      <td>0</td>\n",
       "      <td>17397 PRAIRIE\\nDetroit, MI\\n(42.42031769500005...</td>\n",
       "      <td>17397 PRAIRIE\\nDETROIT, MI 48221\\n(42.42031769...</td>\n",
       "      <td>42.420318</td>\n",
       "      <td>-83.145328</td>\n",
       "      <td>POINT (-83.14532817999998 42.42031769500005)</td>\n",
       "    </tr>\n",
       "  </tbody>\n",
       "</table>\n",
       "</div>"
      ],
      "text/plain": [
       "   TicketID TicketNumber                  AgencyName  \\\n",
       "0     26288  05000001DAH  Department of Public Works   \n",
       "1     19800  05000025DAH  Department of Public Works   \n",
       "2     19804  05000026DAH  Department of Public Works   \n",
       "3     20208  05000027DAH  Department of Public Works   \n",
       "4     20211  05000028DAH  Department of Public Works   \n",
       "\n",
       "                    ViolName  ViolationStreetNumber ViolationStreetName  \\\n",
       "0  Group, LLC, Grand Holding                   2566    GRAND BLVD         \n",
       "1        JACKSON, RAECHELLE                   19014    ASHTON             \n",
       "2          TALTON, CAROL ANN                  18735    STAHELIN           \n",
       "3          BONNER, DARRYL E.                  20125    MONICA             \n",
       "4         GREGORY, JAMES LEE                  17397    PRAIRIE            \n",
       "\n",
       "  MailingStreetNumber   MailingStreetName MailingCity MailingState  \\\n",
       "0                 743  Beaubien, Ste. 201     Detroit           MI   \n",
       "1               20501              HEYDEN     DETROIT           MI   \n",
       "2               18735           STAHELI N     DETROIT           MI   \n",
       "3               25335           PEEKSKILL  SOUTHFIELD           MI   \n",
       "4               17397             PRAIRIE     DETROIT           MI   \n",
       "\n",
       "  MailingZipCode NonUsAddressCode Country           TicketIssuedDT  \\\n",
       "0          48226              NaN     NaN  01/01/38440 12:00:00 AM   \n",
       "1          48219              NaN     NaN  01/01/38383 12:00:00 AM   \n",
       "2          48219              NaN     NaN  01/01/38383 12:00:00 AM   \n",
       "3          48043              NaN     NaN  01/01/38385 12:00:00 AM   \n",
       "4          48221              NaN     NaN  01/01/38385 12:00:00 AM   \n",
       "\n",
       "  TicketIssuedTime                HearingDT CourtTime ViolationCode  \\\n",
       "0         12:00:00  01/01/38474 12:00:00 AM    9:00AM       22-2-20   \n",
       "1         10:15:00  01/01/38425 12:00:00 AM    1:30PM       22-2-22   \n",
       "2         10:35:00  01/01/38425 12:00:00 AM    1:30PM       22-2-22   \n",
       "3         10:45:00  01/01/38422 12:00:00 AM    1:30PM       22-2-45   \n",
       "4         11:10:00  01/01/38422 12:00:00 AM    1:30PM       22-2-22   \n",
       "\n",
       "                                     ViolDescription  \\\n",
       "0                 Burning solid waste  in open fires   \n",
       "1  Bulk solid waste deposited more than 24 hours ...   \n",
       "2  Bulk solid waste deposited more than 24 hours ...   \n",
       "3  Violation of time limit for approved container...   \n",
       "4  Bulk solid waste deposited more than 24 hours ...   \n",
       "\n",
       "                        Disposition   FineAmt AdminFee  LateFee StateFee  \\\n",
       "0      Responsible By Determination  $1500.00   $20.00  $150.00   $10.00   \n",
       "1  Not responsible By Determination   $100.00   $20.00   $10.00   $10.00   \n",
       "2      Responsible By Determination   $100.00   $20.00   $10.00   $10.00   \n",
       "3            Responsible By Default   $100.00   $20.00   $10.00   $10.00   \n",
       "4            Responsible By Default   $100.00   $20.00   $10.00   $10.00   \n",
       "\n",
       "  CleanUpCost JudgmentAmt       PaymentStatus  Void  ViolationCategory  \\\n",
       "0       $0.00    $1680.00        PAID IN FULL   0.0                  0   \n",
       "1       $0.00     $140.00  NO PAYMENT APPLIED   0.0                  0   \n",
       "2       $0.00     $140.00        PAID IN FULL   0.0                  0   \n",
       "3       $0.00     $140.00  NO PAYMENT APPLIED   0.0                  0   \n",
       "4       $0.00     $140.00        PAID IN FULL   0.0                  0   \n",
       "\n",
       "                                    ViolationAddress  \\\n",
       "0  2566 GRAND BLVD\\nDetroit, MI\\n(42.363182370000...   \n",
       "1  19014 ASHTON\\nDetroit, MI\\n(42.429390762000025...   \n",
       "2  18735 STAHELIN\\nDetroit, MI\\n(42.4287074590000...   \n",
       "3  20125 MONICA\\nDetroit, MI\\n(42.44169828400004,...   \n",
       "4  17397 PRAIRIE\\nDetroit, MI\\n(42.42031769500005...   \n",
       "\n",
       "                                      MailingAddress        Lat        Lon  \\\n",
       "0  743 Beaubien\\nDetroit, MI 48226\\n(42.333730630...  42.363182 -83.091677   \n",
       "1  20501 HEYDEN\\nDETROIT, MI 48219\\n(42.442177633...  42.429391 -83.220394   \n",
       "2  18735 STAHELI N\\nDETROIT, MI 48219\\n(42.428707...  42.428707 -83.227548   \n",
       "3  25335 PEEKSKILL\\nSOUTHFIELD, MI 48043\\n(42.475...  42.441698 -83.145018   \n",
       "4  17397 PRAIRIE\\nDETROIT, MI 48221\\n(42.42031769...  42.420318 -83.145328   \n",
       "\n",
       "                                       geometry  \n",
       "0  POINT (-83.09167672099994 42.36318237000006)  \n",
       "1  POINT (-83.22039357799997 42.42939076200003)  \n",
       "2  POINT (-83.22754809599996 42.42870745900007)  \n",
       "3  POINT (-83.14501821599998 42.44169828400004)  \n",
       "4  POINT (-83.14532817999998 42.42031769500005)  "
      ]
     },
     "execution_count": 6,
     "metadata": {},
     "output_type": "execute_result"
    }
   ],
   "source": [
    "violations.head()"
   ]
  },
  {
   "cell_type": "code",
   "execution_count": 7,
   "metadata": {
    "collapsed": false
   },
   "outputs": [
    {
     "name": "stderr",
     "output_type": "stream",
     "text": [
      "/workspace/conda/envs/ds/lib/python3.5/site-packages/matplotlib/font_manager.py:1297: UserWarning: findfont: Font family ['sans-serif'] not found. Falling back to DejaVu Sans\n",
      "  (prop.get_family(), self.defaultFamily[fontext]))\n"
     ]
    },
    {
     "data": {
      "text/plain": [
       "<matplotlib.axes._subplots.AxesSubplot at 0x7f32b253f978>"
      ]
     },
     "execution_count": 7,
     "metadata": {},
     "output_type": "execute_result"
    },
    {
     "data": {
      "image/png": "[encoded data removed]",
      "text/plain": [
       "<matplotlib.figure.Figure at 0x7f325ed90470>"
      ]
     },
     "metadata": {},
     "output_type": "display_data"
    }
   ],
   "source": [
    "get_nearest(violations.iloc[0].geometry, n=100, df=violations).plot()"
   ]
  },
  {
   "cell_type": "code",
   "execution_count": 8,
   "metadata": {
    "collapsed": false
   },
   "outputs": [],
   "source": [
    "def get_parcel_no_fast(p):\n",
    "    hit = next(parcels.sindex.nearest(p.bounds, 1))\n",
    "    return parcels.iloc[hit].ParcelNo\n",
    "\n",
    "def get_parcel_no_precise(p, n=10):\n",
    "    hits = list(parcels.sindex.nearest(p.bounds, n))\n",
    "    distances = parcels.iloc[hits].distance(p)\n",
    "    return distances.argmin()"
   ]
  },
  {
   "cell_type": "code",
   "execution_count": 9,
   "metadata": {
    "collapsed": false
   },
   "outputs": [],
   "source": [
    "def plot_sample(sample):\n",
    "    def plot(points, label=None, color=None, **kwargs):\n",
    "        ax = plt.gca()\n",
    "        gpd.GeoSeries(points).plot(ax=ax, color=color, markersize=8)\n",
    "        parcels.loc[[label]].plot(ax=ax, color=color)\n",
    "\n",
    "    g = sns.FacetGrid(sample, hue='NearestParcelNo', size=10)\n",
    "    g.map(plot, 'geometry')\n",
    "    g.add_legend()\n",
    "\n",
    "    ax = g.ax\n",
    "\n",
    "    lon_min, lon_max = ax.get_xlim()\n",
    "    lat_min, lat_max = ax.get_ylim()\n",
    "\n",
    "    lon_mid = (lon_min + lon_max) / 2\n",
    "    lat_mid = (lat_min + lat_max) / 2\n",
    "    get_nearest((lon_mid, lat_mid, lon_mid, lat_mid), n=200).plot(ax=ax, alpha=0)\n",
    "\n",
    "    m = Basemap(\n",
    "        epsg=4326,\n",
    "        llcrnrlon=lon_min,\n",
    "        urcrnrlon=lon_max,\n",
    "        llcrnrlat=lat_min,\n",
    "        urcrnrlat=lat_max,\n",
    "        ax=ax,\n",
    "    )\n",
    "    m.arcgisimage(service='World_Topo_Map', xpixels=1000, verbose=True)\n",
    "\n",
    "#sample = get_nearest(violations.iloc[1].geometry, 100, df=violations).copy()\n",
    "#sample['NearestParcelNo'] = sample.apply(lambda row: get_parcel_no_precise(row.geometry), axis=1)\n",
    "#plot_sample(sample)"
   ]
  },
  {
   "cell_type": "code",
   "execution_count": 10,
   "metadata": {
    "collapsed": false
   },
   "outputs": [],
   "source": [
    "#pd.merge(parcels, sample.NearestParcelNo.value_counts().reset_index(name='NumViolations'), left_index=True, right_on='index')"
   ]
  },
  {
   "cell_type": "code",
   "execution_count": 11,
   "metadata": {
    "collapsed": false
   },
   "outputs": [
    {
     "name": "stdout",
     "output_type": "stream",
     "text": [
      "1 loop, best of 3: 378 ms per loop\n",
      "1 loop, best of 3: 159 ms per loop\n",
      "1 loop, best of 3: 396 ms per loop\n",
      "1 loop, best of 3: 402 ms per loop\n",
      "1 loop, best of 3: 386 ms per loop\n",
      "10 loops, best of 3: 229 ms per loop\n"
     ]
    }
   ],
   "source": [
    "def get_df():\n",
    "    left = pd.DataFrame({'Data': np.random.randn(1000000)})\n",
    "    left['Key'] = np.random.permutation(left.index)\n",
    "    return left\n",
    "\n",
    "left = get_df()\n",
    "right = get_df()\n",
    "left_index = left.set_index('Key', drop=False)\n",
    "right_index = right.set_index('Key', drop=False)\n",
    "\n",
    "def test_join():\n",
    "    left.join(right, how='inner', on='Key', rsuffix='r')\n",
    "\n",
    "def test_join_index():\n",
    "    left_index.join(right_index, how='inner', rsuffix='r')\n",
    "\n",
    "def test_key():\n",
    "    pd.merge(left, right, on='Key')\n",
    "\n",
    "def test_index():\n",
    "    pd.merge(left_index, right_index, left_index=True, right_index=True)\n",
    "\n",
    "def test_index_key():\n",
    "    pd.merge(left_index, right, left_index=True, right_on='Key')\n",
    "\n",
    "def test_key_index():\n",
    "    pd.merge(left, right_index, right_index=True, left_on='Key')\n",
    "\n",
    "%timeit test_key()\n",
    "%timeit test_index()\n",
    "%timeit test_key_index()\n",
    "%timeit test_index_key()\n",
    "%timeit test_join()\n",
    "%timeit test_join_index()"
   ]
  },
  {
   "cell_type": "code",
   "execution_count": 12,
   "metadata": {
    "collapsed": true
   },
   "outputs": [],
   "source": [
    "%%time\n",
    "num_violations = violations.geometry.map(get_parcel_no_fast).value_counts().to_frame(name='NumViolations')"
   ]
  },
  {
   "cell_type": "code",
   "execution_count": 13,
   "metadata": {
    "collapsed": false
   },
   "outputs": [],
   "source": [
    "parcels = pd.merge(parcels, num_violations, how='left', left_index=True, right_index=True)"
   ]
  },
  {
   "cell_type": "code",
   "execution_count": 14,
   "metadata": {
    "collapsed": false
   },
   "outputs": [],
   "source": [
    "parcels.NumViolations = parcels.NumViolations.fillna(0).astype(int)"
   ]
  },
  {
   "cell_type": "code",
   "execution_count": 15,
   "metadata": {
    "collapsed": true
   },
   "outputs": [],
   "source": [
    "parcels.drop('geometry', axis=1).to_csv('output/parcels_num_violations.csv', index=False)"
   ]
  }
 ],
 "metadata": {
  "anaconda-cloud": {},
  "kernelspec": {
   "display_name": "Python [conda env:ds]",
   "language": "python",
   "name": "conda-env-ds-py"
  },
  "language_info": {
   "codemirror_mode": {
    "name": "ipython",
    "version": 3
   },
   "file_extension": ".py",
   "mimetype": "text/x-python",
   "name": "python",
   "nbconvert_exporter": "python",
   "pygments_lexer": "ipython3",
   "version": "3.5.3"
  }
 },
 "nbformat": 4,
 "nbformat_minor": 2
}
