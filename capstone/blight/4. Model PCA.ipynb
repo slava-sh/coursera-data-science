{
 "cells": [
  {
   "cell_type": "code",
   "execution_count": 1,
   "metadata": {
    "collapsed": false
   },
   "outputs": [
    {
     "name": "stderr",
     "output_type": "stream",
     "text": [
      "/workspace/conda/envs/ds/lib/python3.5/site-packages/sklearn/cross_validation.py:44: DeprecationWarning: This module was deprecated in version 0.18 in favor of the model_selection module into which all the refactored classes and functions are moved. Also note that the interface of the new CV iterators are different from that of this module. This module will be removed in 0.20.\n",
      "  \"This module will be removed in 0.20.\", DeprecationWarning)\n"
     ]
    }
   ],
   "source": [
    "%matplotlib inline\n",
    "import numpy as np\n",
    "import pandas as pd\n",
    "import matplotlib.pyplot as plt\n",
    "from sklearn.model_selection import RandomizedSearchCV\n",
    "from sklearn.model_selection import train_test_split\n",
    "from sklearn.metrics import accuracy_score\n",
    "from sklearn.metrics import classification_report\n",
    "from sklearn.metrics import precision_recall_curve\n",
    "from sklearn.pipeline import make_pipeline\n",
    "import pickle\n",
    "import xgboost as xgb\n",
    "from sklearn.decomposition import PCA"
   ]
  },
  {
   "cell_type": "code",
   "execution_count": 2,
   "metadata": {
    "collapsed": true
   },
   "outputs": [],
   "source": [
    "with open('output/2/train.pickle', 'rb') as f:\n",
    "    train = pickle.load(f)"
   ]
  },
  {
   "cell_type": "code",
   "execution_count": null,
   "metadata": {
    "collapsed": false
   },
   "outputs": [
    {
     "name": "stdout",
     "output_type": "stream",
     "text": [
      "(10444, 146) (10444,) 0.5\n"
     ]
    }
   ],
   "source": [
    "print(train.data.shape, train.target.shape, train.target.mean())"
   ]
  },
  {
   "cell_type": "code",
   "execution_count": null,
   "metadata": {
    "collapsed": false,
    "scrolled": false
   },
   "outputs": [],
   "source": [
    "tuner = RandomizedSearchCV(make_pipeline(PCA(n_components=50), xgb.XGBClassifier(n_estimators=100)), {\n",
    "    'xgbclassifier__max_depth': [2, 3, 4, 5],\n",
    "    'xgbclassifier__gamma': [0, 1, 2, 3],\n",
    "    'xgbclassifier__min_child_weight': [0, 1, 2, 3],\n",
    "    'xgbclassifier__subsample': [0.5, 0.75, 1.0],\n",
    "    'xgbclassifier__colsample_bytree': [0.25, 0.5, 0.75, 1.0],\n",
    "    'xgbclassifier__colsample_bylevel': [0.5, 0.75, 1.0],\n",
    "}, scoring='roc_auc', n_iter=30, refit=False, verbose=5)\n",
    "tuner.fit(train.data, train.target)"
   ]
  },
  {
   "cell_type": "code",
   "execution_count": null,
   "metadata": {
    "collapsed": false
   },
   "outputs": [],
   "source": [
    "tuner.best_score_, tuner.best_params_"
   ]
  },
  {
   "cell_type": "code",
   "execution_count": null,
   "metadata": {
    "collapsed": false,
    "scrolled": true
   },
   "outputs": [],
   "source": [
    "model = make_pipeline(PCA(n_components=50), xgb.XGBClassifier(**tuner.best_params_))\n",
    "X_train, X_val, y_train, y_val = train_test_split(train.data, train.target, test_size=1000)\n",
    "eval_set = [(X_train, y_train), (X_val, y_val)]\n",
    "model.fit(X_train, y_train, eval_set=eval_set, eval_metric='error')"
   ]
  },
  {
   "cell_type": "code",
   "execution_count": null,
   "metadata": {
    "collapsed": false
   },
   "outputs": [],
   "source": [
    "def plot_error(model):\n",
    "    plt.figure(figsize=(10, 5))\n",
    "    plt.plot(model.evals_result_['validation_0']['error'], c='r', label='Training error')\n",
    "    if 'validation_1' in model.evals_result_:\n",
    "        plt.plot(model.evals_result_['validation_1']['error'], c='g', label='Validation error')\n",
    "    plt.xlabel('Number of trees')\n",
    "    plt.ylabel('Error')\n",
    "    plt.legend()\n",
    "    plt.grid()\n",
    "\n",
    "plot_error(model)"
   ]
  },
  {
   "cell_type": "code",
   "execution_count": null,
   "metadata": {
    "collapsed": false
   },
   "outputs": [],
   "source": [
    "def plot_precision_recall(y_true, y_probas):\n",
    "    precision, recall, thresholds = precision_recall_curve(y_true, y_probas[:, 1])\n",
    "    plt.plot(recall, precision)\n",
    "    plt.xlabel('Recall')\n",
    "    plt.ylabel('Precision')\n",
    "    plt.ylim([0.0, 1.05])\n",
    "    plt.xlim([0.0, 1.0])\n",
    "    plt.grid()\n",
    "\n",
    "def report(name, y_true, y_probas):\n",
    "    y_pred = np.argmax(y_probas, axis=1)\n",
    "    print('{} accuracy: {:.3f}'.format(name, accuracy_score(y_true, y_pred)))\n",
    "    print(classification_report(y_true, y_pred))\n",
    "    plot_precision_recall(y_true, y_probas)\n",
    "    plt.show()\n",
    "\n",
    "report('training', y_train, model.predict_proba(X_train))\n",
    "report('validation', y_val, model.predict_proba(X_val))"
   ]
  },
  {
   "cell_type": "code",
   "execution_count": null,
   "metadata": {
    "collapsed": false,
    "scrolled": false
   },
   "outputs": [],
   "source": [
    "feature_importances = pd.DataFrame(list(zip(train.feature_names, model.feature_importances_ * 100)))\n",
    "feature_importances.rename(columns={0: 'Feature', 1: 'Importance'}, inplace=True)\n",
    "feature_importances.sort_values(by='Importance', ascending=False)"
   ]
  },
  {
   "cell_type": "markdown",
   "metadata": {},
   "source": [
    "# Simple neural network"
   ]
  },
  {
   "cell_type": "code",
   "execution_count": null,
   "metadata": {
    "collapsed": false,
    "scrolled": true
   },
   "outputs": [],
   "source": [
    "from sklearn.neural_network import MLPClassifier\n",
    "\n",
    "nn = make_pipeline(PCA(n_components=50), MLPClassifier(\n",
    "    hidden_layer_sizes=[300, 200, 100, 50, 50],\n",
    "    learning_rate='adaptive',\n",
    "    validation_fraction=0.2,\n",
    "    verbose=True,\n",
    "))\n",
    "nn.fit(train.data, train.target)"
   ]
  },
  {
   "cell_type": "code",
   "execution_count": null,
   "metadata": {
    "collapsed": false
   },
   "outputs": [],
   "source": [
    "plt.figure(figsize=(10, 5))\n",
    "plt.plot(nn.loss_curve_, c='r', label='training')\n",
    "plt.ylabel('Loss')\n",
    "plt.legend()\n",
    "plt.grid()"
   ]
  },
  {
   "cell_type": "code",
   "execution_count": null,
   "metadata": {
    "collapsed": false
   },
   "outputs": [],
   "source": [
    "report('train', train.target, nn.predict_proba(train.data))"
   ]
  },
  {
   "cell_type": "markdown",
   "metadata": {},
   "source": [
    "# Final model"
   ]
  },
  {
   "cell_type": "code",
   "execution_count": null,
   "metadata": {
    "collapsed": false,
    "scrolled": true
   },
   "outputs": [],
   "source": [
    "model = make_pipeline(PCA(n_components=50), xgb.XGBClassifier(**tuner.best_params_))\n",
    "eval_set = [(train.data, train.target)]\n",
    "model.fit(train.data, train.target, eval_set=eval_set, eval_metric='error')"
   ]
  },
  {
   "cell_type": "code",
   "execution_count": null,
   "metadata": {
    "collapsed": false
   },
   "outputs": [],
   "source": [
    "plot_error(model)"
   ]
  },
  {
   "cell_type": "code",
   "execution_count": null,
   "metadata": {
    "collapsed": false
   },
   "outputs": [],
   "source": [
    "with open('output/2/test_balanced.pickle', 'rb') as f:\n",
    "    test = pickle.load(f)\n",
    "print(test.data.shape, test.target.shape, test.target.mean())\n",
    "report('balanced test', test.target, model.predict_proba(test.data))"
   ]
  },
  {
   "cell_type": "code",
   "execution_count": null,
   "metadata": {
    "collapsed": false
   },
   "outputs": [],
   "source": [
    "ratio1 = 0.0161864681127  # See the output of `train_test_split` in the previous notebook.\n",
    "ratio0 = 1 - ratio1\n",
    "index1 = test.target == 1\n",
    "index0 = ~index1\n",
    "accuracy1 = accuracy_score(test.target[index1], model.predict(test.data[index1]))\n",
    "accuracy0 = accuracy_score(test.target[index0], model.predict(test.data[index0]))\n",
    "print('balanced test accuracy: {:.3f}'.format(accuracy1 * 0.5 + accuracy0 * 0.5))\n",
    "print('stratified test accuracy: {:.3f}'.format(accuracy1 * ratio1 + accuracy0 * ratio0))"
   ]
  }
 ],
 "metadata": {
  "anaconda-cloud": {},
  "kernelspec": {
   "display_name": "Python [conda env:ds]",
   "language": "python",
   "name": "conda-env-ds-py"
  },
  "language_info": {
   "codemirror_mode": {
    "name": "ipython",
    "version": 3
   },
   "file_extension": ".py",
   "mimetype": "text/x-python",
   "name": "python",
   "nbconvert_exporter": "python",
   "pygments_lexer": "ipython3",
   "version": "3.5.3"
  }
 },
 "nbformat": 4,
 "nbformat_minor": 2
}
