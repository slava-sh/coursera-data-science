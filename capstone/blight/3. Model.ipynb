{
 "cells": [
  {
   "cell_type": "code",
   "execution_count": 1,
   "metadata": {
    "collapsed": false
   },
   "outputs": [
    {
     "name": "stderr",
     "output_type": "stream",
     "text": [
      "/workspace/conda/envs/ds/lib/python3.5/site-packages/sklearn/cross_validation.py:44: DeprecationWarning: This module was deprecated in version 0.18 in favor of the model_selection module into which all the refactored classes and functions are moved. Also note that the interface of the new CV iterators are different from that of this module. This module will be removed in 0.20.\n",
      "  \"This module will be removed in 0.20.\", DeprecationWarning)\n"
     ]
    }
   ],
   "source": [
    "%matplotlib inline\n",
    "import numpy as np\n",
    "import pandas as pd\n",
    "import matplotlib.pyplot as plt\n",
    "from sklearn.model_selection import RandomizedSearchCV\n",
    "from sklearn.model_selection import train_test_split\n",
    "from sklearn.metrics import accuracy_score\n",
    "from sklearn.metrics import classification_report\n",
    "from sklearn.metrics import precision_recall_curve\n",
    "import pickle\n",
    "import xgboost as xgb"
   ]
  },
  {
   "cell_type": "code",
   "execution_count": 2,
   "metadata": {
    "collapsed": true
   },
   "outputs": [],
   "source": [
    "with open('output/2/train.pickle', 'rb') as f:\n",
    "    train = pickle.load(f)"
   ]
  },
  {
   "cell_type": "code",
   "execution_count": 3,
   "metadata": {
    "collapsed": false
   },
   "outputs": [
    {
     "name": "stdout",
     "output_type": "stream",
     "text": [
      "(10444, 146) (10444,) 0.5\n"
     ]
    }
   ],
   "source": [
    "print(train.data.shape, train.target.shape, train.target.mean())"
   ]
  },
  {
   "cell_type": "code",
   "execution_count": 4,
   "metadata": {
    "collapsed": false,
    "scrolled": true
   },
   "outputs": [
    {
     "name": "stdout",
     "output_type": "stream",
     "text": [
      "Fitting 3 folds for each of 30 candidates, totalling 90 fits\n",
      "[CV] min_child_weight=20, gamma=5, max_depth=2 .......................\n",
      "[CV]  min_child_weight=20, gamma=5, max_depth=2, score=0.722017, total=   1.2s\n",
      "[CV] min_child_weight=20, gamma=5, max_depth=2 .......................\n"
     ]
    },
    {
     "name": "stderr",
     "output_type": "stream",
     "text": [
      "[Parallel(n_jobs=1)]: Done   1 out of   1 | elapsed:    1.2s remaining:    0.0s\n"
     ]
    },
    {
     "name": "stdout",
     "output_type": "stream",
     "text": [
      "[CV]  min_child_weight=20, gamma=5, max_depth=2, score=0.705278, total=   1.2s\n",
      "[CV] min_child_weight=20, gamma=5, max_depth=2 .......................\n"
     ]
    },
    {
     "name": "stderr",
     "output_type": "stream",
     "text": [
      "[Parallel(n_jobs=1)]: Done   2 out of   2 | elapsed:    2.5s remaining:    0.0s\n"
     ]
    },
    {
     "name": "stdout",
     "output_type": "stream",
     "text": [
      "[CV]  min_child_weight=20, gamma=5, max_depth=2, score=0.713571, total=   1.2s\n",
      "[CV] min_child_weight=20, gamma=5, max_depth=4 .......................\n"
     ]
    },
    {
     "name": "stderr",
     "output_type": "stream",
     "text": [
      "[Parallel(n_jobs=1)]: Done   3 out of   3 | elapsed:    3.7s remaining:    0.0s\n"
     ]
    },
    {
     "name": "stdout",
     "output_type": "stream",
     "text": [
      "[CV]  min_child_weight=20, gamma=5, max_depth=4, score=0.731052, total=   2.2s\n",
      "[CV] min_child_weight=20, gamma=5, max_depth=4 .......................\n"
     ]
    },
    {
     "name": "stderr",
     "output_type": "stream",
     "text": [
      "[Parallel(n_jobs=1)]: Done   4 out of   4 | elapsed:    5.9s remaining:    0.0s\n"
     ]
    },
    {
     "name": "stdout",
     "output_type": "stream",
     "text": [
      "[CV]  min_child_weight=20, gamma=5, max_depth=4, score=0.709989, total=   2.2s\n",
      "[CV] min_child_weight=20, gamma=5, max_depth=4 .......................\n",
      "[CV]  min_child_weight=20, gamma=5, max_depth=4, score=0.720605, total=   2.2s\n",
      "[CV] min_child_weight=1, gamma=5, max_depth=2 ........................\n",
      "[CV]  min_child_weight=1, gamma=5, max_depth=2, score=0.722747, total=   1.2s\n",
      "[CV] min_child_weight=1, gamma=5, max_depth=2 ........................\n",
      "[CV]  min_child_weight=1, gamma=5, max_depth=2, score=0.707176, total=   1.2s\n",
      "[CV] min_child_weight=1, gamma=5, max_depth=2 ........................\n",
      "[CV]  min_child_weight=1, gamma=5, max_depth=2, score=0.714346, total=   1.2s\n",
      "[CV] min_child_weight=1, gamma=1, max_depth=5 ........................\n",
      "[CV]  min_child_weight=1, gamma=1, max_depth=5, score=0.738309, total=   2.8s\n",
      "[CV] min_child_weight=1, gamma=1, max_depth=5 ........................\n",
      "[CV]  min_child_weight=1, gamma=1, max_depth=5, score=0.716231, total=   2.8s\n",
      "[CV] min_child_weight=1, gamma=1, max_depth=5 ........................\n",
      "[CV]  min_child_weight=1, gamma=1, max_depth=5, score=0.726676, total=   2.8s\n",
      "[CV] min_child_weight=0, gamma=0, max_depth=5 ........................\n",
      "[CV]  min_child_weight=0, gamma=0, max_depth=5, score=0.733537, total=   2.8s\n",
      "[CV] min_child_weight=0, gamma=0, max_depth=5 ........................\n",
      "[CV]  min_child_weight=0, gamma=0, max_depth=5, score=0.717370, total=   2.8s\n",
      "[CV] min_child_weight=0, gamma=0, max_depth=5 ........................\n",
      "[CV]  min_child_weight=0, gamma=0, max_depth=5, score=0.724105, total=   2.8s\n",
      "[CV] min_child_weight=20, gamma=10, max_depth=4 ......................\n",
      "[CV]  min_child_weight=20, gamma=10, max_depth=4, score=0.724940, total=   2.2s\n",
      "[CV] min_child_weight=20, gamma=10, max_depth=4 ......................\n",
      "[CV]  min_child_weight=20, gamma=10, max_depth=4, score=0.707070, total=   3.0s\n",
      "[CV] min_child_weight=20, gamma=10, max_depth=4 ......................\n",
      "[CV]  min_child_weight=20, gamma=10, max_depth=4, score=0.711631, total=   2.2s\n",
      "[CV] min_child_weight=5, gamma=5, max_depth=3 ........................\n",
      "[CV]  min_child_weight=5, gamma=5, max_depth=3, score=0.726825, total=   1.7s\n",
      "[CV] min_child_weight=5, gamma=5, max_depth=3 ........................\n",
      "[CV]  min_child_weight=5, gamma=5, max_depth=3, score=0.710668, total=   1.7s\n",
      "[CV] min_child_weight=5, gamma=5, max_depth=3 ........................\n",
      "[CV]  min_child_weight=5, gamma=5, max_depth=3, score=0.719372, total=   1.8s\n",
      "[CV] min_child_weight=10, gamma=5, max_depth=3 .......................\n",
      "[CV]  min_child_weight=10, gamma=5, max_depth=3, score=0.729467, total=   1.7s\n",
      "[CV] min_child_weight=10, gamma=5, max_depth=3 .......................\n",
      "[CV]  min_child_weight=10, gamma=5, max_depth=3, score=0.710608, total=   1.7s\n",
      "[CV] min_child_weight=10, gamma=5, max_depth=3 .......................\n",
      "[CV]  min_child_weight=10, gamma=5, max_depth=3, score=0.718934, total=   1.7s\n",
      "[CV] min_child_weight=1, gamma=0, max_depth=2 ........................\n",
      "[CV]  min_child_weight=1, gamma=0, max_depth=2, score=0.719981, total=   1.2s\n",
      "[CV] min_child_weight=1, gamma=0, max_depth=2 ........................\n",
      "[CV]  min_child_weight=1, gamma=0, max_depth=2, score=0.707102, total=   1.2s\n",
      "[CV] min_child_weight=1, gamma=0, max_depth=2 ........................\n",
      "[CV]  min_child_weight=1, gamma=0, max_depth=2, score=0.713972, total=   1.2s\n",
      "[CV] min_child_weight=0, gamma=3, max_depth=5 ........................\n",
      "[CV]  min_child_weight=0, gamma=3, max_depth=5, score=0.738141, total=   2.8s\n",
      "[CV] min_child_weight=0, gamma=3, max_depth=5 ........................\n",
      "[CV]  min_child_weight=0, gamma=3, max_depth=5, score=0.715967, total=   2.8s\n",
      "[CV] min_child_weight=0, gamma=3, max_depth=5 ........................\n",
      "[CV]  min_child_weight=0, gamma=3, max_depth=5, score=0.725126, total=   2.8s\n",
      "[CV] min_child_weight=10, gamma=2, max_depth=4 .......................\n",
      "[CV]  min_child_weight=10, gamma=2, max_depth=4, score=0.734066, total=   2.2s\n",
      "[CV] min_child_weight=10, gamma=2, max_depth=4 .......................\n",
      "[CV]  min_child_weight=10, gamma=2, max_depth=4, score=0.711482, total=   2.2s\n",
      "[CV] min_child_weight=10, gamma=2, max_depth=4 .......................\n",
      "[CV]  min_child_weight=10, gamma=2, max_depth=4, score=0.722806, total=   2.2s\n",
      "[CV] min_child_weight=0, gamma=5, max_depth=5 ........................\n",
      "[CV]  min_child_weight=0, gamma=5, max_depth=5, score=0.736156, total=   2.7s\n",
      "[CV] min_child_weight=0, gamma=5, max_depth=5 ........................\n",
      "[CV]  min_child_weight=0, gamma=5, max_depth=5, score=0.713531, total=   2.7s\n",
      "[CV] min_child_weight=0, gamma=5, max_depth=5 ........................\n",
      "[CV]  min_child_weight=0, gamma=5, max_depth=5, score=0.729347, total=   2.7s\n",
      "[CV] min_child_weight=5, gamma=20, max_depth=3 .......................\n",
      "[CV]  min_child_weight=5, gamma=20, max_depth=3, score=0.709321, total=   1.7s\n",
      "[CV] min_child_weight=5, gamma=20, max_depth=3 .......................\n",
      "[CV]  min_child_weight=5, gamma=20, max_depth=3, score=0.688761, total=   1.7s\n",
      "[CV] min_child_weight=5, gamma=20, max_depth=3 .......................\n",
      "[CV]  min_child_weight=5, gamma=20, max_depth=3, score=0.700412, total=   1.7s\n",
      "[CV] min_child_weight=10, gamma=3, max_depth=4 .......................\n",
      "[CV]  min_child_weight=10, gamma=3, max_depth=4, score=0.735177, total=   2.2s\n",
      "[CV] min_child_weight=10, gamma=3, max_depth=4 .......................\n",
      "[CV]  min_child_weight=10, gamma=3, max_depth=4, score=0.713968, total=   2.2s\n",
      "[CV] min_child_weight=10, gamma=3, max_depth=4 .......................\n",
      "[CV]  min_child_weight=10, gamma=3, max_depth=4, score=0.721988, total=   2.2s\n",
      "[CV] min_child_weight=0, gamma=1, max_depth=2 ........................\n",
      "[CV]  min_child_weight=0, gamma=1, max_depth=2, score=0.722153, total=   1.2s\n",
      "[CV] min_child_weight=0, gamma=1, max_depth=2 ........................\n",
      "[CV]  min_child_weight=0, gamma=1, max_depth=2, score=0.707028, total=   1.2s\n",
      "[CV] min_child_weight=0, gamma=1, max_depth=2 ........................\n",
      "[CV]  min_child_weight=0, gamma=1, max_depth=2, score=0.713940, total=   1.2s\n",
      "[CV] min_child_weight=1, gamma=10, max_depth=5 .......................\n",
      "[CV]  min_child_weight=1, gamma=10, max_depth=5, score=0.727647, total=   2.7s\n",
      "[CV] min_child_weight=1, gamma=10, max_depth=5 .......................\n",
      "[CV]  min_child_weight=1, gamma=10, max_depth=5, score=0.707075, total=   2.8s\n",
      "[CV] min_child_weight=1, gamma=10, max_depth=5 .......................\n",
      "[CV]  min_child_weight=1, gamma=10, max_depth=5, score=0.715127, total=   2.7s\n",
      "[CV] min_child_weight=5, gamma=2, max_depth=5 ........................\n",
      "[CV]  min_child_weight=5, gamma=2, max_depth=5, score=0.734602, total=   2.8s\n",
      "[CV] min_child_weight=5, gamma=2, max_depth=5 ........................\n",
      "[CV]  min_child_weight=5, gamma=2, max_depth=5, score=0.714930, total=   2.7s\n",
      "[CV] min_child_weight=5, gamma=2, max_depth=5 ........................\n",
      "[CV]  min_child_weight=5, gamma=2, max_depth=5, score=0.722109, total=   2.8s\n",
      "[CV] min_child_weight=5, gamma=3, max_depth=5 ........................\n",
      "[CV]  min_child_weight=5, gamma=3, max_depth=5, score=0.734897, total=   2.7s\n",
      "[CV] min_child_weight=5, gamma=3, max_depth=5 ........................\n",
      "[CV]  min_child_weight=5, gamma=3, max_depth=5, score=0.716923, total=   2.8s\n",
      "[CV] min_child_weight=5, gamma=3, max_depth=5 ........................\n",
      "[CV]  min_child_weight=5, gamma=3, max_depth=5, score=0.729571, total=   2.7s\n",
      "[CV] min_child_weight=1, gamma=3, max_depth=5 ........................\n",
      "[CV]  min_child_weight=1, gamma=3, max_depth=5, score=0.737853, total=   2.8s\n",
      "[CV] min_child_weight=1, gamma=3, max_depth=5 ........................\n",
      "[CV]  min_child_weight=1, gamma=3, max_depth=5, score=0.714500, total=   2.8s\n",
      "[CV] min_child_weight=1, gamma=3, max_depth=5 ........................\n",
      "[CV]  min_child_weight=1, gamma=3, max_depth=5, score=0.725375, total=   2.7s\n",
      "[CV] min_child_weight=1, gamma=3, max_depth=4 ........................\n",
      "[CV]  min_child_weight=1, gamma=3, max_depth=4, score=0.734777, total=   2.2s\n",
      "[CV] min_child_weight=1, gamma=3, max_depth=4 ........................\n",
      "[CV]  min_child_weight=1, gamma=3, max_depth=4, score=0.716096, total=   2.2s\n",
      "[CV] min_child_weight=1, gamma=3, max_depth=4 ........................\n",
      "[CV]  min_child_weight=1, gamma=3, max_depth=4, score=0.723928, total=   2.2s\n",
      "[CV] min_child_weight=3, gamma=3, max_depth=2 ........................\n",
      "[CV]  min_child_weight=3, gamma=3, max_depth=2, score=0.722951, total=   1.2s\n",
      "[CV] min_child_weight=3, gamma=3, max_depth=2 ........................\n",
      "[CV]  min_child_weight=3, gamma=3, max_depth=2, score=0.706878, total=   1.2s\n",
      "[CV] min_child_weight=3, gamma=3, max_depth=2 ........................\n",
      "[CV]  min_child_weight=3, gamma=3, max_depth=2, score=0.715206, total=   1.2s\n",
      "[CV] min_child_weight=10, gamma=1, max_depth=5 .......................\n",
      "[CV]  min_child_weight=10, gamma=1, max_depth=5, score=0.731911, total=   2.7s\n",
      "[CV] min_child_weight=10, gamma=1, max_depth=5 .......................\n",
      "[CV]  min_child_weight=10, gamma=1, max_depth=5, score=0.714418, total=   2.7s\n",
      "[CV] min_child_weight=10, gamma=1, max_depth=5 .......................\n",
      "[CV]  min_child_weight=10, gamma=1, max_depth=5, score=0.724438, total=   2.7s\n",
      "[CV] min_child_weight=20, gamma=1, max_depth=2 .......................\n",
      "[CV]  min_child_weight=20, gamma=1, max_depth=2, score=0.722017, total=   1.2s\n",
      "[CV] min_child_weight=20, gamma=1, max_depth=2 .......................\n",
      "[CV]  min_child_weight=20, gamma=1, max_depth=2, score=0.706087, total=   1.2s\n",
      "[CV] min_child_weight=20, gamma=1, max_depth=2 .......................\n",
      "[CV]  min_child_weight=20, gamma=1, max_depth=2, score=0.713481, total=   1.2s\n",
      "[CV] min_child_weight=10, gamma=2, max_depth=5 .......................\n",
      "[CV]  min_child_weight=10, gamma=2, max_depth=5, score=0.734488, total=   2.8s\n",
      "[CV] min_child_weight=10, gamma=2, max_depth=5 .......................\n",
      "[CV]  min_child_weight=10, gamma=2, max_depth=5, score=0.713585, total=   2.8s\n",
      "[CV] min_child_weight=10, gamma=2, max_depth=5 .......................\n",
      "[CV]  min_child_weight=10, gamma=2, max_depth=5, score=0.727214, total=   2.8s\n",
      "[CV] min_child_weight=5, gamma=0, max_depth=4 ........................\n",
      "[CV]  min_child_weight=5, gamma=0, max_depth=4, score=0.734034, total=   2.2s\n",
      "[CV] min_child_weight=5, gamma=0, max_depth=4 ........................\n",
      "[CV]  min_child_weight=5, gamma=0, max_depth=4, score=0.713014, total=   2.2s\n",
      "[CV] min_child_weight=5, gamma=0, max_depth=4 ........................\n",
      "[CV]  min_child_weight=5, gamma=0, max_depth=4, score=0.722116, total=   2.2s\n",
      "[CV] min_child_weight=2, gamma=0, max_depth=3 ........................\n",
      "[CV]  min_child_weight=2, gamma=0, max_depth=3, score=0.732777, total=   1.7s\n",
      "[CV] min_child_weight=2, gamma=0, max_depth=3 ........................\n",
      "[CV]  min_child_weight=2, gamma=0, max_depth=3, score=0.714217, total=   1.7s\n",
      "[CV] min_child_weight=2, gamma=0, max_depth=3 ........................\n",
      "[CV]  min_child_weight=2, gamma=0, max_depth=3, score=0.720043, total=   1.7s\n",
      "[CV] min_child_weight=10, gamma=1, max_depth=2 .......................\n",
      "[CV]  min_child_weight=10, gamma=1, max_depth=2, score=0.721608, total=   1.2s\n",
      "[CV] min_child_weight=10, gamma=1, max_depth=2 .......................\n",
      "[CV]  min_child_weight=10, gamma=1, max_depth=2, score=0.705413, total=   1.2s\n",
      "[CV] min_child_weight=10, gamma=1, max_depth=2 .......................\n",
      "[CV]  min_child_weight=10, gamma=1, max_depth=2, score=0.714642, total=   1.2s\n",
      "[CV] min_child_weight=2, gamma=2, max_depth=5 ........................\n",
      "[CV]  min_child_weight=2, gamma=2, max_depth=5, score=0.738366, total=   2.7s\n",
      "[CV] min_child_weight=2, gamma=2, max_depth=5 ........................\n",
      "[CV]  min_child_weight=2, gamma=2, max_depth=5, score=0.711868, total=   2.8s\n",
      "[CV] min_child_weight=2, gamma=2, max_depth=5 ........................\n",
      "[CV]  min_child_weight=2, gamma=2, max_depth=5, score=0.726899, total=   2.7s\n",
      "[CV] min_child_weight=1, gamma=2, max_depth=5 ........................\n",
      "[CV]  min_child_weight=1, gamma=2, max_depth=5, score=0.737628, total=   2.8s\n",
      "[CV] min_child_weight=1, gamma=2, max_depth=5 ........................\n",
      "[CV]  min_child_weight=1, gamma=2, max_depth=5, score=0.712825, total=   2.8s\n",
      "[CV] min_child_weight=1, gamma=2, max_depth=5 ........................\n",
      "[CV]  min_child_weight=1, gamma=2, max_depth=5, score=0.726172, total=   2.8s\n",
      "[CV] min_child_weight=20, gamma=2, max_depth=4 .......................\n",
      "[CV]  min_child_weight=20, gamma=2, max_depth=4, score=0.733250, total=   2.2s\n",
      "[CV] min_child_weight=20, gamma=2, max_depth=4 .......................\n",
      "[CV]  min_child_weight=20, gamma=2, max_depth=4, score=0.712358, total=   2.2s\n",
      "[CV] min_child_weight=20, gamma=2, max_depth=4 .......................\n",
      "[CV]  min_child_weight=20, gamma=2, max_depth=4, score=0.721217, total=   2.2s\n"
     ]
    },
    {
     "name": "stderr",
     "output_type": "stream",
     "text": [
      "[Parallel(n_jobs=1)]: Done  90 out of  90 | elapsed:  3.2min finished\n"
     ]
    },
    {
     "data": {
      "text/plain": [
       "RandomizedSearchCV(cv=None, error_score='raise',\n",
       "          estimator=XGBClassifier(base_score=0.5, colsample_bylevel=1, colsample_bytree=1,\n",
       "       gamma=0, learning_rate=0.1, max_delta_step=0, max_depth=3,\n",
       "       min_child_weight=1, missing=None, n_estimators=100, nthread=-1,\n",
       "       objective='binary:logistic', reg_alpha=0, reg_lambda=1,\n",
       "       scale_pos_weight=1, seed=0, silent=True, subsample=1),\n",
       "          fit_params={}, iid=True, n_iter=30, n_jobs=1,\n",
       "          param_distributions={'min_child_weight': [0, 1, 2, 3, 5, 10, 20], 'gamma': [0, 1, 2, 3, 5, 10, 20], 'max_depth': [2, 3, 4, 5]},\n",
       "          pre_dispatch='2*n_jobs', random_state=None, refit=False,\n",
       "          return_train_score=True, scoring='roc_auc', verbose=5)"
      ]
     },
     "execution_count": 4,
     "metadata": {},
     "output_type": "execute_result"
    }
   ],
   "source": [
    "tuner = RandomizedSearchCV(xgb.XGBClassifier(n_estimators=100), {\n",
    "    'max_depth': [2, 3, 4, 5],\n",
    "    'gamma': [0, 1, 2, 3, 5, 10, 20],\n",
    "    'min_child_weight': [0, 1, 2, 3, 5, 10, 20],\n",
    "}, scoring='roc_auc', n_iter=30, refit=False, verbose=5)\n",
    "tuner.fit(train.data, train.target)"
   ]
  },
  {
   "cell_type": "code",
   "execution_count": 5,
   "metadata": {
    "collapsed": false
   },
   "outputs": [
    {
     "data": {
      "text/plain": [
       "(0.72712990156195811, {'gamma': 3, 'max_depth': 5, 'min_child_weight': 5})"
      ]
     },
     "execution_count": 5,
     "metadata": {},
     "output_type": "execute_result"
    }
   ],
   "source": [
    "tuner.best_score_, tuner.best_params_"
   ]
  },
  {
   "cell_type": "code",
   "execution_count": 6,
   "metadata": {
    "collapsed": false,
    "scrolled": true
   },
   "outputs": [
    {
     "name": "stdout",
     "output_type": "stream",
     "text": [
      "[0]\tvalidation_0-error:0.364888\tvalidation_1-error:0.374\n",
      "[1]\tvalidation_0-error:0.357264\tvalidation_1-error:0.354\n",
      "[2]\tvalidation_0-error:0.351864\tvalidation_1-error:0.353\n",
      "[3]\tvalidation_0-error:0.353875\tvalidation_1-error:0.353\n",
      "[4]\tvalidation_0-error:0.350169\tvalidation_1-error:0.348\n",
      "[5]\tvalidation_0-error:0.34784\tvalidation_1-error:0.345\n",
      "[6]\tvalidation_0-error:0.346675\tvalidation_1-error:0.347\n",
      "[7]\tvalidation_0-error:0.341063\tvalidation_1-error:0.351\n",
      "[8]\tvalidation_0-error:0.341275\tvalidation_1-error:0.354\n",
      "[9]\tvalidation_0-error:0.339475\tvalidation_1-error:0.356\n",
      "[10]\tvalidation_0-error:0.336192\tvalidation_1-error:0.348\n",
      "[11]\tvalidation_0-error:0.334816\tvalidation_1-error:0.346\n",
      "[12]\tvalidation_0-error:0.332486\tvalidation_1-error:0.339\n",
      "[13]\tvalidation_0-error:0.330051\tvalidation_1-error:0.345\n",
      "[14]\tvalidation_0-error:0.329733\tvalidation_1-error:0.343\n",
      "[15]\tvalidation_0-error:0.326662\tvalidation_1-error:0.338\n",
      "[16]\tvalidation_0-error:0.326133\tvalidation_1-error:0.335\n",
      "[17]\tvalidation_0-error:0.325286\tvalidation_1-error:0.34\n",
      "[18]\tvalidation_0-error:0.320839\tvalidation_1-error:0.337\n",
      "[19]\tvalidation_0-error:0.320627\tvalidation_1-error:0.338\n",
      "[20]\tvalidation_0-error:0.321898\tvalidation_1-error:0.333\n",
      "[21]\tvalidation_0-error:0.318615\tvalidation_1-error:0.336\n",
      "[22]\tvalidation_0-error:0.317874\tvalidation_1-error:0.333\n",
      "[23]\tvalidation_0-error:0.313956\tvalidation_1-error:0.331\n",
      "[24]\tvalidation_0-error:0.311309\tvalidation_1-error:0.328\n",
      "[25]\tvalidation_0-error:0.310568\tvalidation_1-error:0.331\n",
      "[26]\tvalidation_0-error:0.31025\tvalidation_1-error:0.33\n",
      "[27]\tvalidation_0-error:0.308238\tvalidation_1-error:0.328\n",
      "[28]\tvalidation_0-error:0.304638\tvalidation_1-error:0.324\n",
      "[29]\tvalidation_0-error:0.303897\tvalidation_1-error:0.327\n",
      "[30]\tvalidation_0-error:0.302838\tvalidation_1-error:0.328\n",
      "[31]\tvalidation_0-error:0.299238\tvalidation_1-error:0.322\n",
      "[32]\tvalidation_0-error:0.297967\tvalidation_1-error:0.322\n",
      "[33]\tvalidation_0-error:0.298285\tvalidation_1-error:0.325\n",
      "[34]\tvalidation_0-error:0.297014\tvalidation_1-error:0.326\n",
      "[35]\tvalidation_0-error:0.297014\tvalidation_1-error:0.329\n",
      "[36]\tvalidation_0-error:0.293096\tvalidation_1-error:0.325\n",
      "[37]\tvalidation_0-error:0.291931\tvalidation_1-error:0.323\n",
      "[38]\tvalidation_0-error:0.291508\tvalidation_1-error:0.326\n",
      "[39]\tvalidation_0-error:0.289284\tvalidation_1-error:0.324\n",
      "[40]\tvalidation_0-error:0.289602\tvalidation_1-error:0.326\n",
      "[41]\tvalidation_0-error:0.288331\tvalidation_1-error:0.327\n",
      "[42]\tvalidation_0-error:0.287484\tvalidation_1-error:0.327\n",
      "[43]\tvalidation_0-error:0.286531\tvalidation_1-error:0.327\n",
      "[44]\tvalidation_0-error:0.285472\tvalidation_1-error:0.325\n",
      "[45]\tvalidation_0-error:0.284096\tvalidation_1-error:0.324\n",
      "[46]\tvalidation_0-error:0.283566\tvalidation_1-error:0.325\n",
      "[47]\tvalidation_0-error:0.282931\tvalidation_1-error:0.323\n",
      "[48]\tvalidation_0-error:0.280707\tvalidation_1-error:0.323\n",
      "[49]\tvalidation_0-error:0.279648\tvalidation_1-error:0.323\n",
      "[50]\tvalidation_0-error:0.276789\tvalidation_1-error:0.327\n",
      "[51]\tvalidation_0-error:0.275836\tvalidation_1-error:0.322\n",
      "[52]\tvalidation_0-error:0.275519\tvalidation_1-error:0.321\n",
      "[53]\tvalidation_0-error:0.275201\tvalidation_1-error:0.321\n",
      "[54]\tvalidation_0-error:0.274142\tvalidation_1-error:0.317\n",
      "[55]\tvalidation_0-error:0.273825\tvalidation_1-error:0.314\n",
      "[56]\tvalidation_0-error:0.27266\tvalidation_1-error:0.317\n",
      "[57]\tvalidation_0-error:0.271389\tvalidation_1-error:0.315\n",
      "[58]\tvalidation_0-error:0.270542\tvalidation_1-error:0.313\n",
      "[59]\tvalidation_0-error:0.270013\tvalidation_1-error:0.315\n",
      "[60]\tvalidation_0-error:0.269695\tvalidation_1-error:0.312\n",
      "[61]\tvalidation_0-error:0.267577\tvalidation_1-error:0.313\n",
      "[62]\tvalidation_0-error:0.26726\tvalidation_1-error:0.312\n",
      "[63]\tvalidation_0-error:0.266201\tvalidation_1-error:0.312\n",
      "[64]\tvalidation_0-error:0.266095\tvalidation_1-error:0.313\n",
      "[65]\tvalidation_0-error:0.265777\tvalidation_1-error:0.311\n",
      "[66]\tvalidation_0-error:0.264507\tvalidation_1-error:0.312\n",
      "[67]\tvalidation_0-error:0.264612\tvalidation_1-error:0.311\n",
      "[68]\tvalidation_0-error:0.263659\tvalidation_1-error:0.312\n",
      "[69]\tvalidation_0-error:0.263342\tvalidation_1-error:0.313\n",
      "[70]\tvalidation_0-error:0.259424\tvalidation_1-error:0.314\n",
      "[71]\tvalidation_0-error:0.258789\tvalidation_1-error:0.313\n",
      "[72]\tvalidation_0-error:0.257518\tvalidation_1-error:0.314\n",
      "[73]\tvalidation_0-error:0.256883\tvalidation_1-error:0.314\n",
      "[74]\tvalidation_0-error:0.256671\tvalidation_1-error:0.314\n",
      "[75]\tvalidation_0-error:0.256036\tvalidation_1-error:0.312\n",
      "[76]\tvalidation_0-error:0.254341\tvalidation_1-error:0.312\n",
      "[77]\tvalidation_0-error:0.253918\tvalidation_1-error:0.311\n",
      "[78]\tvalidation_0-error:0.254236\tvalidation_1-error:0.312\n",
      "[79]\tvalidation_0-error:0.253918\tvalidation_1-error:0.311\n",
      "[80]\tvalidation_0-error:0.252965\tvalidation_1-error:0.311\n",
      "[81]\tvalidation_0-error:0.252753\tvalidation_1-error:0.311\n",
      "[82]\tvalidation_0-error:0.252118\tvalidation_1-error:0.309\n",
      "[83]\tvalidation_0-error:0.2518\tvalidation_1-error:0.309\n",
      "[84]\tvalidation_0-error:0.250953\tvalidation_1-error:0.31\n",
      "[85]\tvalidation_0-error:0.249576\tvalidation_1-error:0.307\n",
      "[86]\tvalidation_0-error:0.248729\tvalidation_1-error:0.308\n",
      "[87]\tvalidation_0-error:0.247141\tvalidation_1-error:0.309\n",
      "[88]\tvalidation_0-error:0.246612\tvalidation_1-error:0.307\n",
      "[89]\tvalidation_0-error:0.246929\tvalidation_1-error:0.307\n",
      "[90]\tvalidation_0-error:0.246929\tvalidation_1-error:0.307\n",
      "[91]\tvalidation_0-error:0.245765\tvalidation_1-error:0.312\n",
      "[92]\tvalidation_0-error:0.244706\tvalidation_1-error:0.315\n",
      "[93]\tvalidation_0-error:0.244706\tvalidation_1-error:0.315\n",
      "[94]\tvalidation_0-error:0.242694\tvalidation_1-error:0.316\n",
      "[95]\tvalidation_0-error:0.242164\tvalidation_1-error:0.316\n",
      "[96]\tvalidation_0-error:0.242376\tvalidation_1-error:0.317\n",
      "[97]\tvalidation_0-error:0.241529\tvalidation_1-error:0.314\n",
      "[98]\tvalidation_0-error:0.24047\tvalidation_1-error:0.316\n",
      "[99]\tvalidation_0-error:0.239199\tvalidation_1-error:0.312\n"
     ]
    },
    {
     "data": {
      "text/plain": [
       "XGBClassifier(base_score=0.5, colsample_bylevel=1, colsample_bytree=1,\n",
       "       gamma=3, learning_rate=0.1, max_delta_step=0, max_depth=5,\n",
       "       min_child_weight=5, missing=None, n_estimators=100, nthread=-1,\n",
       "       objective='binary:logistic', reg_alpha=0, reg_lambda=1,\n",
       "       scale_pos_weight=1, seed=0, silent=True, subsample=1)"
      ]
     },
     "execution_count": 6,
     "metadata": {},
     "output_type": "execute_result"
    }
   ],
   "source": [
    "model = xgb.XGBClassifier(**tuner.best_params_)\n",
    "X_train, X_val, y_train, y_val = train_test_split(train.data, train.target, test_size=1000)\n",
    "eval_set = [(X_train, y_train), (X_val, y_val)]\n",
    "model.fit(X_train, y_train, eval_set=eval_set, eval_metric='error')"
   ]
  },
  {
   "cell_type": "code",
   "execution_count": 7,
   "metadata": {
    "collapsed": false
   },
   "outputs": [
    {
     "data": {
      "image/png": "[encoded data removed]",
      "text/plain": [
       "<matplotlib.figure.Figure at 0x7fe4265d1cf8>"
      ]
     },
     "metadata": {},
     "output_type": "display_data"
    }
   ],
   "source": [
    "def plot_error(model):\n",
    "    plt.figure(figsize=(10, 5))\n",
    "    plt.plot(model.evals_result_['validation_0']['error'], c='r', label='Training error')\n",
    "    if 'validation_1' in model.evals_result_:\n",
    "        plt.plot(model.evals_result_['validation_1']['error'], c='g', label='Validation error')\n",
    "    plt.xlabel('Number of trees')\n",
    "    plt.ylabel('Error')\n",
    "    plt.legend()\n",
    "    plt.grid()\n",
    "\n",
    "plot_error(model)"
   ]
  },
  {
   "cell_type": "code",
   "execution_count": 8,
   "metadata": {
    "collapsed": false
   },
   "outputs": [
    {
     "name": "stdout",
     "output_type": "stream",
     "text": [
      "training accuracy: 0.761\n",
      "             precision    recall  f1-score   support\n",
      "\n",
      "          0       0.77      0.73      0.75      4696\n",
      "          1       0.75      0.79      0.77      4748\n",
      "\n",
      "avg / total       0.76      0.76      0.76      9444\n",
      "\n"
     ]
    },
    {
     "data": {
      "image/png": "[encoded data removed]",
      "text/plain": [
       "<matplotlib.figure.Figure at 0x7fe4265d1dd8>"
      ]
     },
     "metadata": {},
     "output_type": "display_data"
    },
    {
     "name": "stdout",
     "output_type": "stream",
     "text": [
      "validation accuracy: 0.688\n",
      "             precision    recall  f1-score   support\n",
      "\n",
      "          0       0.71      0.68      0.70       526\n",
      "          1       0.66      0.69      0.68       474\n",
      "\n",
      "avg / total       0.69      0.69      0.69      1000\n",
      "\n"
     ]
    },
    {
     "data": {
      "image/png": "[encoded data removed]",
      "text/plain": [
       "<matplotlib.figure.Figure at 0x7fe425a7fac8>"
      ]
     },
     "metadata": {},
     "output_type": "display_data"
    }
   ],
   "source": [
    "def plot_precision_recall(y_true, y_probas):\n",
    "    precision, recall, thresholds = precision_recall_curve(y_true, y_probas[:, 1])\n",
    "    plt.plot(recall, precision)\n",
    "    plt.xlabel('Recall')\n",
    "    plt.ylabel('Precision')\n",
    "    plt.ylim([0.0, 1.05])\n",
    "    plt.xlim([0.0, 1.0])\n",
    "    plt.grid()\n",
    "\n",
    "def report(name, y_true, y_probas):\n",
    "    y_pred = np.argmax(y_probas, axis=1)\n",
    "    print('{} accuracy: {:.3f}'.format(name, accuracy_score(y_true, y_pred)))\n",
    "    print(classification_report(y_true, y_pred))\n",
    "    plot_precision_recall(y_true, y_probas)\n",
    "    plt.show()\n",
    "\n",
    "report('training', y_train, model.predict_proba(X_train))\n",
    "report('validation', y_val, model.predict_proba(X_val))"
   ]
  },
  {
   "cell_type": "code",
   "execution_count": 9,
   "metadata": {
    "collapsed": false,
    "scrolled": false
   },
   "outputs": [
    {
     "data": {
      "text/html": [
       "<div>\n",
       "<table border=\"1\" class=\"dataframe\">\n",
       "  <thead>\n",
       "    <tr style=\"text-align: right;\">\n",
       "      <th></th>\n",
       "      <th>Feature</th>\n",
       "      <th>Importance</th>\n",
       "    </tr>\n",
       "  </thead>\n",
       "  <tbody>\n",
       "    <tr>\n",
       "      <th>3</th>\n",
       "      <td>Violations20</td>\n",
       "      <td>5.319823</td>\n",
       "    </tr>\n",
       "    <tr>\n",
       "      <th>4</th>\n",
       "      <td>Violations1000</td>\n",
       "      <td>4.876504</td>\n",
       "    </tr>\n",
       "    <tr>\n",
       "      <th>0</th>\n",
       "      <td>X</td>\n",
       "      <td>4.369854</td>\n",
       "    </tr>\n",
       "    <tr>\n",
       "      <th>1</th>\n",
       "      <td>Y</td>\n",
       "      <td>3.989867</td>\n",
       "    </tr>\n",
       "    <tr>\n",
       "      <th>76</th>\n",
       "      <td>Fraud1000</td>\n",
       "      <td>3.673211</td>\n",
       "    </tr>\n",
       "    <tr>\n",
       "      <th>73</th>\n",
       "      <td>Burglary1000</td>\n",
       "      <td>3.356555</td>\n",
       "    </tr>\n",
       "    <tr>\n",
       "      <th>72</th>\n",
       "      <td>AggravatedAssault1000</td>\n",
       "      <td>2.849905</td>\n",
       "    </tr>\n",
       "    <tr>\n",
       "      <th>75</th>\n",
       "      <td>DrivingOnSuspended1000</td>\n",
       "      <td>2.849905</td>\n",
       "    </tr>\n",
       "    <tr>\n",
       "      <th>70</th>\n",
       "      <td>Larceny1000</td>\n",
       "      <td>2.723243</td>\n",
       "    </tr>\n",
       "    <tr>\n",
       "      <th>71</th>\n",
       "      <td>DamageToProperty1000</td>\n",
       "      <td>2.723243</td>\n",
       "    </tr>\n",
       "    <tr>\n",
       "      <th>67</th>\n",
       "      <td>Crimes1000</td>\n",
       "      <td>2.469918</td>\n",
       "    </tr>\n",
       "    <tr>\n",
       "      <th>130</th>\n",
       "      <td>Calls1000</td>\n",
       "      <td>2.406586</td>\n",
       "    </tr>\n",
       "    <tr>\n",
       "      <th>79</th>\n",
       "      <td>ObstructingJudiciary1000</td>\n",
       "      <td>2.343255</td>\n",
       "    </tr>\n",
       "    <tr>\n",
       "      <th>132</th>\n",
       "      <td>TreeIssue1000</td>\n",
       "      <td>2.279924</td>\n",
       "    </tr>\n",
       "    <tr>\n",
       "      <th>133</th>\n",
       "      <td>RunningWaterInAHomeOrBuilding1000</td>\n",
       "      <td>2.279924</td>\n",
       "    </tr>\n",
       "    <tr>\n",
       "      <th>69</th>\n",
       "      <td>Assault1000</td>\n",
       "      <td>2.216593</td>\n",
       "    </tr>\n",
       "    <tr>\n",
       "      <th>137</th>\n",
       "      <td>WaterMainBreak1000</td>\n",
       "      <td>2.216593</td>\n",
       "    </tr>\n",
       "    <tr>\n",
       "      <th>78</th>\n",
       "      <td>DangerousDrugs1000</td>\n",
       "      <td>2.216593</td>\n",
       "    </tr>\n",
       "    <tr>\n",
       "      <th>134</th>\n",
       "      <td>CloggedDrain1000</td>\n",
       "      <td>2.216593</td>\n",
       "    </tr>\n",
       "    <tr>\n",
       "      <th>74</th>\n",
       "      <td>StolenVehicle1000</td>\n",
       "      <td>2.153262</td>\n",
       "    </tr>\n",
       "    <tr>\n",
       "      <th>131</th>\n",
       "      <td>IllegalDumping1000</td>\n",
       "      <td>1.773274</td>\n",
       "    </tr>\n",
       "    <tr>\n",
       "      <th>81</th>\n",
       "      <td>Escape1000</td>\n",
       "      <td>1.583281</td>\n",
       "    </tr>\n",
       "    <tr>\n",
       "      <th>135</th>\n",
       "      <td>Potholes1000</td>\n",
       "      <td>1.583281</td>\n",
       "    </tr>\n",
       "    <tr>\n",
       "      <th>139</th>\n",
       "      <td>AbandonedVehicle1000</td>\n",
       "      <td>1.583281</td>\n",
       "    </tr>\n",
       "    <tr>\n",
       "      <th>68</th>\n",
       "      <td>MotorcycleViolations1000</td>\n",
       "      <td>1.583281</td>\n",
       "    </tr>\n",
       "    <tr>\n",
       "      <th>77</th>\n",
       "      <td>Robbery1000</td>\n",
       "      <td>1.456618</td>\n",
       "    </tr>\n",
       "    <tr>\n",
       "      <th>145</th>\n",
       "      <td>CurbsideSolidWasteIssue1000</td>\n",
       "      <td>1.456618</td>\n",
       "    </tr>\n",
       "    <tr>\n",
       "      <th>84</th>\n",
       "      <td>Arson1000</td>\n",
       "      <td>1.393287</td>\n",
       "    </tr>\n",
       "    <tr>\n",
       "      <th>141</th>\n",
       "      <td>TrafficSignalIssue1000</td>\n",
       "      <td>1.393287</td>\n",
       "    </tr>\n",
       "    <tr>\n",
       "      <th>37</th>\n",
       "      <td>MotorcycleViolations20</td>\n",
       "      <td>1.393287</td>\n",
       "    </tr>\n",
       "    <tr>\n",
       "      <th>...</th>\n",
       "      <td>...</td>\n",
       "      <td>...</td>\n",
       "    </tr>\n",
       "    <tr>\n",
       "      <th>53</th>\n",
       "      <td>Arson20</td>\n",
       "      <td>0.000000</td>\n",
       "    </tr>\n",
       "    <tr>\n",
       "      <th>54</th>\n",
       "      <td>OuilDisposeOfVehicleToAvoidForfeiture20</td>\n",
       "      <td>0.000000</td>\n",
       "    </tr>\n",
       "    <tr>\n",
       "      <th>55</th>\n",
       "      <td>Runaway20</td>\n",
       "      <td>0.000000</td>\n",
       "    </tr>\n",
       "    <tr>\n",
       "      <th>57</th>\n",
       "      <td>ObstructingThePolice20</td>\n",
       "      <td>0.000000</td>\n",
       "    </tr>\n",
       "    <tr>\n",
       "      <th>44</th>\n",
       "      <td>DrivingOnSuspended20</td>\n",
       "      <td>0.000000</td>\n",
       "    </tr>\n",
       "    <tr>\n",
       "      <th>59</th>\n",
       "      <td>Homicide20</td>\n",
       "      <td>0.000000</td>\n",
       "    </tr>\n",
       "    <tr>\n",
       "      <th>60</th>\n",
       "      <td>OtherBurglary20</td>\n",
       "      <td>0.000000</td>\n",
       "    </tr>\n",
       "    <tr>\n",
       "      <th>61</th>\n",
       "      <td>Health-Safety20</td>\n",
       "      <td>0.000000</td>\n",
       "    </tr>\n",
       "    <tr>\n",
       "      <th>62</th>\n",
       "      <td>Kidnaping20</td>\n",
       "      <td>0.000000</td>\n",
       "    </tr>\n",
       "    <tr>\n",
       "      <th>63</th>\n",
       "      <td>Forgery20</td>\n",
       "      <td>0.000000</td>\n",
       "    </tr>\n",
       "    <tr>\n",
       "      <th>64</th>\n",
       "      <td>Extortion20</td>\n",
       "      <td>0.000000</td>\n",
       "    </tr>\n",
       "    <tr>\n",
       "      <th>47</th>\n",
       "      <td>DangerousDrugs20</td>\n",
       "      <td>0.000000</td>\n",
       "    </tr>\n",
       "    <tr>\n",
       "      <th>35</th>\n",
       "      <td>Environment0</td>\n",
       "      <td>0.000000</td>\n",
       "    </tr>\n",
       "    <tr>\n",
       "      <th>108</th>\n",
       "      <td>ManholeCoverIssue0</td>\n",
       "      <td>0.000000</td>\n",
       "    </tr>\n",
       "    <tr>\n",
       "      <th>101</th>\n",
       "      <td>RunningWaterInAHomeOrBuilding0</td>\n",
       "      <td>0.000000</td>\n",
       "    </tr>\n",
       "    <tr>\n",
       "      <th>107</th>\n",
       "      <td>AbandonedVehicle0</td>\n",
       "      <td>0.000000</td>\n",
       "    </tr>\n",
       "    <tr>\n",
       "      <th>106</th>\n",
       "      <td>FireHydrantIssue0</td>\n",
       "      <td>0.000000</td>\n",
       "    </tr>\n",
       "    <tr>\n",
       "      <th>105</th>\n",
       "      <td>WaterMainBreak0</td>\n",
       "      <td>0.000000</td>\n",
       "    </tr>\n",
       "    <tr>\n",
       "      <th>104</th>\n",
       "      <td>TrafficSignIssue0</td>\n",
       "      <td>0.000000</td>\n",
       "    </tr>\n",
       "    <tr>\n",
       "      <th>103</th>\n",
       "      <td>Potholes0</td>\n",
       "      <td>0.000000</td>\n",
       "    </tr>\n",
       "    <tr>\n",
       "      <th>102</th>\n",
       "      <td>CloggedDrain0</td>\n",
       "      <td>0.000000</td>\n",
       "    </tr>\n",
       "    <tr>\n",
       "      <th>100</th>\n",
       "      <td>TreeIssue0</td>\n",
       "      <td>0.000000</td>\n",
       "    </tr>\n",
       "    <tr>\n",
       "      <th>34</th>\n",
       "      <td>PublicPeace0</td>\n",
       "      <td>0.000000</td>\n",
       "    </tr>\n",
       "    <tr>\n",
       "      <th>28</th>\n",
       "      <td>Homicide0</td>\n",
       "      <td>0.000000</td>\n",
       "    </tr>\n",
       "    <tr>\n",
       "      <th>29</th>\n",
       "      <td>OtherBurglary0</td>\n",
       "      <td>0.000000</td>\n",
       "    </tr>\n",
       "    <tr>\n",
       "      <th>30</th>\n",
       "      <td>Health-Safety0</td>\n",
       "      <td>0.000000</td>\n",
       "    </tr>\n",
       "    <tr>\n",
       "      <th>31</th>\n",
       "      <td>Kidnaping0</td>\n",
       "      <td>0.000000</td>\n",
       "    </tr>\n",
       "    <tr>\n",
       "      <th>32</th>\n",
       "      <td>Forgery0</td>\n",
       "      <td>0.000000</td>\n",
       "    </tr>\n",
       "    <tr>\n",
       "      <th>33</th>\n",
       "      <td>Extortion0</td>\n",
       "      <td>0.000000</td>\n",
       "    </tr>\n",
       "    <tr>\n",
       "      <th>2</th>\n",
       "      <td>Violations0</td>\n",
       "      <td>0.000000</td>\n",
       "    </tr>\n",
       "  </tbody>\n",
       "</table>\n",
       "<p>146 rows × 2 columns</p>\n",
       "</div>"
      ],
      "text/plain": [
       "                                     Feature  Importance\n",
       "3                               Violations20    5.319823\n",
       "4                             Violations1000    4.876504\n",
       "0                                          X    4.369854\n",
       "1                                          Y    3.989867\n",
       "76                                 Fraud1000    3.673211\n",
       "73                              Burglary1000    3.356555\n",
       "72                     AggravatedAssault1000    2.849905\n",
       "75                    DrivingOnSuspended1000    2.849905\n",
       "70                               Larceny1000    2.723243\n",
       "71                      DamageToProperty1000    2.723243\n",
       "67                                Crimes1000    2.469918\n",
       "130                                Calls1000    2.406586\n",
       "79                  ObstructingJudiciary1000    2.343255\n",
       "132                            TreeIssue1000    2.279924\n",
       "133        RunningWaterInAHomeOrBuilding1000    2.279924\n",
       "69                               Assault1000    2.216593\n",
       "137                       WaterMainBreak1000    2.216593\n",
       "78                        DangerousDrugs1000    2.216593\n",
       "134                         CloggedDrain1000    2.216593\n",
       "74                         StolenVehicle1000    2.153262\n",
       "131                       IllegalDumping1000    1.773274\n",
       "81                                Escape1000    1.583281\n",
       "135                             Potholes1000    1.583281\n",
       "139                     AbandonedVehicle1000    1.583281\n",
       "68                  MotorcycleViolations1000    1.583281\n",
       "77                               Robbery1000    1.456618\n",
       "145              CurbsideSolidWasteIssue1000    1.456618\n",
       "84                                 Arson1000    1.393287\n",
       "141                   TrafficSignalIssue1000    1.393287\n",
       "37                    MotorcycleViolations20    1.393287\n",
       "..                                       ...         ...\n",
       "53                                   Arson20    0.000000\n",
       "54   OuilDisposeOfVehicleToAvoidForfeiture20    0.000000\n",
       "55                                 Runaway20    0.000000\n",
       "57                    ObstructingThePolice20    0.000000\n",
       "44                      DrivingOnSuspended20    0.000000\n",
       "59                                Homicide20    0.000000\n",
       "60                           OtherBurglary20    0.000000\n",
       "61                           Health-Safety20    0.000000\n",
       "62                               Kidnaping20    0.000000\n",
       "63                                 Forgery20    0.000000\n",
       "64                               Extortion20    0.000000\n",
       "47                          DangerousDrugs20    0.000000\n",
       "35                              Environment0    0.000000\n",
       "108                       ManholeCoverIssue0    0.000000\n",
       "101           RunningWaterInAHomeOrBuilding0    0.000000\n",
       "107                        AbandonedVehicle0    0.000000\n",
       "106                        FireHydrantIssue0    0.000000\n",
       "105                          WaterMainBreak0    0.000000\n",
       "104                        TrafficSignIssue0    0.000000\n",
       "103                                Potholes0    0.000000\n",
       "102                            CloggedDrain0    0.000000\n",
       "100                               TreeIssue0    0.000000\n",
       "34                              PublicPeace0    0.000000\n",
       "28                                 Homicide0    0.000000\n",
       "29                            OtherBurglary0    0.000000\n",
       "30                            Health-Safety0    0.000000\n",
       "31                                Kidnaping0    0.000000\n",
       "32                                  Forgery0    0.000000\n",
       "33                                Extortion0    0.000000\n",
       "2                                Violations0    0.000000\n",
       "\n",
       "[146 rows x 2 columns]"
      ]
     },
     "execution_count": 9,
     "metadata": {},
     "output_type": "execute_result"
    }
   ],
   "source": [
    "feature_importances = pd.DataFrame(list(zip(train.feature_names, model.feature_importances_ * 100)))\n",
    "feature_importances.rename(columns={0: 'Feature', 1: 'Importance'}, inplace=True)\n",
    "feature_importances.sort_values(by='Importance', ascending=False)"
   ]
  },
  {
   "cell_type": "markdown",
   "metadata": {},
   "source": [
    "# Simple neural network"
   ]
  },
  {
   "cell_type": "code",
   "execution_count": 10,
   "metadata": {
    "collapsed": false,
    "scrolled": true
   },
   "outputs": [
    {
     "name": "stdout",
     "output_type": "stream",
     "text": [
      "Iteration 1, loss = 7.55235244\n",
      "Iteration 2, loss = 4.14862016\n",
      "Iteration 3, loss = 3.54759473\n",
      "Iteration 4, loss = 2.48671470\n",
      "Iteration 5, loss = 2.52352492\n",
      "Iteration 6, loss = 2.04314345\n",
      "Iteration 7, loss = 1.94013903\n",
      "Iteration 8, loss = 1.48453484\n",
      "Iteration 9, loss = 1.22954690\n",
      "Iteration 10, loss = 1.06720985\n",
      "Iteration 11, loss = 0.92687538\n",
      "Iteration 12, loss = 0.99997728\n",
      "Iteration 13, loss = 1.00034795\n",
      "Iteration 14, loss = 0.89904655\n",
      "Iteration 15, loss = 0.90816461\n",
      "Iteration 16, loss = 0.87690709\n",
      "Iteration 17, loss = 0.81009359\n",
      "Iteration 18, loss = 0.78054902\n",
      "Iteration 19, loss = 0.75916855\n",
      "Iteration 20, loss = 0.78145301\n",
      "Iteration 21, loss = 0.74369374\n",
      "Iteration 22, loss = 0.76853151\n",
      "Iteration 23, loss = 0.74289562\n",
      "Iteration 24, loss = 0.76248408\n",
      "Iteration 25, loss = 0.73986909\n",
      "Iteration 26, loss = 0.71928955\n",
      "Iteration 27, loss = 0.74902260\n",
      "Iteration 28, loss = 0.70755327\n",
      "Iteration 29, loss = 0.73407263\n",
      "Iteration 30, loss = 0.70895725\n",
      "Iteration 31, loss = 0.69712325\n",
      "Iteration 32, loss = 0.68331616\n",
      "Iteration 33, loss = 0.69381056\n",
      "Iteration 34, loss = 0.69711038\n",
      "Iteration 35, loss = 0.70006174\n",
      "Training loss did not improve more than tol=0.000100 for two consecutive epochs. Stopping.\n"
     ]
    },
    {
     "data": {
      "text/plain": [
       "MLPClassifier(activation='relu', alpha=0.0001, batch_size='auto', beta_1=0.9,\n",
       "       beta_2=0.999, early_stopping=False, epsilon=1e-08,\n",
       "       hidden_layer_sizes=[300, 300, 300], learning_rate='adaptive',\n",
       "       learning_rate_init=0.001, max_iter=200, momentum=0.9,\n",
       "       nesterovs_momentum=True, power_t=0.5, random_state=None,\n",
       "       shuffle=True, solver='adam', tol=0.0001, validation_fraction=0.2,\n",
       "       verbose=True, warm_start=False)"
      ]
     },
     "execution_count": 10,
     "metadata": {},
     "output_type": "execute_result"
    }
   ],
   "source": [
    "from sklearn.neural_network import MLPClassifier\n",
    "\n",
    "nn = MLPClassifier(\n",
    "    hidden_layer_sizes=[300, 300, 300],\n",
    "    learning_rate='adaptive',\n",
    "    validation_fraction=0.2,\n",
    "    verbose=True,\n",
    ")\n",
    "nn.fit(train.data, train.target)"
   ]
  },
  {
   "cell_type": "code",
   "execution_count": 11,
   "metadata": {
    "collapsed": false
   },
   "outputs": [
    {
     "data": {
      "image/png": "[encoded data removed]",
      "text/plain": [
       "<matplotlib.figure.Figure at 0x7fe425a317f0>"
      ]
     },
     "metadata": {},
     "output_type": "display_data"
    }
   ],
   "source": [
    "plt.figure(figsize=(10, 5))\n",
    "plt.plot(nn.loss_curve_, c='r', label='training')\n",
    "plt.ylabel('Loss')\n",
    "plt.legend()\n",
    "plt.grid()"
   ]
  },
  {
   "cell_type": "code",
   "execution_count": 12,
   "metadata": {
    "collapsed": false
   },
   "outputs": [
    {
     "name": "stdout",
     "output_type": "stream",
     "text": [
      "train accuracy: 0.623\n",
      "             precision    recall  f1-score   support\n",
      "\n",
      "          0       0.63      0.58      0.61      5222\n",
      "          1       0.61      0.66      0.64      5222\n",
      "\n",
      "avg / total       0.62      0.62      0.62     10444\n",
      "\n"
     ]
    },
    {
     "data": {
      "image/png": "[encoded data removed]",
      "text/plain": [
       "<matplotlib.figure.Figure at 0x7fe4259c9e80>"
      ]
     },
     "metadata": {},
     "output_type": "display_data"
    }
   ],
   "source": [
    "report('train', train.target, nn.predict_proba(train.data))"
   ]
  },
  {
   "cell_type": "markdown",
   "metadata": {},
   "source": [
    "# Final model"
   ]
  },
  {
   "cell_type": "code",
   "execution_count": 13,
   "metadata": {
    "collapsed": false,
    "scrolled": true
   },
   "outputs": [
    {
     "name": "stdout",
     "output_type": "stream",
     "text": [
      "[0]\tvalidation_0-error:0.361739\n",
      "[1]\tvalidation_0-error:0.357239\n",
      "[2]\tvalidation_0-error:0.356664\n",
      "[3]\tvalidation_0-error:0.354653\n",
      "[4]\tvalidation_0-error:0.350919\n",
      "[5]\tvalidation_0-error:0.349004\n",
      "[6]\tvalidation_0-error:0.345462\n",
      "[7]\tvalidation_0-error:0.344791\n",
      "[8]\tvalidation_0-error:0.341153\n",
      "[9]\tvalidation_0-error:0.341727\n",
      "[10]\tvalidation_0-error:0.337802\n",
      "[11]\tvalidation_0-error:0.33694\n",
      "[12]\tvalidation_0-error:0.333397\n",
      "[13]\tvalidation_0-error:0.332918\n",
      "[14]\tvalidation_0-error:0.329663\n",
      "[15]\tvalidation_0-error:0.328418\n",
      "[16]\tvalidation_0-error:0.324971\n",
      "[17]\tvalidation_0-error:0.321141\n",
      "[18]\tvalidation_0-error:0.317886\n",
      "[19]\tvalidation_0-error:0.315396\n",
      "[20]\tvalidation_0-error:0.316067\n",
      "[21]\tvalidation_0-error:0.315779\n",
      "[22]\tvalidation_0-error:0.313577\n",
      "[23]\tvalidation_0-error:0.313003\n",
      "[24]\tvalidation_0-error:0.311279\n",
      "[25]\tvalidation_0-error:0.307258\n",
      "[26]\tvalidation_0-error:0.306779\n",
      "[27]\tvalidation_0-error:0.306013\n",
      "[28]\tvalidation_0-error:0.302566\n",
      "[29]\tvalidation_0-error:0.30247\n",
      "[30]\tvalidation_0-error:0.301226\n",
      "[31]\tvalidation_0-error:0.300268\n",
      "[32]\tvalidation_0-error:0.29797\n",
      "[33]\tvalidation_0-error:0.296917\n",
      "[34]\tvalidation_0-error:0.297204\n",
      "[35]\tvalidation_0-error:0.29414\n",
      "[36]\tvalidation_0-error:0.29347\n",
      "[37]\tvalidation_0-error:0.291842\n",
      "[38]\tvalidation_0-error:0.290597\n",
      "[39]\tvalidation_0-error:0.290502\n",
      "[40]\tvalidation_0-error:0.28897\n",
      "[41]\tvalidation_0-error:0.287917\n",
      "[42]\tvalidation_0-error:0.287534\n",
      "[43]\tvalidation_0-error:0.284661\n",
      "[44]\tvalidation_0-error:0.283799\n",
      "[45]\tvalidation_0-error:0.283033\n",
      "[46]\tvalidation_0-error:0.282267\n",
      "[47]\tvalidation_0-error:0.28198\n",
      "[48]\tvalidation_0-error:0.28198\n",
      "[49]\tvalidation_0-error:0.281501\n",
      "[50]\tvalidation_0-error:0.27882\n",
      "[51]\tvalidation_0-error:0.277671\n",
      "[52]\tvalidation_0-error:0.277001\n",
      "[53]\tvalidation_0-error:0.276139\n",
      "[54]\tvalidation_0-error:0.275661\n",
      "[55]\tvalidation_0-error:0.27499\n",
      "[56]\tvalidation_0-error:0.274607\n",
      "[57]\tvalidation_0-error:0.274033\n",
      "[58]\tvalidation_0-error:0.271448\n",
      "[59]\tvalidation_0-error:0.270682\n",
      "[60]\tvalidation_0-error:0.270011\n",
      "[61]\tvalidation_0-error:0.269916\n",
      "[62]\tvalidation_0-error:0.268384\n",
      "[63]\tvalidation_0-error:0.268001\n",
      "[64]\tvalidation_0-error:0.266277\n",
      "[65]\tvalidation_0-error:0.264171\n",
      "[66]\tvalidation_0-error:0.261969\n",
      "[67]\tvalidation_0-error:0.262256\n",
      "[68]\tvalidation_0-error:0.261777\n",
      "[69]\tvalidation_0-error:0.261107\n",
      "[70]\tvalidation_0-error:0.260245\n",
      "[71]\tvalidation_0-error:0.259575\n",
      "[72]\tvalidation_0-error:0.258809\n",
      "[73]\tvalidation_0-error:0.258617\n",
      "[74]\tvalidation_0-error:0.257373\n",
      "[75]\tvalidation_0-error:0.257947\n",
      "[76]\tvalidation_0-error:0.256894\n",
      "[77]\tvalidation_0-error:0.256511\n",
      "[78]\tvalidation_0-error:0.255745\n",
      "[79]\tvalidation_0-error:0.255266\n",
      "[80]\tvalidation_0-error:0.253351\n",
      "[81]\tvalidation_0-error:0.252872\n",
      "[82]\tvalidation_0-error:0.252585\n",
      "[83]\tvalidation_0-error:0.252394\n",
      "[84]\tvalidation_0-error:0.250862\n",
      "[85]\tvalidation_0-error:0.250766\n",
      "[86]\tvalidation_0-error:0.250192\n",
      "[87]\tvalidation_0-error:0.249713\n",
      "[88]\tvalidation_0-error:0.249809\n",
      "[89]\tvalidation_0-error:0.248085\n",
      "[90]\tvalidation_0-error:0.247989\n",
      "[91]\tvalidation_0-error:0.248372\n",
      "[92]\tvalidation_0-error:0.247511\n",
      "[93]\tvalidation_0-error:0.247032\n",
      "[94]\tvalidation_0-error:0.246553\n",
      "[95]\tvalidation_0-error:0.245021\n",
      "[96]\tvalidation_0-error:0.244734\n",
      "[97]\tvalidation_0-error:0.244447\n",
      "[98]\tvalidation_0-error:0.242819\n",
      "[99]\tvalidation_0-error:0.242436\n"
     ]
    },
    {
     "data": {
      "text/plain": [
       "XGBClassifier(base_score=0.5, colsample_bylevel=1, colsample_bytree=1,\n",
       "       gamma=3, learning_rate=0.1, max_delta_step=0, max_depth=5,\n",
       "       min_child_weight=5, missing=None, n_estimators=100, nthread=-1,\n",
       "       objective='binary:logistic', reg_alpha=0, reg_lambda=1,\n",
       "       scale_pos_weight=1, seed=0, silent=True, subsample=1)"
      ]
     },
     "execution_count": 13,
     "metadata": {},
     "output_type": "execute_result"
    }
   ],
   "source": [
    "model = xgb.XGBClassifier(**tuner.best_params_)\n",
    "eval_set = [(train.data, train.target)]\n",
    "model.fit(train.data, train.target, eval_set=eval_set, eval_metric='error')"
   ]
  },
  {
   "cell_type": "code",
   "execution_count": 14,
   "metadata": {
    "collapsed": false
   },
   "outputs": [
    {
     "data": {
      "image/png": "[encoded data removed]",
      "text/plain": [
       "<matplotlib.figure.Figure at 0x7fe42596bd30>"
      ]
     },
     "metadata": {},
     "output_type": "display_data"
    }
   ],
   "source": [
    "plot_error(model)"
   ]
  },
  {
   "cell_type": "code",
   "execution_count": 15,
   "metadata": {
    "collapsed": false
   },
   "outputs": [
    {
     "name": "stdout",
     "output_type": "stream",
     "text": [
      "(2000, 146) (2000,) 0.5\n",
      "balanced test accuracy: 0.655\n",
      "             precision    recall  f1-score   support\n",
      "\n",
      "          0       0.65      0.66      0.66      1000\n",
      "          1       0.66      0.65      0.65      1000\n",
      "\n",
      "avg / total       0.66      0.66      0.66      2000\n",
      "\n"
     ]
    },
    {
     "data": {
      "image/png": "[encoded data removed]",
      "text/plain": [
       "<matplotlib.figure.Figure at 0x7fe4259195c0>"
      ]
     },
     "metadata": {},
     "output_type": "display_data"
    }
   ],
   "source": [
    "with open('output/2/test_balanced.pickle', 'rb') as f:\n",
    "    test = pickle.load(f)\n",
    "print(test.data.shape, test.target.shape, test.target.mean())\n",
    "report('balanced test', test.target, model.predict_proba(test.data))"
   ]
  },
  {
   "cell_type": "code",
   "execution_count": 16,
   "metadata": {
    "collapsed": false
   },
   "outputs": [
    {
     "name": "stdout",
     "output_type": "stream",
     "text": [
      "balanced test accuracy: 0.655\n",
      "stratified test accuracy: 0.664\n"
     ]
    }
   ],
   "source": [
    "ratio1 = 0.0161864681127  # See the output of `train_test_split` in the previous notebook.\n",
    "ratio0 = 1 - ratio1\n",
    "index1 = test.target == 1\n",
    "index0 = ~index1\n",
    "accuracy1 = accuracy_score(test.target[index1], model.predict(test.data[index1]))\n",
    "accuracy0 = accuracy_score(test.target[index0], model.predict(test.data[index0]))\n",
    "print('balanced test accuracy: {:.3f}'.format(accuracy1 * 0.5 + accuracy0 * 0.5))\n",
    "print('stratified test accuracy: {:.3f}'.format(accuracy1 * ratio1 + accuracy0 * ratio0))"
   ]
  }
 ],
 "metadata": {
  "anaconda-cloud": {},
  "kernelspec": {
   "display_name": "Python [conda env:ds]",
   "language": "python",
   "name": "conda-env-ds-py"
  },
  "language_info": {
   "codemirror_mode": {
    "name": "ipython",
    "version": 3
   },
   "file_extension": ".py",
   "mimetype": "text/x-python",
   "name": "python",
   "nbconvert_exporter": "python",
   "pygments_lexer": "ipython3",
   "version": "3.5.3"
  }
 },
 "nbformat": 4,
 "nbformat_minor": 2
}
