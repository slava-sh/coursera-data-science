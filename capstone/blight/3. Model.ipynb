{
 "cells": [
  {
   "cell_type": "code",
   "execution_count": 1,
   "metadata": {
    "collapsed": false
   },
   "outputs": [
    {
     "name": "stderr",
     "output_type": "stream",
     "text": [
      "/workspace/conda/envs/ds/lib/python3.5/site-packages/sklearn/cross_validation.py:44: DeprecationWarning: This module was deprecated in version 0.18 in favor of the model_selection module into which all the refactored classes and functions are moved. Also note that the interface of the new CV iterators are different from that of this module. This module will be removed in 0.20.\n",
      "  \"This module will be removed in 0.20.\", DeprecationWarning)\n"
     ]
    }
   ],
   "source": [
    "%matplotlib inline\n",
    "import numpy as np\n",
    "import pandas as pd\n",
    "import matplotlib.pyplot as plt\n",
    "from sklearn.model_selection import RandomizedSearchCV\n",
    "from sklearn.model_selection import train_test_split\n",
    "from sklearn.metrics import accuracy_score\n",
    "from sklearn.metrics import classification_report\n",
    "import pickle\n",
    "import xgboost as xgb"
   ]
  },
  {
   "cell_type": "code",
   "execution_count": 2,
   "metadata": {
    "collapsed": true
   },
   "outputs": [],
   "source": [
    "with open('output/2/train.pickle', 'rb') as f:\n",
    "    train = pickle.load(f)\n",
    "\n",
    "with open('output/2/test.pickle', 'rb') as f:\n",
    "    test = pickle.load(f)"
   ]
  },
  {
   "cell_type": "code",
   "execution_count": 3,
   "metadata": {
    "collapsed": false
   },
   "outputs": [
    {
     "name": "stdout",
     "output_type": "stream",
     "text": [
      "(10444, 146) (10444,) 0.5\n"
     ]
    }
   ],
   "source": [
    "print(train.data.shape, train.target.shape, train.target.mean())"
   ]
  },
  {
   "cell_type": "code",
   "execution_count": 4,
   "metadata": {
    "collapsed": false,
    "scrolled": true
   },
   "outputs": [
    {
     "name": "stdout",
     "output_type": "stream",
     "text": [
      "Fitting 3 folds for each of 30 candidates, totalling 90 fits\n",
      "[CV] min_child_weight=2, gamma=1, max_depth=2 ........................\n",
      "[CV]  min_child_weight=2, gamma=1, max_depth=2, score=0.646755, total=   1.2s\n",
      "[CV] min_child_weight=2, gamma=1, max_depth=2 ........................\n"
     ]
    },
    {
     "name": "stderr",
     "output_type": "stream",
     "text": [
      "[Parallel(n_jobs=1)]: Done   1 out of   1 | elapsed:    1.2s remaining:    0.0s\n"
     ]
    },
    {
     "name": "stdout",
     "output_type": "stream",
     "text": [
      "[CV]  min_child_weight=2, gamma=1, max_depth=2, score=0.645319, total=   1.2s\n",
      "[CV] min_child_weight=2, gamma=1, max_depth=2 ........................\n"
     ]
    },
    {
     "name": "stderr",
     "output_type": "stream",
     "text": [
      "[Parallel(n_jobs=1)]: Done   2 out of   2 | elapsed:    2.5s remaining:    0.0s\n"
     ]
    },
    {
     "name": "stdout",
     "output_type": "stream",
     "text": [
      "[CV]  min_child_weight=2, gamma=1, max_depth=2, score=0.645115, total=   1.2s\n",
      "[CV] min_child_weight=1, gamma=0, max_depth=5 ........................\n"
     ]
    },
    {
     "name": "stderr",
     "output_type": "stream",
     "text": [
      "[Parallel(n_jobs=1)]: Done   3 out of   3 | elapsed:    3.7s remaining:    0.0s\n"
     ]
    },
    {
     "name": "stdout",
     "output_type": "stream",
     "text": [
      "[CV]  min_child_weight=1, gamma=0, max_depth=5, score=0.658242, total=   2.8s\n",
      "[CV] min_child_weight=1, gamma=0, max_depth=5 ........................\n"
     ]
    },
    {
     "name": "stderr",
     "output_type": "stream",
     "text": [
      "[Parallel(n_jobs=1)]: Done   4 out of   4 | elapsed:    6.5s remaining:    0.0s\n"
     ]
    },
    {
     "name": "stdout",
     "output_type": "stream",
     "text": [
      "[CV]  min_child_weight=1, gamma=0, max_depth=5, score=0.662263, total=   2.8s\n",
      "[CV] min_child_weight=1, gamma=0, max_depth=5 ........................\n",
      "[CV]  min_child_weight=1, gamma=0, max_depth=5, score=0.652874, total=   2.8s\n",
      "[CV] min_child_weight=0, gamma=2, max_depth=2 ........................\n",
      "[CV]  min_child_weight=0, gamma=2, max_depth=2, score=0.651063, total=   1.2s\n",
      "[CV] min_child_weight=0, gamma=2, max_depth=2 ........................\n",
      "[CV]  min_child_weight=0, gamma=2, max_depth=2, score=0.646468, total=   1.2s\n",
      "[CV] min_child_weight=0, gamma=2, max_depth=2 ........................\n",
      "[CV]  min_child_weight=0, gamma=2, max_depth=2, score=0.647989, total=   1.2s\n",
      "[CV] min_child_weight=3, gamma=1, max_depth=2 ........................\n",
      "[CV]  min_child_weight=3, gamma=1, max_depth=2, score=0.645893, total=   1.2s\n",
      "[CV] min_child_weight=3, gamma=1, max_depth=2 ........................\n",
      "[CV]  min_child_weight=3, gamma=1, max_depth=2, score=0.645319, total=   1.2s\n",
      "[CV] min_child_weight=3, gamma=1, max_depth=2 ........................\n",
      "[CV]  min_child_weight=3, gamma=1, max_depth=2, score=0.645690, total=   1.2s\n",
      "[CV] min_child_weight=3, gamma=1, max_depth=5 ........................\n",
      "[CV]  min_child_weight=3, gamma=1, max_depth=5, score=0.654222, total=   2.8s\n",
      "[CV] min_child_weight=3, gamma=1, max_depth=5 ........................\n",
      "[CV]  min_child_weight=3, gamma=1, max_depth=5, score=0.661976, total=   2.7s\n",
      "[CV] min_child_weight=3, gamma=1, max_depth=5 ........................\n",
      "[CV]  min_child_weight=3, gamma=1, max_depth=5, score=0.652011, total=   2.8s\n",
      "[CV] min_child_weight=2, gamma=2, max_depth=2 ........................\n",
      "[CV]  min_child_weight=2, gamma=2, max_depth=2, score=0.646180, total=   1.2s\n",
      "[CV] min_child_weight=2, gamma=2, max_depth=2 ........................\n",
      "[CV]  min_child_weight=2, gamma=2, max_depth=2, score=0.645319, total=   1.2s\n",
      "[CV] min_child_weight=2, gamma=2, max_depth=2 ........................\n",
      "[CV]  min_child_weight=2, gamma=2, max_depth=2, score=0.646264, total=   1.2s\n",
      "[CV] min_child_weight=3, gamma=2, max_depth=3 ........................\n",
      "[CV]  min_child_weight=3, gamma=2, max_depth=3, score=0.651350, total=   1.7s\n",
      "[CV] min_child_weight=3, gamma=2, max_depth=3 ........................\n",
      "[CV]  min_child_weight=3, gamma=2, max_depth=3, score=0.662550, total=   1.7s\n",
      "[CV] min_child_weight=3, gamma=2, max_depth=3 ........................\n",
      "[CV]  min_child_weight=3, gamma=2, max_depth=3, score=0.650575, total=   1.7s\n",
      "[CV] min_child_weight=2, gamma=3, max_depth=2 ........................\n",
      "[CV]  min_child_weight=2, gamma=3, max_depth=2, score=0.647042, total=   1.2s\n",
      "[CV] min_child_weight=2, gamma=3, max_depth=2 ........................\n",
      "[CV]  min_child_weight=2, gamma=3, max_depth=2, score=0.645319, total=   1.2s\n",
      "[CV] min_child_weight=2, gamma=3, max_depth=2 ........................\n",
      "[CV]  min_child_weight=2, gamma=3, max_depth=2, score=0.646264, total=   1.2s\n",
      "[CV] min_child_weight=3, gamma=0, max_depth=3 ........................\n",
      "[CV]  min_child_weight=3, gamma=0, max_depth=3, score=0.650201, total=   1.7s\n",
      "[CV] min_child_weight=3, gamma=0, max_depth=3 ........................\n",
      "[CV]  min_child_weight=3, gamma=0, max_depth=3, score=0.652499, total=   1.7s\n",
      "[CV] min_child_weight=3, gamma=0, max_depth=3 ........................\n",
      "[CV]  min_child_weight=3, gamma=0, max_depth=3, score=0.651437, total=   1.7s\n",
      "[CV] min_child_weight=3, gamma=1, max_depth=4 ........................\n",
      "[CV]  min_child_weight=3, gamma=1, max_depth=4, score=0.656519, total=   2.2s\n",
      "[CV] min_child_weight=3, gamma=1, max_depth=4 ........................\n",
      "[CV]  min_child_weight=3, gamma=1, max_depth=4, score=0.661401, total=   2.2s\n",
      "[CV] min_child_weight=3, gamma=1, max_depth=4 ........................\n",
      "[CV]  min_child_weight=3, gamma=1, max_depth=4, score=0.649425, total=   2.2s\n",
      "[CV] min_child_weight=1, gamma=1, max_depth=2 ........................\n",
      "[CV]  min_child_weight=1, gamma=1, max_depth=2, score=0.648478, total=   1.2s\n",
      "[CV] min_child_weight=1, gamma=1, max_depth=2 ........................\n",
      "[CV]  min_child_weight=1, gamma=1, max_depth=2, score=0.643883, total=   1.2s\n",
      "[CV] min_child_weight=1, gamma=1, max_depth=2 ........................\n",
      "[CV]  min_child_weight=1, gamma=1, max_depth=2, score=0.643103, total=   1.2s\n",
      "[CV] min_child_weight=2, gamma=1, max_depth=3 ........................\n",
      "[CV]  min_child_weight=2, gamma=1, max_depth=3, score=0.652499, total=   1.7s\n",
      "[CV] min_child_weight=2, gamma=1, max_depth=3 ........................\n",
      "[CV]  min_child_weight=2, gamma=1, max_depth=3, score=0.654509, total=   1.7s\n",
      "[CV] min_child_weight=2, gamma=1, max_depth=3 ........................\n",
      "[CV]  min_child_weight=2, gamma=1, max_depth=3, score=0.651724, total=   1.7s\n",
      "[CV] min_child_weight=2, gamma=1, max_depth=5 ........................\n",
      "[CV]  min_child_weight=2, gamma=1, max_depth=5, score=0.655370, total=   2.8s\n",
      "[CV] min_child_weight=2, gamma=1, max_depth=5 ........................\n",
      "[CV]  min_child_weight=2, gamma=1, max_depth=5, score=0.663986, total=   2.8s\n",
      "[CV] min_child_weight=2, gamma=1, max_depth=5 ........................\n",
      "[CV]  min_child_weight=2, gamma=1, max_depth=5, score=0.658621, total=   2.8s\n",
      "[CV] min_child_weight=2, gamma=0, max_depth=2 ........................\n",
      "[CV]  min_child_weight=2, gamma=0, max_depth=2, score=0.646755, total=   1.2s\n",
      "[CV] min_child_weight=2, gamma=0, max_depth=2 ........................\n",
      "[CV]  min_child_weight=2, gamma=0, max_depth=2, score=0.645319, total=   1.2s\n",
      "[CV] min_child_weight=2, gamma=0, max_depth=2 ........................\n",
      "[CV]  min_child_weight=2, gamma=0, max_depth=2, score=0.645115, total=   1.2s\n",
      "[CV] min_child_weight=1, gamma=3, max_depth=5 ........................\n",
      "[CV]  min_child_weight=1, gamma=3, max_depth=5, score=0.658530, total=   2.8s\n",
      "[CV] min_child_weight=1, gamma=3, max_depth=5 ........................\n",
      "[CV]  min_child_weight=1, gamma=3, max_depth=5, score=0.658530, total=   2.7s\n",
      "[CV] min_child_weight=1, gamma=3, max_depth=5 ........................\n",
      "[CV]  min_child_weight=1, gamma=3, max_depth=5, score=0.656322, total=   2.8s\n",
      "[CV] min_child_weight=0, gamma=3, max_depth=4 ........................\n",
      "[CV]  min_child_weight=0, gamma=3, max_depth=4, score=0.659678, total=   2.2s\n",
      "[CV] min_child_weight=0, gamma=3, max_depth=4 ........................\n",
      "[CV]  min_child_weight=0, gamma=3, max_depth=4, score=0.664848, total=   2.2s\n",
      "[CV] min_child_weight=0, gamma=3, max_depth=4 ........................\n",
      "[CV]  min_child_weight=0, gamma=3, max_depth=4, score=0.654885, total=   2.2s\n",
      "[CV] min_child_weight=3, gamma=2, max_depth=2 ........................\n",
      "[CV]  min_child_weight=3, gamma=2, max_depth=2, score=0.652499, total=   1.2s\n",
      "[CV] min_child_weight=3, gamma=2, max_depth=2 ........................\n",
      "[CV]  min_child_weight=3, gamma=2, max_depth=2, score=0.647329, total=   1.2s\n",
      "[CV] min_child_weight=3, gamma=2, max_depth=2 ........................\n",
      "[CV]  min_child_weight=3, gamma=2, max_depth=2, score=0.645690, total=   1.2s\n",
      "[CV] min_child_weight=1, gamma=1, max_depth=4 ........................\n",
      "[CV]  min_child_weight=1, gamma=1, max_depth=4, score=0.657094, total=   2.2s\n",
      "[CV] min_child_weight=1, gamma=1, max_depth=4 ........................\n",
      "[CV]  min_child_weight=1, gamma=1, max_depth=4, score=0.654796, total=   2.2s\n",
      "[CV] min_child_weight=1, gamma=1, max_depth=4 ........................\n",
      "[CV]  min_child_weight=1, gamma=1, max_depth=4, score=0.656322, total=   2.2s\n",
      "[CV] min_child_weight=0, gamma=2, max_depth=5 ........................\n",
      "[CV]  min_child_weight=0, gamma=2, max_depth=5, score=0.655370, total=   2.8s\n",
      "[CV] min_child_weight=0, gamma=2, max_depth=5 ........................\n",
      "[CV]  min_child_weight=0, gamma=2, max_depth=5, score=0.662263, total=   2.8s\n",
      "[CV] min_child_weight=0, gamma=2, max_depth=5 ........................\n",
      "[CV]  min_child_weight=0, gamma=2, max_depth=5, score=0.657184, total=   2.8s\n",
      "[CV] min_child_weight=0, gamma=1, max_depth=2 ........................\n",
      "[CV]  min_child_weight=0, gamma=1, max_depth=2, score=0.651063, total=   1.2s\n",
      "[CV] min_child_weight=0, gamma=1, max_depth=2 ........................\n",
      "[CV]  min_child_weight=0, gamma=1, max_depth=2, score=0.645606, total=   1.2s\n",
      "[CV] min_child_weight=0, gamma=1, max_depth=2 ........................\n",
      "[CV]  min_child_weight=0, gamma=1, max_depth=2, score=0.647989, total=   1.2s\n",
      "[CV] min_child_weight=3, gamma=3, max_depth=5 ........................\n",
      "[CV]  min_child_weight=3, gamma=3, max_depth=5, score=0.651637, total=   2.8s\n",
      "[CV] min_child_weight=3, gamma=3, max_depth=5 ........................\n",
      "[CV]  min_child_weight=3, gamma=3, max_depth=5, score=0.668007, total=   2.7s\n",
      "[CV] min_child_weight=3, gamma=3, max_depth=5 ........................\n",
      "[CV]  min_child_weight=3, gamma=3, max_depth=5, score=0.660345, total=   2.8s\n",
      "[CV] min_child_weight=0, gamma=2, max_depth=4 ........................\n",
      "[CV]  min_child_weight=0, gamma=2, max_depth=4, score=0.656806, total=   2.2s\n",
      "[CV] min_child_weight=0, gamma=2, max_depth=4 ........................\n",
      "[CV]  min_child_weight=0, gamma=2, max_depth=4, score=0.660540, total=   2.2s\n",
      "[CV] min_child_weight=0, gamma=2, max_depth=4 ........................\n",
      "[CV]  min_child_weight=0, gamma=2, max_depth=4, score=0.652299, total=   2.2s\n",
      "[CV] min_child_weight=1, gamma=1, max_depth=5 ........................\n",
      "[CV]  min_child_weight=1, gamma=1, max_depth=5, score=0.657381, total=   2.8s\n",
      "[CV] min_child_weight=1, gamma=1, max_depth=5 ........................\n",
      "[CV]  min_child_weight=1, gamma=1, max_depth=5, score=0.661114, total=   2.8s\n",
      "[CV] min_child_weight=1, gamma=1, max_depth=5 ........................\n",
      "[CV]  min_child_weight=1, gamma=1, max_depth=5, score=0.654598, total=   2.8s\n",
      "[CV] min_child_weight=1, gamma=3, max_depth=2 ........................\n",
      "[CV]  min_child_weight=1, gamma=3, max_depth=2, score=0.650201, total=   1.2s\n",
      "[CV] min_child_weight=1, gamma=3, max_depth=2 ........................\n",
      "[CV]  min_child_weight=1, gamma=3, max_depth=2, score=0.643596, total=   1.2s\n",
      "[CV] min_child_weight=1, gamma=3, max_depth=2 ........................\n",
      "[CV]  min_child_weight=1, gamma=3, max_depth=2, score=0.645115, total=   1.2s\n",
      "[CV] min_child_weight=0, gamma=0, max_depth=5 ........................\n",
      "[CV]  min_child_weight=0, gamma=0, max_depth=5, score=0.654796, total=   2.8s\n",
      "[CV] min_child_weight=0, gamma=0, max_depth=5 ........................\n",
      "[CV]  min_child_weight=0, gamma=0, max_depth=5, score=0.667720, total=   2.8s\n",
      "[CV] min_child_weight=0, gamma=0, max_depth=5 ........................\n",
      "[CV]  min_child_weight=0, gamma=0, max_depth=5, score=0.656034, total=   2.8s\n",
      "[CV] min_child_weight=3, gamma=3, max_depth=2 ........................\n",
      "[CV]  min_child_weight=3, gamma=3, max_depth=2, score=0.645893, total=   1.2s\n",
      "[CV] min_child_weight=3, gamma=3, max_depth=2 ........................\n",
      "[CV]  min_child_weight=3, gamma=3, max_depth=2, score=0.648191, total=   1.2s\n",
      "[CV] min_child_weight=3, gamma=3, max_depth=2 ........................\n",
      "[CV]  min_child_weight=3, gamma=3, max_depth=2, score=0.645690, total=   1.2s\n",
      "[CV] min_child_weight=3, gamma=2, max_depth=5 ........................\n",
      "[CV]  min_child_weight=3, gamma=2, max_depth=5, score=0.664273, total=   2.8s\n",
      "[CV] min_child_weight=3, gamma=2, max_depth=5 ........................\n",
      "[CV]  min_child_weight=3, gamma=2, max_depth=5, score=0.661114, total=   2.8s\n",
      "[CV] min_child_weight=3, gamma=2, max_depth=5 ........................\n",
      "[CV]  min_child_weight=3, gamma=2, max_depth=5, score=0.654023, total=   2.8s\n",
      "[CV] min_child_weight=2, gamma=0, max_depth=5 ........................\n",
      "[CV]  min_child_weight=2, gamma=0, max_depth=5, score=0.656806, total=   2.7s\n",
      "[CV] min_child_weight=2, gamma=0, max_depth=5 ........................\n",
      "[CV]  min_child_weight=2, gamma=0, max_depth=5, score=0.656806, total=   2.8s\n",
      "[CV] min_child_weight=2, gamma=0, max_depth=5 ........................\n",
      "[CV]  min_child_weight=2, gamma=0, max_depth=5, score=0.662356, total=   2.8s\n",
      "[CV] min_child_weight=1, gamma=3, max_depth=3 ........................\n",
      "[CV]  min_child_weight=1, gamma=3, max_depth=3, score=0.653935, total=   1.7s\n",
      "[CV] min_child_weight=1, gamma=3, max_depth=3 ........................\n",
      "[CV]  min_child_weight=1, gamma=3, max_depth=3, score=0.658530, total=   1.7s\n",
      "[CV] min_child_weight=1, gamma=3, max_depth=3 ........................\n",
      "[CV]  min_child_weight=1, gamma=3, max_depth=3, score=0.649138, total=   1.7s\n",
      "[CV] min_child_weight=0, gamma=0, max_depth=4 ........................\n",
      "[CV]  min_child_weight=0, gamma=0, max_depth=4, score=0.664273, total=   2.2s\n",
      "[CV] min_child_weight=0, gamma=0, max_depth=4 ........................\n",
      "[CV]  min_child_weight=0, gamma=0, max_depth=4, score=0.661689, total=   2.2s\n",
      "[CV] min_child_weight=0, gamma=0, max_depth=4 ........................\n",
      "[CV]  min_child_weight=0, gamma=0, max_depth=4, score=0.652011, total=   2.2s\n"
     ]
    },
    {
     "name": "stderr",
     "output_type": "stream",
     "text": [
      "[Parallel(n_jobs=1)]: Done  90 out of  90 | elapsed:  3.0min finished\n"
     ]
    },
    {
     "data": {
      "text/plain": [
       "RandomizedSearchCV(cv=None, error_score='raise',\n",
       "          estimator=XGBClassifier(base_score=0.5, colsample_bylevel=1, colsample_bytree=1,\n",
       "       gamma=0, learning_rate=0.1, max_delta_step=0, max_depth=3,\n",
       "       min_child_weight=1, missing=None, n_estimators=100, nthread=-1,\n",
       "       objective='binary:logistic', reg_alpha=0, reg_lambda=1,\n",
       "       scale_pos_weight=1, seed=0, silent=True, subsample=1),\n",
       "          fit_params={}, iid=True, n_iter=30, n_jobs=1,\n",
       "          param_distributions={'max_depth': [2, 3, 4, 5], 'gamma': [0, 1, 2, 3], 'min_child_weight': [0, 1, 2, 3]},\n",
       "          pre_dispatch='2*n_jobs', random_state=None, refit=False,\n",
       "          return_train_score=True, scoring=None, verbose=5)"
      ]
     },
     "execution_count": 4,
     "metadata": {},
     "output_type": "execute_result"
    }
   ],
   "source": [
    "tuner = RandomizedSearchCV(xgb.XGBClassifier(n_estimators=100), {\n",
    "    'max_depth': [2, 3, 4, 5],\n",
    "    'gamma': [0, 1, 2, 3],\n",
    "    'min_child_weight': [0, 1, 2, 3],\n",
    "}, n_iter=30, refit=False, verbose=5)\n",
    "tuner.fit(train.data, train.target)"
   ]
  },
  {
   "cell_type": "code",
   "execution_count": 5,
   "metadata": {
    "collapsed": false
   },
   "outputs": [
    {
     "data": {
      "text/plain": [
       "(0.65999617004978939, {'gamma': 3, 'max_depth': 5, 'min_child_weight': 3})"
      ]
     },
     "execution_count": 5,
     "metadata": {},
     "output_type": "execute_result"
    }
   ],
   "source": [
    "tuner.best_score_, tuner.best_params_"
   ]
  },
  {
   "cell_type": "code",
   "execution_count": 6,
   "metadata": {
    "collapsed": false,
    "scrolled": true
   },
   "outputs": [
    {
     "name": "stdout",
     "output_type": "stream",
     "text": [
      "[0]\tvalidation_0-error:0.360546\tvalidation_1-error:0.385\n",
      "[1]\tvalidation_0-error:0.346463\tvalidation_1-error:0.376\n",
      "[2]\tvalidation_0-error:0.346146\tvalidation_1-error:0.383\n",
      "[3]\tvalidation_0-error:0.335557\tvalidation_1-error:0.368\n",
      "[4]\tvalidation_0-error:0.338416\tvalidation_1-error:0.363\n",
      "[5]\tvalidation_0-error:0.341487\tvalidation_1-error:0.37\n",
      "[6]\tvalidation_0-error:0.335451\tvalidation_1-error:0.351\n",
      "[7]\tvalidation_0-error:0.335875\tvalidation_1-error:0.354\n",
      "[8]\tvalidation_0-error:0.331533\tvalidation_1-error:0.358\n",
      "[9]\tvalidation_0-error:0.331427\tvalidation_1-error:0.357\n",
      "[10]\tvalidation_0-error:0.329839\tvalidation_1-error:0.349\n",
      "[11]\tvalidation_0-error:0.326874\tvalidation_1-error:0.353\n",
      "[12]\tvalidation_0-error:0.32698\tvalidation_1-error:0.352\n",
      "[13]\tvalidation_0-error:0.323592\tvalidation_1-error:0.358\n",
      "[14]\tvalidation_0-error:0.320309\tvalidation_1-error:0.362\n",
      "[15]\tvalidation_0-error:0.320945\tvalidation_1-error:0.363\n",
      "[16]\tvalidation_0-error:0.318615\tvalidation_1-error:0.359\n",
      "[17]\tvalidation_0-error:0.317133\tvalidation_1-error:0.355\n",
      "[18]\tvalidation_0-error:0.315862\tvalidation_1-error:0.354\n",
      "[19]\tvalidation_0-error:0.314062\tvalidation_1-error:0.36\n",
      "[20]\tvalidation_0-error:0.314062\tvalidation_1-error:0.361\n",
      "[21]\tvalidation_0-error:0.314697\tvalidation_1-error:0.362\n",
      "[22]\tvalidation_0-error:0.311521\tvalidation_1-error:0.361\n",
      "[23]\tvalidation_0-error:0.31025\tvalidation_1-error:0.359\n",
      "[24]\tvalidation_0-error:0.308767\tvalidation_1-error:0.358\n",
      "[25]\tvalidation_0-error:0.307814\tvalidation_1-error:0.36\n",
      "[26]\tvalidation_0-error:0.303579\tvalidation_1-error:0.356\n",
      "[27]\tvalidation_0-error:0.303473\tvalidation_1-error:0.353\n",
      "[28]\tvalidation_0-error:0.301567\tvalidation_1-error:0.35\n",
      "[29]\tvalidation_0-error:0.300191\tvalidation_1-error:0.349\n",
      "[30]\tvalidation_0-error:0.299132\tvalidation_1-error:0.351\n",
      "[31]\tvalidation_0-error:0.297967\tvalidation_1-error:0.349\n",
      "[32]\tvalidation_0-error:0.297226\tvalidation_1-error:0.348\n",
      "[33]\tvalidation_0-error:0.294367\tvalidation_1-error:0.347\n",
      "[34]\tvalidation_0-error:0.293626\tvalidation_1-error:0.344\n",
      "[35]\tvalidation_0-error:0.293202\tvalidation_1-error:0.345\n",
      "[36]\tvalidation_0-error:0.292143\tvalidation_1-error:0.346\n",
      "[37]\tvalidation_0-error:0.291296\tvalidation_1-error:0.345\n",
      "[38]\tvalidation_0-error:0.291084\tvalidation_1-error:0.34\n",
      "[39]\tvalidation_0-error:0.288755\tvalidation_1-error:0.343\n",
      "[40]\tvalidation_0-error:0.288119\tvalidation_1-error:0.341\n",
      "[41]\tvalidation_0-error:0.285896\tvalidation_1-error:0.342\n",
      "[42]\tvalidation_0-error:0.284202\tvalidation_1-error:0.343\n",
      "[43]\tvalidation_0-error:0.285366\tvalidation_1-error:0.342\n",
      "[44]\tvalidation_0-error:0.284519\tvalidation_1-error:0.343\n",
      "[45]\tvalidation_0-error:0.284413\tvalidation_1-error:0.345\n",
      "[46]\tvalidation_0-error:0.283037\tvalidation_1-error:0.35\n",
      "[47]\tvalidation_0-error:0.282931\tvalidation_1-error:0.35\n",
      "[48]\tvalidation_0-error:0.282719\tvalidation_1-error:0.348\n",
      "[49]\tvalidation_0-error:0.282084\tvalidation_1-error:0.348\n",
      "[50]\tvalidation_0-error:0.280813\tvalidation_1-error:0.348\n",
      "[51]\tvalidation_0-error:0.279648\tvalidation_1-error:0.346\n",
      "[52]\tvalidation_0-error:0.279648\tvalidation_1-error:0.348\n",
      "[53]\tvalidation_0-error:0.279013\tvalidation_1-error:0.346\n",
      "[54]\tvalidation_0-error:0.277001\tvalidation_1-error:0.348\n",
      "[55]\tvalidation_0-error:0.275836\tvalidation_1-error:0.344\n",
      "[56]\tvalidation_0-error:0.275307\tvalidation_1-error:0.346\n",
      "[57]\tvalidation_0-error:0.274989\tvalidation_1-error:0.346\n",
      "[58]\tvalidation_0-error:0.274672\tvalidation_1-error:0.346\n",
      "[59]\tvalidation_0-error:0.276154\tvalidation_1-error:0.344\n",
      "[60]\tvalidation_0-error:0.274566\tvalidation_1-error:0.346\n",
      "[61]\tvalidation_0-error:0.27446\tvalidation_1-error:0.347\n",
      "[62]\tvalidation_0-error:0.273401\tvalidation_1-error:0.349\n",
      "[63]\tvalidation_0-error:0.272025\tvalidation_1-error:0.348\n",
      "[64]\tvalidation_0-error:0.271707\tvalidation_1-error:0.349\n",
      "[65]\tvalidation_0-error:0.271707\tvalidation_1-error:0.35\n",
      "[66]\tvalidation_0-error:0.271283\tvalidation_1-error:0.349\n",
      "[67]\tvalidation_0-error:0.268954\tvalidation_1-error:0.348\n",
      "[68]\tvalidation_0-error:0.267789\tvalidation_1-error:0.351\n",
      "[69]\tvalidation_0-error:0.267895\tvalidation_1-error:0.349\n",
      "[70]\tvalidation_0-error:0.266307\tvalidation_1-error:0.35\n",
      "[71]\tvalidation_0-error:0.265354\tvalidation_1-error:0.351\n",
      "[72]\tvalidation_0-error:0.264718\tvalidation_1-error:0.351\n",
      "[73]\tvalidation_0-error:0.263871\tvalidation_1-error:0.348\n",
      "[74]\tvalidation_0-error:0.262812\tvalidation_1-error:0.349\n",
      "[75]\tvalidation_0-error:0.26313\tvalidation_1-error:0.349\n",
      "[76]\tvalidation_0-error:0.262389\tvalidation_1-error:0.351\n",
      "[77]\tvalidation_0-error:0.261542\tvalidation_1-error:0.351\n",
      "[78]\tvalidation_0-error:0.261224\tvalidation_1-error:0.35\n",
      "[79]\tvalidation_0-error:0.259636\tvalidation_1-error:0.354\n",
      "[80]\tvalidation_0-error:0.258789\tvalidation_1-error:0.353\n",
      "[81]\tvalidation_0-error:0.254659\tvalidation_1-error:0.353\n",
      "[82]\tvalidation_0-error:0.253812\tvalidation_1-error:0.352\n",
      "[83]\tvalidation_0-error:0.252859\tvalidation_1-error:0.352\n",
      "[84]\tvalidation_0-error:0.252224\tvalidation_1-error:0.348\n",
      "[85]\tvalidation_0-error:0.252012\tvalidation_1-error:0.351\n",
      "[86]\tvalidation_0-error:0.251588\tvalidation_1-error:0.351\n",
      "[87]\tvalidation_0-error:0.249894\tvalidation_1-error:0.351\n",
      "[88]\tvalidation_0-error:0.249471\tvalidation_1-error:0.356\n",
      "[89]\tvalidation_0-error:0.248729\tvalidation_1-error:0.356\n",
      "[90]\tvalidation_0-error:0.248623\tvalidation_1-error:0.354\n",
      "[91]\tvalidation_0-error:0.248094\tvalidation_1-error:0.356\n",
      "[92]\tvalidation_0-error:0.248094\tvalidation_1-error:0.357\n",
      "[93]\tvalidation_0-error:0.246929\tvalidation_1-error:0.358\n",
      "[94]\tvalidation_0-error:0.2446\tvalidation_1-error:0.354\n",
      "[95]\tvalidation_0-error:0.2446\tvalidation_1-error:0.352\n",
      "[96]\tvalidation_0-error:0.24407\tvalidation_1-error:0.352\n",
      "[97]\tvalidation_0-error:0.243753\tvalidation_1-error:0.351\n",
      "[98]\tvalidation_0-error:0.243647\tvalidation_1-error:0.35\n",
      "[99]\tvalidation_0-error:0.243329\tvalidation_1-error:0.35\n"
     ]
    },
    {
     "data": {
      "text/plain": [
       "XGBClassifier(base_score=0.5, colsample_bylevel=1, colsample_bytree=1,\n",
       "       gamma=3, learning_rate=0.1, max_delta_step=0, max_depth=5,\n",
       "       min_child_weight=3, missing=None, n_estimators=100, nthread=-1,\n",
       "       objective='binary:logistic', reg_alpha=0, reg_lambda=1,\n",
       "       scale_pos_weight=1, seed=0, silent=True, subsample=1)"
      ]
     },
     "execution_count": 6,
     "metadata": {},
     "output_type": "execute_result"
    }
   ],
   "source": [
    "model = xgb.XGBClassifier(**tuner.best_params_)\n",
    "X_train, X_val, y_train, y_val = train_test_split(train.data, train.target, test_size=1000)\n",
    "eval_set = [(X_train, y_train), (X_val, y_val)]\n",
    "model.fit(X_train, y_train, eval_set=eval_set, eval_metric='error')"
   ]
  },
  {
   "cell_type": "code",
   "execution_count": 7,
   "metadata": {
    "collapsed": false
   },
   "outputs": [
    {
     "data": {
      "image/png": "[encoded data removed]",
      "text/plain": [
       "<matplotlib.figure.Figure at 0x7fa932c24a58>"
      ]
     },
     "metadata": {},
     "output_type": "display_data"
    }
   ],
   "source": [
    "def plot_error(model):\n",
    "    plt.figure(figsize=(10, 5))\n",
    "    plt.plot(model.evals_result_['validation_0']['error'], c='r', label='Training error')\n",
    "    if 'validation_1' in model.evals_result_:\n",
    "        plt.plot(model.evals_result_['validation_1']['error'], c='g', label='Validation error')\n",
    "    plt.xlabel('Number of trees')\n",
    "    plt.ylabel('Error')\n",
    "    plt.legend()\n",
    "    plt.grid()\n",
    "\n",
    "plot_error(model)"
   ]
  },
  {
   "cell_type": "code",
   "execution_count": 8,
   "metadata": {
    "collapsed": false
   },
   "outputs": [
    {
     "name": "stdout",
     "output_type": "stream",
     "text": [
      "training accuracy: 0.757\n",
      "             precision    recall  f1-score   support\n",
      "\n",
      "          0       0.76      0.74      0.75      4736\n",
      "          1       0.75      0.77      0.76      4708\n",
      "\n",
      "avg / total       0.76      0.76      0.76      9444\n",
      "\n",
      "validation accuracy: 0.650\n",
      "             precision    recall  f1-score   support\n",
      "\n",
      "          0       0.64      0.63      0.64       486\n",
      "          1       0.66      0.67      0.66       514\n",
      "\n",
      "avg / total       0.65      0.65      0.65      1000\n",
      "\n"
     ]
    }
   ],
   "source": [
    "def report(name, y_true, y_pred):\n",
    "    print('{} accuracy: {:.3f}'.format(name, accuracy_score(y_true, y_pred)))\n",
    "    print(classification_report(y_true, y_pred))\n",
    "\n",
    "report('training', y_train, model.predict(X_train))\n",
    "report('validation', y_val, model.predict(X_val))"
   ]
  },
  {
   "cell_type": "code",
   "execution_count": 9,
   "metadata": {
    "collapsed": false,
    "scrolled": false
   },
   "outputs": [
    {
     "data": {
      "text/html": [
       "<div>\n",
       "<table border=\"1\" class=\"dataframe\">\n",
       "  <thead>\n",
       "    <tr style=\"text-align: right;\">\n",
       "      <th></th>\n",
       "      <th>Feature</th>\n",
       "      <th>Importance</th>\n",
       "    </tr>\n",
       "  </thead>\n",
       "  <tbody>\n",
       "    <tr>\n",
       "      <th>4</th>\n",
       "      <td>Violations1000</td>\n",
       "      <td>5.516804</td>\n",
       "    </tr>\n",
       "    <tr>\n",
       "      <th>1</th>\n",
       "      <td>Y</td>\n",
       "      <td>4.502219</td>\n",
       "    </tr>\n",
       "    <tr>\n",
       "      <th>0</th>\n",
       "      <td>X</td>\n",
       "      <td>4.438808</td>\n",
       "    </tr>\n",
       "    <tr>\n",
       "      <th>3</th>\n",
       "      <td>Violations20</td>\n",
       "      <td>4.438808</td>\n",
       "    </tr>\n",
       "    <tr>\n",
       "      <th>73</th>\n",
       "      <td>Burglary1000</td>\n",
       "      <td>3.804693</td>\n",
       "    </tr>\n",
       "    <tr>\n",
       "      <th>70</th>\n",
       "      <td>Larceny1000</td>\n",
       "      <td>3.297400</td>\n",
       "    </tr>\n",
       "    <tr>\n",
       "      <th>68</th>\n",
       "      <td>MotorcycleViolations1000</td>\n",
       "      <td>3.043754</td>\n",
       "    </tr>\n",
       "    <tr>\n",
       "      <th>130</th>\n",
       "      <td>Calls1000</td>\n",
       "      <td>3.043754</td>\n",
       "    </tr>\n",
       "    <tr>\n",
       "      <th>76</th>\n",
       "      <td>Fraud1000</td>\n",
       "      <td>2.980342</td>\n",
       "    </tr>\n",
       "    <tr>\n",
       "      <th>79</th>\n",
       "      <td>ObstructingJudiciary1000</td>\n",
       "      <td>2.663285</td>\n",
       "    </tr>\n",
       "    <tr>\n",
       "      <th>75</th>\n",
       "      <td>DrivingOnSuspended1000</td>\n",
       "      <td>2.599873</td>\n",
       "    </tr>\n",
       "    <tr>\n",
       "      <th>71</th>\n",
       "      <td>DamageToProperty1000</td>\n",
       "      <td>2.346227</td>\n",
       "    </tr>\n",
       "    <tr>\n",
       "      <th>83</th>\n",
       "      <td>Bribery1000</td>\n",
       "      <td>2.219404</td>\n",
       "    </tr>\n",
       "    <tr>\n",
       "      <th>78</th>\n",
       "      <td>DangerousDrugs1000</td>\n",
       "      <td>2.155993</td>\n",
       "    </tr>\n",
       "    <tr>\n",
       "      <th>69</th>\n",
       "      <td>Assault1000</td>\n",
       "      <td>2.092581</td>\n",
       "    </tr>\n",
       "    <tr>\n",
       "      <th>81</th>\n",
       "      <td>Escape1000</td>\n",
       "      <td>2.029169</td>\n",
       "    </tr>\n",
       "    <tr>\n",
       "      <th>134</th>\n",
       "      <td>CloggedDrain1000</td>\n",
       "      <td>1.965758</td>\n",
       "    </tr>\n",
       "    <tr>\n",
       "      <th>133</th>\n",
       "      <td>RunningWaterInAHomeOrBuilding1000</td>\n",
       "      <td>1.965758</td>\n",
       "    </tr>\n",
       "    <tr>\n",
       "      <th>139</th>\n",
       "      <td>AbandonedVehicle1000</td>\n",
       "      <td>1.902346</td>\n",
       "    </tr>\n",
       "    <tr>\n",
       "      <th>82</th>\n",
       "      <td>Solicitation1000</td>\n",
       "      <td>1.775523</td>\n",
       "    </tr>\n",
       "    <tr>\n",
       "      <th>72</th>\n",
       "      <td>AggravatedAssault1000</td>\n",
       "      <td>1.775523</td>\n",
       "    </tr>\n",
       "    <tr>\n",
       "      <th>77</th>\n",
       "      <td>Robbery1000</td>\n",
       "      <td>1.775523</td>\n",
       "    </tr>\n",
       "    <tr>\n",
       "      <th>67</th>\n",
       "      <td>Crimes1000</td>\n",
       "      <td>1.585289</td>\n",
       "    </tr>\n",
       "    <tr>\n",
       "      <th>131</th>\n",
       "      <td>IllegalDumping1000</td>\n",
       "      <td>1.521877</td>\n",
       "    </tr>\n",
       "    <tr>\n",
       "      <th>137</th>\n",
       "      <td>WaterMainBreak1000</td>\n",
       "      <td>1.521877</td>\n",
       "    </tr>\n",
       "    <tr>\n",
       "      <th>97</th>\n",
       "      <td>Environment1000</td>\n",
       "      <td>1.458465</td>\n",
       "    </tr>\n",
       "    <tr>\n",
       "      <th>132</th>\n",
       "      <td>TreeIssue1000</td>\n",
       "      <td>1.458465</td>\n",
       "    </tr>\n",
       "    <tr>\n",
       "      <th>86</th>\n",
       "      <td>Runaway1000</td>\n",
       "      <td>1.395054</td>\n",
       "    </tr>\n",
       "    <tr>\n",
       "      <th>135</th>\n",
       "      <td>Potholes1000</td>\n",
       "      <td>1.395054</td>\n",
       "    </tr>\n",
       "    <tr>\n",
       "      <th>142</th>\n",
       "      <td>TrashIssue1000</td>\n",
       "      <td>1.331642</td>\n",
       "    </tr>\n",
       "    <tr>\n",
       "      <th>...</th>\n",
       "      <td>...</td>\n",
       "      <td>...</td>\n",
       "    </tr>\n",
       "    <tr>\n",
       "      <th>62</th>\n",
       "      <td>Kidnaping20</td>\n",
       "      <td>0.000000</td>\n",
       "    </tr>\n",
       "    <tr>\n",
       "      <th>61</th>\n",
       "      <td>Health-Safety20</td>\n",
       "      <td>0.000000</td>\n",
       "    </tr>\n",
       "    <tr>\n",
       "      <th>60</th>\n",
       "      <td>OtherBurglary20</td>\n",
       "      <td>0.000000</td>\n",
       "    </tr>\n",
       "    <tr>\n",
       "      <th>59</th>\n",
       "      <td>Homicide20</td>\n",
       "      <td>0.000000</td>\n",
       "    </tr>\n",
       "    <tr>\n",
       "      <th>57</th>\n",
       "      <td>ObstructingThePolice20</td>\n",
       "      <td>0.000000</td>\n",
       "    </tr>\n",
       "    <tr>\n",
       "      <th>56</th>\n",
       "      <td>StolenProperty20</td>\n",
       "      <td>0.000000</td>\n",
       "    </tr>\n",
       "    <tr>\n",
       "      <th>55</th>\n",
       "      <td>Runaway20</td>\n",
       "      <td>0.000000</td>\n",
       "    </tr>\n",
       "    <tr>\n",
       "      <th>54</th>\n",
       "      <td>OuilDisposeOfVehicleToAvoidForfeiture20</td>\n",
       "      <td>0.000000</td>\n",
       "    </tr>\n",
       "    <tr>\n",
       "      <th>52</th>\n",
       "      <td>Bribery20</td>\n",
       "      <td>0.000000</td>\n",
       "    </tr>\n",
       "    <tr>\n",
       "      <th>51</th>\n",
       "      <td>Solicitation20</td>\n",
       "      <td>0.000000</td>\n",
       "    </tr>\n",
       "    <tr>\n",
       "      <th>2</th>\n",
       "      <td>Violations0</td>\n",
       "      <td>0.000000</td>\n",
       "    </tr>\n",
       "    <tr>\n",
       "      <th>34</th>\n",
       "      <td>PublicPeace0</td>\n",
       "      <td>0.000000</td>\n",
       "    </tr>\n",
       "    <tr>\n",
       "      <th>106</th>\n",
       "      <td>FireHydrantIssue0</td>\n",
       "      <td>0.000000</td>\n",
       "    </tr>\n",
       "    <tr>\n",
       "      <th>33</th>\n",
       "      <td>Extortion0</td>\n",
       "      <td>0.000000</td>\n",
       "    </tr>\n",
       "    <tr>\n",
       "      <th>105</th>\n",
       "      <td>WaterMainBreak0</td>\n",
       "      <td>0.000000</td>\n",
       "    </tr>\n",
       "    <tr>\n",
       "      <th>104</th>\n",
       "      <td>TrafficSignIssue0</td>\n",
       "      <td>0.000000</td>\n",
       "    </tr>\n",
       "    <tr>\n",
       "      <th>103</th>\n",
       "      <td>Potholes0</td>\n",
       "      <td>0.000000</td>\n",
       "    </tr>\n",
       "    <tr>\n",
       "      <th>101</th>\n",
       "      <td>RunningWaterInAHomeOrBuilding0</td>\n",
       "      <td>0.000000</td>\n",
       "    </tr>\n",
       "    <tr>\n",
       "      <th>22</th>\n",
       "      <td>Arson0</td>\n",
       "      <td>0.000000</td>\n",
       "    </tr>\n",
       "    <tr>\n",
       "      <th>23</th>\n",
       "      <td>OuilDisposeOfVehicleToAvoidForfeiture0</td>\n",
       "      <td>0.000000</td>\n",
       "    </tr>\n",
       "    <tr>\n",
       "      <th>24</th>\n",
       "      <td>Runaway0</td>\n",
       "      <td>0.000000</td>\n",
       "    </tr>\n",
       "    <tr>\n",
       "      <th>25</th>\n",
       "      <td>StolenProperty0</td>\n",
       "      <td>0.000000</td>\n",
       "    </tr>\n",
       "    <tr>\n",
       "      <th>26</th>\n",
       "      <td>ObstructingThePolice0</td>\n",
       "      <td>0.000000</td>\n",
       "    </tr>\n",
       "    <tr>\n",
       "      <th>27</th>\n",
       "      <td>FamilyOffense0</td>\n",
       "      <td>0.000000</td>\n",
       "    </tr>\n",
       "    <tr>\n",
       "      <th>28</th>\n",
       "      <td>Homicide0</td>\n",
       "      <td>0.000000</td>\n",
       "    </tr>\n",
       "    <tr>\n",
       "      <th>29</th>\n",
       "      <td>OtherBurglary0</td>\n",
       "      <td>0.000000</td>\n",
       "    </tr>\n",
       "    <tr>\n",
       "      <th>30</th>\n",
       "      <td>Health-Safety0</td>\n",
       "      <td>0.000000</td>\n",
       "    </tr>\n",
       "    <tr>\n",
       "      <th>31</th>\n",
       "      <td>Kidnaping0</td>\n",
       "      <td>0.000000</td>\n",
       "    </tr>\n",
       "    <tr>\n",
       "      <th>32</th>\n",
       "      <td>Forgery0</td>\n",
       "      <td>0.000000</td>\n",
       "    </tr>\n",
       "    <tr>\n",
       "      <th>21</th>\n",
       "      <td>Bribery0</td>\n",
       "      <td>0.000000</td>\n",
       "    </tr>\n",
       "  </tbody>\n",
       "</table>\n",
       "<p>146 rows × 2 columns</p>\n",
       "</div>"
      ],
      "text/plain": [
       "                                     Feature  Importance\n",
       "4                             Violations1000    5.516804\n",
       "1                                          Y    4.502219\n",
       "0                                          X    4.438808\n",
       "3                               Violations20    4.438808\n",
       "73                              Burglary1000    3.804693\n",
       "70                               Larceny1000    3.297400\n",
       "68                  MotorcycleViolations1000    3.043754\n",
       "130                                Calls1000    3.043754\n",
       "76                                 Fraud1000    2.980342\n",
       "79                  ObstructingJudiciary1000    2.663285\n",
       "75                    DrivingOnSuspended1000    2.599873\n",
       "71                      DamageToProperty1000    2.346227\n",
       "83                               Bribery1000    2.219404\n",
       "78                        DangerousDrugs1000    2.155993\n",
       "69                               Assault1000    2.092581\n",
       "81                                Escape1000    2.029169\n",
       "134                         CloggedDrain1000    1.965758\n",
       "133        RunningWaterInAHomeOrBuilding1000    1.965758\n",
       "139                     AbandonedVehicle1000    1.902346\n",
       "82                          Solicitation1000    1.775523\n",
       "72                     AggravatedAssault1000    1.775523\n",
       "77                               Robbery1000    1.775523\n",
       "67                                Crimes1000    1.585289\n",
       "131                       IllegalDumping1000    1.521877\n",
       "137                       WaterMainBreak1000    1.521877\n",
       "97                           Environment1000    1.458465\n",
       "132                            TreeIssue1000    1.458465\n",
       "86                               Runaway1000    1.395054\n",
       "135                             Potholes1000    1.395054\n",
       "142                           TrashIssue1000    1.331642\n",
       "..                                       ...         ...\n",
       "62                               Kidnaping20    0.000000\n",
       "61                           Health-Safety20    0.000000\n",
       "60                           OtherBurglary20    0.000000\n",
       "59                                Homicide20    0.000000\n",
       "57                    ObstructingThePolice20    0.000000\n",
       "56                          StolenProperty20    0.000000\n",
       "55                                 Runaway20    0.000000\n",
       "54   OuilDisposeOfVehicleToAvoidForfeiture20    0.000000\n",
       "52                                 Bribery20    0.000000\n",
       "51                            Solicitation20    0.000000\n",
       "2                                Violations0    0.000000\n",
       "34                              PublicPeace0    0.000000\n",
       "106                        FireHydrantIssue0    0.000000\n",
       "33                                Extortion0    0.000000\n",
       "105                          WaterMainBreak0    0.000000\n",
       "104                        TrafficSignIssue0    0.000000\n",
       "103                                Potholes0    0.000000\n",
       "101           RunningWaterInAHomeOrBuilding0    0.000000\n",
       "22                                    Arson0    0.000000\n",
       "23    OuilDisposeOfVehicleToAvoidForfeiture0    0.000000\n",
       "24                                  Runaway0    0.000000\n",
       "25                           StolenProperty0    0.000000\n",
       "26                     ObstructingThePolice0    0.000000\n",
       "27                            FamilyOffense0    0.000000\n",
       "28                                 Homicide0    0.000000\n",
       "29                            OtherBurglary0    0.000000\n",
       "30                            Health-Safety0    0.000000\n",
       "31                                Kidnaping0    0.000000\n",
       "32                                  Forgery0    0.000000\n",
       "21                                  Bribery0    0.000000\n",
       "\n",
       "[146 rows x 2 columns]"
      ]
     },
     "execution_count": 9,
     "metadata": {},
     "output_type": "execute_result"
    }
   ],
   "source": [
    "feature_importances = pd.DataFrame(list(zip(train.feature_names, model.feature_importances_ * 100)))\n",
    "feature_importances.rename(columns={0: 'Feature', 1: 'Importance'}, inplace=True)\n",
    "feature_importances.sort_values(by='Importance', ascending=False)"
   ]
  },
  {
   "cell_type": "markdown",
   "metadata": {},
   "source": [
    "# Simple neural network"
   ]
  },
  {
   "cell_type": "code",
   "execution_count": 10,
   "metadata": {
    "collapsed": false,
    "scrolled": true
   },
   "outputs": [
    {
     "name": "stdout",
     "output_type": "stream",
     "text": [
      "Iteration 1, loss = 7.72905700\n",
      "Iteration 2, loss = 4.51496447\n",
      "Iteration 3, loss = 3.89782809\n",
      "Iteration 4, loss = 3.06112113\n",
      "Iteration 5, loss = 2.13262769\n",
      "Iteration 6, loss = 1.53234133\n",
      "Iteration 7, loss = 1.58183494\n",
      "Iteration 8, loss = 1.42132515\n",
      "Iteration 9, loss = 1.14621616\n",
      "Iteration 10, loss = 1.11693602\n",
      "Iteration 11, loss = 0.91731306\n",
      "Iteration 12, loss = 1.00186730\n",
      "Iteration 13, loss = 0.87945407\n",
      "Iteration 14, loss = 0.85743946\n",
      "Iteration 15, loss = 0.87569216\n",
      "Iteration 16, loss = 0.88992081\n",
      "Iteration 17, loss = 0.91750220\n",
      "Training loss did not improve more than tol=0.000100 for two consecutive epochs. Stopping.\n"
     ]
    },
    {
     "data": {
      "text/plain": [
       "MLPClassifier(activation='relu', alpha=0.0001, batch_size='auto', beta_1=0.9,\n",
       "       beta_2=0.999, early_stopping=False, epsilon=1e-08,\n",
       "       hidden_layer_sizes=[300, 300, 300], learning_rate='adaptive',\n",
       "       learning_rate_init=0.001, max_iter=200, momentum=0.9,\n",
       "       nesterovs_momentum=True, power_t=0.5, random_state=None,\n",
       "       shuffle=True, solver='adam', tol=0.0001, validation_fraction=0.2,\n",
       "       verbose=True, warm_start=False)"
      ]
     },
     "execution_count": 10,
     "metadata": {},
     "output_type": "execute_result"
    }
   ],
   "source": [
    "from sklearn.neural_network import MLPClassifier\n",
    "\n",
    "nn = MLPClassifier(\n",
    "    hidden_layer_sizes=[300, 300, 300],\n",
    "    learning_rate='adaptive',\n",
    "    validation_fraction=0.2,\n",
    "    verbose=True,\n",
    ")\n",
    "nn.fit(train.data, train.target)"
   ]
  },
  {
   "cell_type": "code",
   "execution_count": 11,
   "metadata": {
    "collapsed": false
   },
   "outputs": [
    {
     "data": {
      "image/png": "[encoded data removed]",
      "text/plain": [
       "<matplotlib.figure.Figure at 0x7fa932396c50>"
      ]
     },
     "metadata": {},
     "output_type": "display_data"
    }
   ],
   "source": [
    "plt.figure(figsize=(10, 5))\n",
    "plt.plot(nn.loss_curve_, c='r', label='training')\n",
    "plt.ylabel('Loss')\n",
    "plt.legend()\n",
    "plt.grid()"
   ]
  },
  {
   "cell_type": "code",
   "execution_count": 12,
   "metadata": {
    "collapsed": false
   },
   "outputs": [
    {
     "name": "stdout",
     "output_type": "stream",
     "text": [
      "train accuracy: 0.589\n",
      "             precision    recall  f1-score   support\n",
      "\n",
      "          0       0.56      0.78      0.66      5222\n",
      "          1       0.65      0.40      0.49      5222\n",
      "\n",
      "avg / total       0.60      0.59      0.57     10444\n",
      "\n"
     ]
    }
   ],
   "source": [
    "report('train', train.target, nn.predict(train.data))"
   ]
  },
  {
   "cell_type": "markdown",
   "metadata": {},
   "source": [
    "# Final model"
   ]
  },
  {
   "cell_type": "code",
   "execution_count": 13,
   "metadata": {
    "collapsed": false,
    "scrolled": true
   },
   "outputs": [
    {
     "name": "stdout",
     "output_type": "stream",
     "text": [
      "[0]\tvalidation_0-error:0.37026\n",
      "[1]\tvalidation_0-error:0.364803\n",
      "[2]\tvalidation_0-error:0.358483\n",
      "[3]\tvalidation_0-error:0.357813\n",
      "[4]\tvalidation_0-error:0.351398\n",
      "[5]\tvalidation_0-error:0.346898\n",
      "[6]\tvalidation_0-error:0.345653\n",
      "[7]\tvalidation_0-error:0.34393\n",
      "[8]\tvalidation_0-error:0.339046\n",
      "[9]\tvalidation_0-error:0.336078\n",
      "[10]\tvalidation_0-error:0.334833\n",
      "[11]\tvalidation_0-error:0.334642\n",
      "[12]\tvalidation_0-error:0.330525\n",
      "[13]\tvalidation_0-error:0.327461\n",
      "[14]\tvalidation_0-error:0.326886\n",
      "[15]\tvalidation_0-error:0.328035\n",
      "[16]\tvalidation_0-error:0.326407\n",
      "[17]\tvalidation_0-error:0.325163\n",
      "[18]\tvalidation_0-error:0.323344\n",
      "[19]\tvalidation_0-error:0.324301\n",
      "[20]\tvalidation_0-error:0.321237\n",
      "[21]\tvalidation_0-error:0.316928\n",
      "[22]\tvalidation_0-error:0.317024\n",
      "[23]\tvalidation_0-error:0.309843\n",
      "[24]\tvalidation_0-error:0.311375\n",
      "[25]\tvalidation_0-error:0.309077\n",
      "[26]\tvalidation_0-error:0.307641\n",
      "[27]\tvalidation_0-error:0.307353\n",
      "[28]\tvalidation_0-error:0.303045\n",
      "[29]\tvalidation_0-error:0.302949\n",
      "[30]\tvalidation_0-error:0.301417\n",
      "[31]\tvalidation_0-error:0.300172\n",
      "[32]\tvalidation_0-error:0.298545\n",
      "[33]\tvalidation_0-error:0.297108\n",
      "[34]\tvalidation_0-error:0.296534\n",
      "[35]\tvalidation_0-error:0.294044\n",
      "[36]\tvalidation_0-error:0.290214\n",
      "[37]\tvalidation_0-error:0.289736\n",
      "[38]\tvalidation_0-error:0.289257\n",
      "[39]\tvalidation_0-error:0.288204\n",
      "[40]\tvalidation_0-error:0.286672\n",
      "[41]\tvalidation_0-error:0.286097\n",
      "[42]\tvalidation_0-error:0.284948\n",
      "[43]\tvalidation_0-error:0.284087\n",
      "[44]\tvalidation_0-error:0.283129\n",
      "[45]\tvalidation_0-error:0.281789\n",
      "[46]\tvalidation_0-error:0.281214\n",
      "[47]\tvalidation_0-error:0.281693\n",
      "[48]\tvalidation_0-error:0.28131\n",
      "[49]\tvalidation_0-error:0.28064\n",
      "[50]\tvalidation_0-error:0.279874\n",
      "[51]\tvalidation_0-error:0.279108\n",
      "[52]\tvalidation_0-error:0.278916\n",
      "[53]\tvalidation_0-error:0.278725\n",
      "[54]\tvalidation_0-error:0.278533\n",
      "[55]\tvalidation_0-error:0.278246\n",
      "[56]\tvalidation_0-error:0.277959\n",
      "[57]\tvalidation_0-error:0.277193\n",
      "[58]\tvalidation_0-error:0.276139\n",
      "[59]\tvalidation_0-error:0.274799\n",
      "[60]\tvalidation_0-error:0.27365\n",
      "[61]\tvalidation_0-error:0.272309\n",
      "[62]\tvalidation_0-error:0.272118\n",
      "[63]\tvalidation_0-error:0.272214\n",
      "[64]\tvalidation_0-error:0.271543\n",
      "[65]\tvalidation_0-error:0.27049\n",
      "[66]\tvalidation_0-error:0.27049\n",
      "[67]\tvalidation_0-error:0.269437\n",
      "[68]\tvalidation_0-error:0.26915\n",
      "[69]\tvalidation_0-error:0.267522\n",
      "[70]\tvalidation_0-error:0.266756\n",
      "[71]\tvalidation_0-error:0.26666\n",
      "[72]\tvalidation_0-error:0.266277\n",
      "[73]\tvalidation_0-error:0.264841\n",
      "[74]\tvalidation_0-error:0.263309\n",
      "[75]\tvalidation_0-error:0.263213\n",
      "[76]\tvalidation_0-error:0.26283\n",
      "[77]\tvalidation_0-error:0.262064\n",
      "[78]\tvalidation_0-error:0.261011\n",
      "[79]\tvalidation_0-error:0.260724\n",
      "[80]\tvalidation_0-error:0.258139\n",
      "[81]\tvalidation_0-error:0.257277\n",
      "[82]\tvalidation_0-error:0.25766\n",
      "[83]\tvalidation_0-error:0.257277\n",
      "[84]\tvalidation_0-error:0.256894\n",
      "[85]\tvalidation_0-error:0.255649\n",
      "[86]\tvalidation_0-error:0.255553\n",
      "[87]\tvalidation_0-error:0.254979\n",
      "[88]\tvalidation_0-error:0.255075\n",
      "[89]\tvalidation_0-error:0.2545\n",
      "[90]\tvalidation_0-error:0.253351\n",
      "[91]\tvalidation_0-error:0.252681\n",
      "[92]\tvalidation_0-error:0.252106\n",
      "[93]\tvalidation_0-error:0.250862\n",
      "[94]\tvalidation_0-error:0.250574\n",
      "[95]\tvalidation_0-error:0.250192\n",
      "[96]\tvalidation_0-error:0.24933\n",
      "[97]\tvalidation_0-error:0.248372\n",
      "[98]\tvalidation_0-error:0.248372\n",
      "[99]\tvalidation_0-error:0.247128\n"
     ]
    },
    {
     "data": {
      "text/plain": [
       "XGBClassifier(base_score=0.5, colsample_bylevel=1, colsample_bytree=1,\n",
       "       gamma=3, learning_rate=0.1, max_delta_step=0, max_depth=5,\n",
       "       min_child_weight=3, missing=None, n_estimators=100, nthread=-1,\n",
       "       objective='binary:logistic', reg_alpha=0, reg_lambda=1,\n",
       "       scale_pos_weight=1, seed=0, silent=True, subsample=1)"
      ]
     },
     "execution_count": 13,
     "metadata": {},
     "output_type": "execute_result"
    }
   ],
   "source": [
    "model = xgb.XGBClassifier(**tuner.best_params_)\n",
    "eval_set = [(train.data, train.target)]\n",
    "model.fit(train.data, train.target, eval_set=eval_set, eval_metric='error')"
   ]
  },
  {
   "cell_type": "code",
   "execution_count": 14,
   "metadata": {
    "collapsed": false
   },
   "outputs": [
    {
     "data": {
      "image/png": "[encoded data removed]",
      "text/plain": [
       "<matplotlib.figure.Figure at 0x7fa9322c6a20>"
      ]
     },
     "metadata": {},
     "output_type": "display_data"
    }
   ],
   "source": [
    "plot_error(model)"
   ]
  },
  {
   "cell_type": "code",
   "execution_count": 15,
   "metadata": {
    "collapsed": false
   },
   "outputs": [
    {
     "name": "stdout",
     "output_type": "stream",
     "text": [
      "test accuracy: 0.647\n",
      "             precision    recall  f1-score   support\n",
      "\n",
      "          0       0.65      0.65      0.65      1000\n",
      "          1       0.65      0.65      0.65      1000\n",
      "\n",
      "avg / total       0.65      0.65      0.65      2000\n",
      "\n"
     ]
    }
   ],
   "source": [
    "report('test', test.target, model.predict(test.data))"
   ]
  }
 ],
 "metadata": {
  "anaconda-cloud": {},
  "kernelspec": {
   "display_name": "Python [conda env:ds]",
   "language": "python",
   "name": "conda-env-ds-py"
  },
  "language_info": {
   "codemirror_mode": {
    "name": "ipython",
    "version": 3
   },
   "file_extension": ".py",
   "mimetype": "text/x-python",
   "name": "python",
   "nbconvert_exporter": "python",
   "pygments_lexer": "ipython3",
   "version": "3.5.3"
  }
 },
 "nbformat": 4,
 "nbformat_minor": 2
}
